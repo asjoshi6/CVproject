{
  "nbformat": 4,
  "nbformat_minor": 0,
  "metadata": {
    "colab": {
      "provenance": []
    },
    "kernelspec": {
      "name": "python3",
      "display_name": "Python 3"
    },
    "language_info": {
      "name": "python"
    },
    "accelerator": "GPU"
  },
  "cells": [
    {
      "cell_type": "code",
      "execution_count": null,
      "metadata": {
        "colab": {
          "base_uri": "https://localhost:8080/"
        },
        "id": "NsP1kuaK2eIY",
        "outputId": "767ac806-cd1a-485c-b4aa-d9689336fb8d"
      },
      "outputs": [
        {
          "output_type": "stream",
          "name": "stdout",
          "text": [
            "Mounted at /content/gdrive\n"
          ]
        }
      ],
      "source": [
        "from google.colab import drive\n",
        "drive.mount('/content/gdrive')"
      ]
    },
    {
      "cell_type": "code",
      "source": [
        "import torch\n",
        "import torch.nn as nn\n",
        "import torch.nn.functional as F\n",
        "import torch.optim as optim\n",
        "import torch.utils.data as data\n",
        "\n",
        "# import torchvision.transforms as transforms\n",
        "import torchvision\n",
        "from torchvision import transforms, datasets\n",
        "\n",
        "from sklearn import decomposition\n",
        "from sklearn import manifold\n",
        "from sklearn.metrics import confusion_matrix\n",
        "from sklearn.metrics import ConfusionMatrixDisplay\n",
        "import matplotlib.pyplot as plt\n",
        "%matplotlib inline\n",
        "import numpy as np\n",
        "\n",
        "import copy\n",
        "import random\n",
        "import time\n",
        "from tqdm import tqdm"
      ],
      "metadata": {
        "id": "-R2gGn4g2j8x"
      },
      "execution_count": null,
      "outputs": []
    },
    {
      "cell_type": "code",
      "source": [
        "torch.backends.cudnn.deterministic = True\n",
        "torch.backends.cudnn.benchmark = False\n",
        "device = torch.device('cuda' if torch.cuda.is_available() else 'cpu')\n",
        "print(\"Device:\",device)"
      ],
      "metadata": {
        "colab": {
          "base_uri": "https://localhost:8080/"
        },
        "id": "WH6vLldt2l6w",
        "outputId": "5b3ada5b-0b4b-4cda-ba0d-0c3f477e7b72"
      },
      "execution_count": null,
      "outputs": [
        {
          "output_type": "stream",
          "name": "stdout",
          "text": [
            "Device: cuda\n"
          ]
        }
      ]
    },
    {
      "cell_type": "code",
      "source": [
        "SEED = 100\n",
        "\n",
        "torch.manual_seed(SEED)\n",
        "torch.cuda.manual_seed(SEED)\n",
        "torch.backends.cudnn.deterministic = True\n",
        "random.seed(SEED)\n",
        "np.random.seed(SEED)"
      ],
      "metadata": {
        "id": "eKNr5XCx2pUa"
      },
      "execution_count": null,
      "outputs": []
    },
    {
      "cell_type": "code",
      "source": [
        "AUGMENTATION = False\n",
        "NORMALIZATION = True\n",
        "\n",
        "if AUGMENTATION :\n",
        "  print(\"AUGMENTATION\")\n",
        "  train_transform = transforms.Compose([\n",
        "                              transforms.RandomHorizontalFlip(),\n",
        "                              transforms.RandomVerticalFlip(),\n",
        "                              transforms.ColorJitter(brightness=2),\n",
        "                              transforms.Resize((32,32)),\n",
        "                              transforms.ToTensor()\n",
        "                                        ])\n",
        "\n",
        "  test_transform = transforms.Compose([\n",
        "                            transforms.Resize((32,32)),\n",
        "                             transforms.ToTensor()\n",
        "                                       ])\n",
        "\n",
        "elif AUGMENTATION and NORMALIZATION:\n",
        "  print(\"AUGMENTATION and NORMALIZATION\")\n",
        "  train_transform = transforms.Compose([\n",
        "                              transforms.RandomHorizontalFlip(),\n",
        "                              transforms.RandomVerticalFlip(),\n",
        "                              transforms.ColorJitter(brightness=2),\n",
        "                              transforms.Resize((32,32)),\n",
        "                              transforms.ToTensor(),\n",
        "                              transforms.Normalize((0.5, 0.5, 0.5), (0.5, 0.5, 0.5))\n",
        "                                        ])\n",
        "\n",
        "  test_transform = transforms.Compose([\n",
        "                             transforms.Resize((32,32)),\n",
        "                             transforms.ToTensor(),\n",
        "                             transforms.Normalize((0.5, 0.5, 0.5), (0.5, 0.5, 0.5))\n",
        "                                       ])\n",
        "\n",
        "elif NORMALIZATION and (not AUGMENTATION):\n",
        "  print(\"No AUGMENTATION and NORMALIZATION\")\n",
        "  train_transform = transforms.Compose([\n",
        "       transforms.Resize((32,32)),\n",
        "       transforms.ToTensor(),\n",
        "       transforms.Normalize((0.5, 0.5, 0.5), (0.5, 0.5, 0.5))\n",
        "       ])\n",
        "\n",
        "  test_transform = transforms.Compose([\n",
        "       transforms.Resize((32,32)),\n",
        "       transforms.ToTensor(),\n",
        "       transforms.Normalize((0.5, 0.5, 0.5), (0.5, 0.5, 0.5))])\n",
        "\n",
        "elif (not NORMALIZATION) and (not AUGMENTATION):\n",
        "  print(\"No AUGMENTATION and  No NORMALIZATION\")\n",
        "  train_transform = transforms.Compose(\n",
        "      [transforms.Resize((32,32)),transforms.ToTensor()])\n",
        "\n",
        "  test_transform = transforms.Compose(\n",
        "      [transforms.Resize((32,32)),transforms.ToTensor()])"
      ],
      "metadata": {
        "colab": {
          "base_uri": "https://localhost:8080/"
        },
        "id": "4k5CuCsV2tLJ",
        "outputId": "3a15d8a4-1b05-40b2-9ef7-8b2ca5ae7f3f"
      },
      "execution_count": null,
      "outputs": [
        {
          "output_type": "stream",
          "name": "stdout",
          "text": [
            "No AUGMENTATION and NORMALIZATION\n"
          ]
        }
      ]
    },
    {
      "cell_type": "code",
      "source": [
        "CIFAR = False\n",
        "\n",
        "if CIFAR:\n",
        "  trainset = torchvision.datasets.CIFAR10(root='/content/drive/My Drive/CV-P3/CIFAR-data', train=True,\n",
        "                                          download=True, transform=train_transform)\n",
        "\n",
        "  testset = torchvision.datasets.CIFAR10(root='/content/drive/My Drive/CV-P3/CIFAR-data', train=False,\n",
        "                                        download=True, transform=test_transform)\n",
        "\n",
        "  print(\"Type - CIFAR\")\n",
        "else:\n",
        "\n",
        "  TRAIN_PATH= '/content/gdrive/MyDrive/DataCVproject/train'\n",
        "  TEST_PATH = '/content/gdrive/MyDrive/DataCVproject/test'\n",
        "\n",
        "  trainset = datasets.ImageFolder(root= TRAIN_PATH, transform=train_transform)\n",
        "  testset = datasets.ImageFolder(root= TEST_PATH, transform=test_transform)\n",
        "\n",
        "  print(\"Type - FDDB\")\n",
        "\n",
        "\n",
        "print(\"Length of Trainset - \",len(trainset))\n",
        "print(\"Length of Testset - \",len(testset))"
      ],
      "metadata": {
        "colab": {
          "base_uri": "https://localhost:8080/"
        },
        "id": "G47w5_722xbG",
        "outputId": "61203966-3390-47d2-f5b7-51de289c3aad"
      },
      "execution_count": null,
      "outputs": [
        {
          "output_type": "stream",
          "name": "stdout",
          "text": [
            "Type - FDDB\n",
            "Length of Trainset -  2000\n",
            "Length of Testset -  200\n"
          ]
        }
      ]
    },
    {
      "cell_type": "code",
      "source": [
        "VAL_SPLIT = 0.9 # 90%- Train, 10%- Validation\n",
        "\n",
        "train_examples = int(len(trainset) * VAL_SPLIT)\n",
        "valid_examples = len(trainset) - train_examples\n",
        "\n",
        "\n",
        "\n",
        "train_data_, valid_data_ = data.random_split(trainset,\n",
        "                                          [train_examples,valid_examples])\n",
        "\n",
        "\n",
        "\n",
        "print(f'Complete data')\n",
        "print(f'Images in training data: {len(train_data_)}')\n",
        "print(f'Images in validation data: {len(valid_data_)}')\n",
        "print(f'Images in test data: {len(testset)}')\n",
        "\n",
        "\n",
        "valid_data_ = copy.deepcopy(valid_data_) # create a deep copy to avoid changing main object\n",
        "valid_data_.dataset.transform = test_transform # apply test transforms to have consistency with test data\n",
        "\n",
        "\n",
        "BATCH_SIZE = 32 # data batch_size\n",
        "\n",
        "train_data = data.DataLoader(train_data_,\n",
        "                                shuffle = True,\n",
        "                                batch_size = BATCH_SIZE)\n",
        "\n",
        "valid_data = data.DataLoader(valid_data_,\n",
        "                                batch_size = BATCH_SIZE)\n",
        "\n",
        "test_data = data.DataLoader(testset,\n",
        "                                batch_size = BATCH_SIZE)\n",
        "\n",
        "print(f'Batch Size: {BATCH_SIZE}')\n",
        "print(f'Batches in training data: {len(train_data)}')\n",
        "print(f'Batches in validation data: {len(valid_data)}')\n",
        "print(f'Batches in test data: {len(test_data)}')"
      ],
      "metadata": {
        "colab": {
          "base_uri": "https://localhost:8080/"
        },
        "id": "FzJQyNei08Le",
        "outputId": "d7603430-f8ce-4434-da8b-6fb34ac7d53d"
      },
      "execution_count": null,
      "outputs": [
        {
          "output_type": "stream",
          "name": "stdout",
          "text": [
            "Complete data\n",
            "Images in training data: 1800\n",
            "Images in validation data: 200\n",
            "Images in test data: 200\n",
            "Batch Size: 32\n",
            "Batches in training data: 57\n",
            "Batches in validation data: 7\n",
            "Batches in test data: 7\n"
          ]
        }
      ]
    },
    {
      "cell_type": "code",
      "source": [
        "class LeNet_V(nn.Module):\n",
        "    def __init__(self, no_output):\n",
        "        super().__init__()\n",
        "\n",
        "        #first conv2d layer - [3,6,5]\n",
        "        self.conv1 = nn.Conv2d(in_channels = 3,\n",
        "                               out_channels = 6,\n",
        "                               kernel_size = 5)\n",
        "\n",
        "        nn.init.xavier_uniform_(self.conv1.weight)\n",
        "        self.conv1_bn = nn.BatchNorm2d(6)\n",
        "\n",
        "        #second conv2d layer - [6,16,5]\n",
        "        self.conv2 = nn.Conv2d(in_channels = 6,\n",
        "                               out_channels = 16,\n",
        "                               kernel_size = 5)\n",
        "\n",
        "        nn.init.xavier_uniform_(self.conv2.weight)\n",
        "        self.conv2_bn = nn.BatchNorm2d(16)\n",
        "\n",
        "        #fully connected layers\n",
        "        self.fc_1 = nn.Linear(16 * 5 * 5, 120)\n",
        "        nn.init.xavier_uniform_(self.fc_1.weight)\n",
        "        self.fc_1_bn = nn.BatchNorm1d(120)\n",
        "\n",
        "        self.fc_2 = nn.Linear(120, 84)\n",
        "        nn.init.xavier_uniform_(self.fc_2.weight)\n",
        "        self.fc_2_bn = nn.BatchNorm1d(84)\n",
        "\n",
        "        self.fc_3 = nn.Linear(84, no_output)\n",
        "        nn.init.xavier_uniform_(self.fc_3.weight)\n",
        "\n",
        "    # Forward pass\n",
        "    def forward(self, x):\n",
        "\n",
        "        #x = [batch size, 3, 32, 32]\n",
        "\n",
        "        x = F.relu(F.max_pool2d(self.conv1_bn(self.conv1(x)), kernel_size = 2))\n",
        "\n",
        "        #x = [batch size, 6, 14, 14]\n",
        "\n",
        "        x = F.relu(F.max_pool2d(self.conv2_bn(self.conv2(x)), kernel_size = 2))\n",
        "\n",
        "        #x = [batch size, 16, 5, 5]\n",
        "\n",
        "\n",
        "        x = x.view(x.shape[0], -1)\n",
        "\n",
        "        #x = [batch size, 16*4*4 = 256]\n",
        "\n",
        "        x = F.relu(self.fc_1_bn(self.fc_1(x)))\n",
        "\n",
        "        #x = [batch size, 120]\n",
        "\n",
        "        x = F.relu(self.fc_2_bn(self.fc_2(x)))\n",
        "\n",
        "        x = self.fc_3(x)\n",
        "\n",
        "        #x = [batch size, output dim]\n",
        "\n",
        "        return x\n"
      ],
      "metadata": {
        "id": "rtYMEg3L1AjP"
      },
      "execution_count": null,
      "outputs": []
    },
    {
      "cell_type": "code",
      "source": [
        "def count_parameters(model):\n",
        "    return sum(p.numel() for p in model.parameters() if p.requires_grad)"
      ],
      "metadata": {
        "id": "xHtagPrh1FA8"
      },
      "execution_count": null,
      "outputs": []
    },
    {
      "cell_type": "code",
      "source": [
        "if CIFAR:\n",
        "  NO_OUTPUT = 10\n",
        "else:\n",
        "  NO_OUTPUT = 2\n",
        "\n",
        "model = LeNet_V(NO_OUTPUT)"
      ],
      "metadata": {
        "id": "l_yVRjxE1G6n"
      },
      "execution_count": null,
      "outputs": []
    },
    {
      "cell_type": "code",
      "source": [
        "print(f'The model has {count_parameters(model):,} trainable parameters')\n",
        "print(model)"
      ],
      "metadata": {
        "colab": {
          "base_uri": "https://localhost:8080/"
        },
        "id": "O9vzZpr51KUw",
        "outputId": "90505f7d-22b8-482c-c75e-df18a5083e84"
      },
      "execution_count": null,
      "outputs": [
        {
          "output_type": "stream",
          "name": "stdout",
          "text": [
            "The model has 61,778 trainable parameters\n",
            "LeNet_V(\n",
            "  (conv1): Conv2d(3, 6, kernel_size=(5, 5), stride=(1, 1))\n",
            "  (conv1_bn): BatchNorm2d(6, eps=1e-05, momentum=0.1, affine=True, track_running_stats=True)\n",
            "  (conv2): Conv2d(6, 16, kernel_size=(5, 5), stride=(1, 1))\n",
            "  (conv2_bn): BatchNorm2d(16, eps=1e-05, momentum=0.1, affine=True, track_running_stats=True)\n",
            "  (fc_1): Linear(in_features=400, out_features=120, bias=True)\n",
            "  (fc_1_bn): BatchNorm1d(120, eps=1e-05, momentum=0.1, affine=True, track_running_stats=True)\n",
            "  (fc_2): Linear(in_features=120, out_features=84, bias=True)\n",
            "  (fc_2_bn): BatchNorm1d(84, eps=1e-05, momentum=0.1, affine=True, track_running_stats=True)\n",
            "  (fc_3): Linear(in_features=84, out_features=2, bias=True)\n",
            ")\n"
          ]
        }
      ]
    },
    {
      "cell_type": "code",
      "source": [
        "def calculate_accuracy(y_pred, y):\n",
        "    top_pred = y_pred.argmax(1, keepdim = True)\n",
        "    correct = top_pred.eq(y.view_as(top_pred)).sum()\n",
        "    acc = correct.float() / y.shape[0]\n",
        "    return acc"
      ],
      "metadata": {
        "id": "v_EJoSu71LZg"
      },
      "execution_count": null,
      "outputs": []
    },
    {
      "cell_type": "code",
      "source": [
        "def train(model, data_iterator, optimizer, criterion, device):\n",
        "\n",
        "    epoch_loss = 0\n",
        "    epoch_acc = 0\n",
        "\n",
        "    # model in train mode\n",
        "    model.train()\n",
        "\n",
        "    for (x, y) in data_iterator:\n",
        "\n",
        "        # load variable in device memory\n",
        "        x = x.to(device)\n",
        "        y = y.to(device)\n",
        "\n",
        "        # make gradient as zero\n",
        "        optimizer.zero_grad()\n",
        "\n",
        "        # predict output\n",
        "        y_pred = model(x)\n",
        "\n",
        "        # calculate loss\n",
        "        loss = criterion(y_pred, y)\n",
        "\n",
        "        # backward propagation\n",
        "        loss.backward()\n",
        "\n",
        "        # calculate accuracy\n",
        "        acc = calculate_accuracy(y_pred, y)\n",
        "\n",
        "        # take step as per learning rate & regularization\n",
        "        optimizer.step()\n",
        "\n",
        "        # calculate losses\n",
        "        epoch_loss += loss.item()\n",
        "        epoch_acc += acc.item()\n",
        "\n",
        "    return epoch_loss / len(data_iterator), epoch_acc / len(data_iterator)\n"
      ],
      "metadata": {
        "id": "bz3IRsJZ1Qqm"
      },
      "execution_count": null,
      "outputs": []
    },
    {
      "cell_type": "code",
      "source": [
        "def evaluate(model, data_iterator, criterion, device):\n",
        "\n",
        "    epoch_loss = 0\n",
        "    epoch_acc = 0\n",
        "\n",
        "    # model in evaluation mode\n",
        "    model.eval()\n",
        "\n",
        "    with torch.no_grad():\n",
        "\n",
        "        for (x, y) in data_iterator:\n",
        "\n",
        "            x = x.to(device)\n",
        "            y = y.to(device)\n",
        "\n",
        "            y_pred = model(x)\n",
        "\n",
        "            loss = criterion(y_pred, y)\n",
        "\n",
        "            acc = calculate_accuracy(y_pred, y)\n",
        "\n",
        "            epoch_loss += loss.item()\n",
        "            epoch_acc += acc.item()\n",
        "\n",
        "    return epoch_loss / len(data_iterator), epoch_acc / len(data_iterator)"
      ],
      "metadata": {
        "id": "roRgJVfA1RXl"
      },
      "execution_count": null,
      "outputs": []
    },
    {
      "cell_type": "code",
      "source": [
        "def epoch_time(start_time, end_time):\n",
        "    elapsed_time = end_time - start_time\n",
        "    elapsed_mins = int(elapsed_time / 60)\n",
        "    elapsed_secs = int(elapsed_time - (elapsed_mins * 60))\n",
        "    return elapsed_mins, elapsed_secs"
      ],
      "metadata": {
        "id": "8WmgFBTN1VCu"
      },
      "execution_count": null,
      "outputs": []
    },
    {
      "cell_type": "code",
      "source": [
        "def get_loss_before_train(model, data_iterator, criterion, device):\n",
        "\n",
        "    epoch_loss = 0\n",
        "\n",
        "    for (x, y) in tqdm(data_iterator):\n",
        "\n",
        "        x = x.to(device)\n",
        "        y = y.to(device)\n",
        "\n",
        "        y_pred = model(x)\n",
        "\n",
        "        loss = criterion(y_pred, y)\n",
        "\n",
        "        epoch_loss += loss.item()\n",
        "\n",
        "    return epoch_loss/len(data_iterator)"
      ],
      "metadata": {
        "id": "1slDgZQv1W18"
      },
      "execution_count": null,
      "outputs": []
    },
    {
      "cell_type": "code",
      "source": [
        "def model_loss(train_data_iterator, device,reg=0):\n",
        "  NO_OUTPUT = 2\n",
        "  model = LeNet_V(NO_OUTPUT)\n",
        "\n",
        "  criterion = nn.CrossEntropyLoss()\n",
        "\n",
        "  model = model.to(device)\n",
        "  criterion = criterion.to(device)\n",
        "\n",
        "  loss_ = get_loss_before_train(model, train_data_iterator, criterion, device)\n",
        "\n",
        "  return loss_"
      ],
      "metadata": {
        "id": "Qg9g6CYs1aKi"
      },
      "execution_count": null,
      "outputs": []
    },
    {
      "cell_type": "code",
      "source": [
        "def plot_metrics(TRAIN_ACC,VAL_ACC,TRAIN_LOSS,VAL_LOSS):\n",
        "  plt.plot(np.asarray(TRAIN_ACC),'r',label=\"Training\")\n",
        "  plt.plot(np.asarray(VAL_ACC),'b',label=\"Validation\")\n",
        "  plt.title(\"Training & Validation Accuracy\")\n",
        "  plt.xlabel(\"Epochs\")\n",
        "  plt.ylabel(\"Accuracy\")\n",
        "  plt.legend(loc='best')\n",
        "  plt.show()\n",
        "\n",
        "  plt.plot(np.asarray(TRAIN_LOSS),'r',label=\"Training\")\n",
        "  plt.plot(np.asarray(VAL_LOSS),'b',label=\"Validation\")\n",
        "  plt.title(\"Training & Validation Loss\")\n",
        "  plt.xlabel(\"Epochs\")\n",
        "  plt.ylabel(\"Loss\")\n",
        "  plt.legend(loc='best')\n",
        "  plt.show()"
      ],
      "metadata": {
        "id": "vNe7gKO01bBu"
      },
      "execution_count": null,
      "outputs": []
    },
    {
      "cell_type": "code",
      "source": [
        "loss_ = model_loss(train_data,device,reg=0)\n",
        "print(\"Loss: \",loss_)"
      ],
      "metadata": {
        "colab": {
          "base_uri": "https://localhost:8080/"
        },
        "id": "7mTjFwJT1dXc",
        "outputId": "2ce16552-fcc7-4626-93c3-f7ef315cc96c"
      },
      "execution_count": null,
      "outputs": [
        {
          "output_type": "stream",
          "name": "stderr",
          "text": [
            "100%|██████████| 57/57 [00:20<00:00,  2.73it/s]"
          ]
        },
        {
          "output_type": "stream",
          "name": "stdout",
          "text": [
            "Loss:  1.2971892670581215\n"
          ]
        },
        {
          "output_type": "stream",
          "name": "stderr",
          "text": [
            "\n"
          ]
        }
      ]
    },
    {
      "cell_type": "code",
      "source": [
        "loss_ = model_loss(train_data,device,reg=10**3)\n",
        "print(\"Loss: \",loss_)"
      ],
      "metadata": {
        "colab": {
          "base_uri": "https://localhost:8080/"
        },
        "id": "4_INKXa21f3z",
        "outputId": "7be4d79c-8c9e-4df9-e4a0-c476e22c6f8a"
      },
      "execution_count": null,
      "outputs": [
        {
          "output_type": "stream",
          "name": "stderr",
          "text": [
            "100%|██████████| 57/57 [00:02<00:00, 21.10it/s]"
          ]
        },
        {
          "output_type": "stream",
          "name": "stdout",
          "text": [
            "Loss:  1.0157523029728939\n"
          ]
        },
        {
          "output_type": "stream",
          "name": "stderr",
          "text": [
            "\n"
          ]
        }
      ]
    },
    {
      "cell_type": "code",
      "source": [
        "def TRAIN(train_data_iterator,valid_data_iterator,device,optimizer,no_epochs,LR=0,reg=0):\n",
        "  NO_OUTPUT = 2\n",
        "  model = LeNet_V(NO_OUTPUT)\n",
        "\n",
        "  if optimizer == 'SGD':\n",
        "    optimizer = optim.SGD(model.parameters(), lr=LR, weight_decay=reg, momentum = 0.9)\n",
        "  elif optimizer == 'Adam':\n",
        "    optimizer = optim.Adam(model.parameters(), lr=LR, weight_decay=reg)\n",
        "\n",
        "  criterion = nn.CrossEntropyLoss()\n",
        "\n",
        "  model = model.to(device)\n",
        "  criterion = criterion.to(device)\n",
        "\n",
        "  EPOCHS = no_epochs\n",
        "\n",
        "  best_valid_loss = float('inf')\n",
        "\n",
        "  TRAIN_ACC = []\n",
        "  VAL_ACC = []\n",
        "  TRAIN_LOSS = []\n",
        "  VAL_LOSS = []\n",
        "  for epoch in tqdm(range(EPOCHS)):\n",
        "\n",
        "      start_time = time.time()\n",
        "\n",
        "      train_loss, train_acc = train(model, train_data_iterator, optimizer, criterion, device)\n",
        "      valid_loss, valid_acc = evaluate(model, valid_data_iterator, criterion, device)\n",
        "\n",
        "      if valid_loss < best_valid_loss:\n",
        "          best_valid_loss = valid_loss\n",
        "          torch.save(model.state_dict(), 'cv-babysitting-model.pt')\n",
        "\n",
        "      end_time = time.time()\n",
        "\n",
        "      epoch_mins, epoch_secs = epoch_time(start_time, end_time)\n",
        "\n",
        "      TRAIN_ACC.append(train_acc)\n",
        "      TRAIN_LOSS.append(train_loss)\n",
        "      VAL_ACC.append(valid_acc)\n",
        "      VAL_LOSS.append(valid_loss)\n",
        "      print(f'Epoch: {epoch+1:02} | Epoch Time: {epoch_mins}m {epoch_secs}s')\n",
        "      print(f'\\tTrain Loss: {train_loss:.3f} | Train Acc: {train_acc*100:.2f}%')\n",
        "      print(f'\\t Val. Loss: {valid_loss:.3f} |  Val. Acc: {valid_acc*100:.2f}%')\n"
      ],
      "metadata": {
        "id": "IpUJ0bnE1ma_"
      },
      "execution_count": null,
      "outputs": []
    },
    {
      "cell_type": "code",
      "source": [
        "def FINE_TRAIN(train_data_iterator,valid_data_iterator,device,optimizer,no_epochs,LR=0,reg=0):\n",
        "  NO_OUTPUT = 2\n",
        "  model = LeNet_V(NO_OUTPUT)\n",
        "\n",
        "  if optimizer == 'SGD':\n",
        "    optimizer = optim.SGD(model.parameters(), lr=LR, weight_decay=reg, momentum = 0.9)\n",
        "  elif optimizer == 'Adam':\n",
        "    optimizer = optim.Adam(model.parameters(), lr=LR, weight_decay=reg)\n",
        "\n",
        "  criterion = nn.CrossEntropyLoss()\n",
        "\n",
        "  model = model.to(device)\n",
        "  criterion = criterion.to(device)\n",
        "\n",
        "  EPOCHS = no_epochs\n",
        "\n",
        "  best_valid_loss = float('inf')\n",
        "\n",
        "  TRAIN_ACC = []\n",
        "  VAL_ACC = []\n",
        "  TRAIN_LOSS = []\n",
        "  VAL_LOSS = []\n",
        "  for epoch in tqdm(range(EPOCHS)):\n",
        "\n",
        "      start_time = time.time()\n",
        "\n",
        "      train_loss, train_acc = train(model, train_data_iterator, optimizer, criterion, device)\n",
        "      valid_loss, valid_acc = evaluate(model, valid_data_iterator, criterion, device)\n",
        "\n",
        "      if valid_loss < best_valid_loss:\n",
        "          best_valid_loss = valid_loss\n",
        "          torch.save(model.state_dict(), 'cv-babysitting-model.pt')\n",
        "\n",
        "      end_time = time.time()\n",
        "\n",
        "      epoch_mins, epoch_secs = epoch_time(start_time, end_time)\n",
        "\n",
        "      TRAIN_ACC.append(train_acc)\n",
        "      TRAIN_LOSS.append(train_loss)\n",
        "      VAL_ACC.append(valid_acc)\n",
        "      VAL_LOSS.append(valid_loss)\n",
        "      print(f'Epoch: {epoch+1:02} | Epoch Time: {epoch_mins}m {epoch_secs}s')\n",
        "      print(f'\\tTrain Loss: {train_loss:.3f} | Train Acc: {train_acc*100:.2f}%')\n",
        "      print(f'\\t Val. Loss: {valid_loss:.3f} |  Val. Acc: {valid_acc*100:.2f}%')\n",
        "      print(f'LR: {LR} | Reg: {reg}')\n"
      ],
      "metadata": {
        "id": "1_MQ2zJd1nPr"
      },
      "execution_count": null,
      "outputs": []
    },
    {
      "cell_type": "code",
      "source": [
        "TRAIN(train_data,valid_data,device,optimizer='SGD',no_epochs=200,LR=10**-3,reg=0)\n"
      ],
      "metadata": {
        "colab": {
          "base_uri": "https://localhost:8080/"
        },
        "id": "peBR-74X1rYB",
        "outputId": "d8793db7-0e6e-41dd-f162-e15ccdf1ec30"
      },
      "execution_count": null,
      "outputs": [
        {
          "output_type": "stream",
          "name": "stderr",
          "text": [
            "  0%|          | 1/200 [00:03<10:49,  3.26s/it]"
          ]
        },
        {
          "output_type": "stream",
          "name": "stdout",
          "text": [
            "Epoch: 01 | Epoch Time: 0m 3s\n",
            "\tTrain Loss: 0.263 | Train Acc: 89.64%\n",
            "\t Val. Loss: 0.073 |  Val. Acc: 100.00%\n"
          ]
        },
        {
          "output_type": "stream",
          "name": "stderr",
          "text": [
            "\r  1%|          | 2/200 [00:06<10:13,  3.10s/it]"
          ]
        },
        {
          "output_type": "stream",
          "name": "stdout",
          "text": [
            "Epoch: 02 | Epoch Time: 0m 2s\n",
            "\tTrain Loss: 0.040 | Train Acc: 100.00%\n",
            "\t Val. Loss: 0.035 |  Val. Acc: 100.00%\n"
          ]
        },
        {
          "output_type": "stream",
          "name": "stderr",
          "text": [
            "\r  2%|▏         | 3/200 [00:09<10:04,  3.07s/it]"
          ]
        },
        {
          "output_type": "stream",
          "name": "stdout",
          "text": [
            "Epoch: 03 | Epoch Time: 0m 3s\n",
            "\tTrain Loss: 0.024 | Train Acc: 100.00%\n",
            "\t Val. Loss: 0.025 |  Val. Acc: 100.00%\n"
          ]
        },
        {
          "output_type": "stream",
          "name": "stderr",
          "text": [
            "\r  2%|▏         | 4/200 [00:12<09:56,  3.04s/it]"
          ]
        },
        {
          "output_type": "stream",
          "name": "stdout",
          "text": [
            "Epoch: 04 | Epoch Time: 0m 3s\n",
            "\tTrain Loss: 0.017 | Train Acc: 100.00%\n",
            "\t Val. Loss: 0.019 |  Val. Acc: 100.00%\n"
          ]
        },
        {
          "output_type": "stream",
          "name": "stderr",
          "text": [
            "\r  2%|▎         | 5/200 [00:15<09:48,  3.02s/it]"
          ]
        },
        {
          "output_type": "stream",
          "name": "stdout",
          "text": [
            "Epoch: 05 | Epoch Time: 0m 2s\n",
            "\tTrain Loss: 0.013 | Train Acc: 100.00%\n",
            "\t Val. Loss: 0.016 |  Val. Acc: 100.00%\n"
          ]
        },
        {
          "output_type": "stream",
          "name": "stderr",
          "text": [
            "\r  3%|▎         | 6/200 [00:18<09:45,  3.02s/it]"
          ]
        },
        {
          "output_type": "stream",
          "name": "stdout",
          "text": [
            "Epoch: 06 | Epoch Time: 0m 3s\n",
            "\tTrain Loss: 0.011 | Train Acc: 100.00%\n",
            "\t Val. Loss: 0.013 |  Val. Acc: 100.00%\n"
          ]
        },
        {
          "output_type": "stream",
          "name": "stderr",
          "text": [
            "\r  4%|▎         | 7/200 [00:21<09:41,  3.01s/it]"
          ]
        },
        {
          "output_type": "stream",
          "name": "stdout",
          "text": [
            "Epoch: 07 | Epoch Time: 0m 3s\n",
            "\tTrain Loss: 0.009 | Train Acc: 100.00%\n",
            "\t Val. Loss: 0.011 |  Val. Acc: 100.00%\n"
          ]
        },
        {
          "output_type": "stream",
          "name": "stderr",
          "text": [
            "\r  4%|▍         | 8/200 [00:24<09:38,  3.01s/it]"
          ]
        },
        {
          "output_type": "stream",
          "name": "stdout",
          "text": [
            "Epoch: 08 | Epoch Time: 0m 3s\n",
            "\tTrain Loss: 0.008 | Train Acc: 100.00%\n",
            "\t Val. Loss: 0.010 |  Val. Acc: 100.00%\n"
          ]
        },
        {
          "output_type": "stream",
          "name": "stderr",
          "text": [
            "\r  4%|▍         | 9/200 [00:27<09:36,  3.02s/it]"
          ]
        },
        {
          "output_type": "stream",
          "name": "stdout",
          "text": [
            "Epoch: 09 | Epoch Time: 0m 3s\n",
            "\tTrain Loss: 0.007 | Train Acc: 100.00%\n",
            "\t Val. Loss: 0.009 |  Val. Acc: 100.00%\n"
          ]
        },
        {
          "output_type": "stream",
          "name": "stderr",
          "text": [
            "\r  5%|▌         | 10/200 [00:30<09:30,  3.00s/it]"
          ]
        },
        {
          "output_type": "stream",
          "name": "stdout",
          "text": [
            "Epoch: 10 | Epoch Time: 0m 2s\n",
            "\tTrain Loss: 0.006 | Train Acc: 100.00%\n",
            "\t Val. Loss: 0.008 |  Val. Acc: 100.00%\n"
          ]
        },
        {
          "output_type": "stream",
          "name": "stderr",
          "text": [
            "\r  6%|▌         | 11/200 [00:33<09:24,  2.99s/it]"
          ]
        },
        {
          "output_type": "stream",
          "name": "stdout",
          "text": [
            "Epoch: 11 | Epoch Time: 0m 2s\n",
            "\tTrain Loss: 0.006 | Train Acc: 100.00%\n",
            "\t Val. Loss: 0.007 |  Val. Acc: 100.00%\n"
          ]
        },
        {
          "output_type": "stream",
          "name": "stderr",
          "text": [
            "\r  6%|▌         | 12/200 [00:36<09:19,  2.98s/it]"
          ]
        },
        {
          "output_type": "stream",
          "name": "stdout",
          "text": [
            "Epoch: 12 | Epoch Time: 0m 2s\n",
            "\tTrain Loss: 0.005 | Train Acc: 100.00%\n",
            "\t Val. Loss: 0.007 |  Val. Acc: 100.00%\n"
          ]
        },
        {
          "output_type": "stream",
          "name": "stderr",
          "text": [
            "\r  6%|▋         | 13/200 [00:39<09:16,  2.97s/it]"
          ]
        },
        {
          "output_type": "stream",
          "name": "stdout",
          "text": [
            "Epoch: 13 | Epoch Time: 0m 2s\n",
            "\tTrain Loss: 0.005 | Train Acc: 100.00%\n",
            "\t Val. Loss: 0.006 |  Val. Acc: 100.00%\n"
          ]
        },
        {
          "output_type": "stream",
          "name": "stderr",
          "text": [
            "\r  7%|▋         | 14/200 [00:42<09:12,  2.97s/it]"
          ]
        },
        {
          "output_type": "stream",
          "name": "stdout",
          "text": [
            "Epoch: 14 | Epoch Time: 0m 2s\n",
            "\tTrain Loss: 0.004 | Train Acc: 100.00%\n",
            "\t Val. Loss: 0.006 |  Val. Acc: 100.00%\n"
          ]
        },
        {
          "output_type": "stream",
          "name": "stderr",
          "text": [
            "\r  8%|▊         | 15/200 [00:45<09:11,  2.98s/it]"
          ]
        },
        {
          "output_type": "stream",
          "name": "stdout",
          "text": [
            "Epoch: 15 | Epoch Time: 0m 3s\n",
            "\tTrain Loss: 0.004 | Train Acc: 100.00%\n",
            "\t Val. Loss: 0.006 |  Val. Acc: 100.00%\n"
          ]
        },
        {
          "output_type": "stream",
          "name": "stderr",
          "text": [
            "\r  8%|▊         | 16/200 [00:48<09:10,  2.99s/it]"
          ]
        },
        {
          "output_type": "stream",
          "name": "stdout",
          "text": [
            "Epoch: 16 | Epoch Time: 0m 3s\n",
            "\tTrain Loss: 0.004 | Train Acc: 100.00%\n",
            "\t Val. Loss: 0.005 |  Val. Acc: 100.00%\n"
          ]
        },
        {
          "output_type": "stream",
          "name": "stderr",
          "text": [
            "\r  8%|▊         | 17/200 [00:51<09:08,  2.99s/it]"
          ]
        },
        {
          "output_type": "stream",
          "name": "stdout",
          "text": [
            "Epoch: 17 | Epoch Time: 0m 3s\n",
            "\tTrain Loss: 0.004 | Train Acc: 100.00%\n",
            "\t Val. Loss: 0.005 |  Val. Acc: 100.00%\n"
          ]
        },
        {
          "output_type": "stream",
          "name": "stderr",
          "text": [
            "\r  9%|▉         | 18/200 [00:54<09:10,  3.02s/it]"
          ]
        },
        {
          "output_type": "stream",
          "name": "stdout",
          "text": [
            "Epoch: 18 | Epoch Time: 0m 3s\n",
            "\tTrain Loss: 0.003 | Train Acc: 100.00%\n",
            "\t Val. Loss: 0.004 |  Val. Acc: 100.00%\n"
          ]
        },
        {
          "output_type": "stream",
          "name": "stderr",
          "text": [
            "\r 10%|▉         | 19/200 [00:57<09:04,  3.01s/it]"
          ]
        },
        {
          "output_type": "stream",
          "name": "stdout",
          "text": [
            "Epoch: 19 | Epoch Time: 0m 2s\n",
            "\tTrain Loss: 0.003 | Train Acc: 100.00%\n",
            "\t Val. Loss: 0.004 |  Val. Acc: 100.00%\n"
          ]
        },
        {
          "output_type": "stream",
          "name": "stderr",
          "text": [
            "\r 10%|█         | 20/200 [01:00<08:58,  2.99s/it]"
          ]
        },
        {
          "output_type": "stream",
          "name": "stdout",
          "text": [
            "Epoch: 20 | Epoch Time: 0m 2s\n",
            "\tTrain Loss: 0.003 | Train Acc: 100.00%\n",
            "\t Val. Loss: 0.004 |  Val. Acc: 100.00%\n"
          ]
        },
        {
          "output_type": "stream",
          "name": "stderr",
          "text": [
            "\r 10%|█         | 21/200 [01:03<08:55,  2.99s/it]"
          ]
        },
        {
          "output_type": "stream",
          "name": "stdout",
          "text": [
            "Epoch: 21 | Epoch Time: 0m 2s\n",
            "\tTrain Loss: 0.003 | Train Acc: 100.00%\n",
            "\t Val. Loss: 0.004 |  Val. Acc: 100.00%\n"
          ]
        },
        {
          "output_type": "stream",
          "name": "stderr",
          "text": [
            "\r 11%|█         | 22/200 [01:06<08:49,  2.97s/it]"
          ]
        },
        {
          "output_type": "stream",
          "name": "stdout",
          "text": [
            "Epoch: 22 | Epoch Time: 0m 2s\n",
            "\tTrain Loss: 0.003 | Train Acc: 100.00%\n",
            "\t Val. Loss: 0.004 |  Val. Acc: 100.00%\n"
          ]
        },
        {
          "output_type": "stream",
          "name": "stderr",
          "text": [
            "\r 12%|█▏        | 23/200 [01:09<08:50,  3.00s/it]"
          ]
        },
        {
          "output_type": "stream",
          "name": "stdout",
          "text": [
            "Epoch: 23 | Epoch Time: 0m 3s\n",
            "\tTrain Loss: 0.003 | Train Acc: 100.00%\n",
            "\t Val. Loss: 0.004 |  Val. Acc: 100.00%\n"
          ]
        },
        {
          "output_type": "stream",
          "name": "stderr",
          "text": [
            "\r 12%|█▏        | 24/200 [01:12<08:46,  2.99s/it]"
          ]
        },
        {
          "output_type": "stream",
          "name": "stdout",
          "text": [
            "Epoch: 24 | Epoch Time: 0m 2s\n",
            "\tTrain Loss: 0.003 | Train Acc: 100.00%\n",
            "\t Val. Loss: 0.003 |  Val. Acc: 100.00%\n"
          ]
        },
        {
          "output_type": "stream",
          "name": "stderr",
          "text": [
            "\r 12%|█▎        | 25/200 [01:15<08:43,  2.99s/it]"
          ]
        },
        {
          "output_type": "stream",
          "name": "stdout",
          "text": [
            "Epoch: 25 | Epoch Time: 0m 2s\n",
            "\tTrain Loss: 0.002 | Train Acc: 100.00%\n",
            "\t Val. Loss: 0.003 |  Val. Acc: 100.00%\n"
          ]
        },
        {
          "output_type": "stream",
          "name": "stderr",
          "text": [
            "\r 13%|█▎        | 26/200 [01:18<08:39,  2.98s/it]"
          ]
        },
        {
          "output_type": "stream",
          "name": "stdout",
          "text": [
            "Epoch: 26 | Epoch Time: 0m 2s\n",
            "\tTrain Loss: 0.002 | Train Acc: 100.00%\n",
            "\t Val. Loss: 0.004 |  Val. Acc: 100.00%\n"
          ]
        },
        {
          "output_type": "stream",
          "name": "stderr",
          "text": [
            "\r 14%|█▎        | 27/200 [01:21<08:36,  2.99s/it]"
          ]
        },
        {
          "output_type": "stream",
          "name": "stdout",
          "text": [
            "Epoch: 27 | Epoch Time: 0m 2s\n",
            "\tTrain Loss: 0.002 | Train Acc: 100.00%\n",
            "\t Val. Loss: 0.003 |  Val. Acc: 100.00%\n"
          ]
        },
        {
          "output_type": "stream",
          "name": "stderr",
          "text": [
            "\r 14%|█▍        | 28/200 [01:24<08:37,  3.01s/it]"
          ]
        },
        {
          "output_type": "stream",
          "name": "stdout",
          "text": [
            "Epoch: 28 | Epoch Time: 0m 3s\n",
            "\tTrain Loss: 0.002 | Train Acc: 100.00%\n",
            "\t Val. Loss: 0.003 |  Val. Acc: 100.00%\n"
          ]
        },
        {
          "output_type": "stream",
          "name": "stderr",
          "text": [
            "\r 14%|█▍        | 29/200 [01:27<08:34,  3.01s/it]"
          ]
        },
        {
          "output_type": "stream",
          "name": "stdout",
          "text": [
            "Epoch: 29 | Epoch Time: 0m 3s\n",
            "\tTrain Loss: 0.002 | Train Acc: 100.00%\n",
            "\t Val. Loss: 0.003 |  Val. Acc: 100.00%\n"
          ]
        },
        {
          "output_type": "stream",
          "name": "stderr",
          "text": [
            "\r 15%|█▌        | 30/200 [01:30<08:31,  3.01s/it]"
          ]
        },
        {
          "output_type": "stream",
          "name": "stdout",
          "text": [
            "Epoch: 30 | Epoch Time: 0m 3s\n",
            "\tTrain Loss: 0.002 | Train Acc: 100.00%\n",
            "\t Val. Loss: 0.003 |  Val. Acc: 100.00%\n"
          ]
        },
        {
          "output_type": "stream",
          "name": "stderr",
          "text": [
            "\r 16%|█▌        | 31/200 [01:33<08:25,  2.99s/it]"
          ]
        },
        {
          "output_type": "stream",
          "name": "stdout",
          "text": [
            "Epoch: 31 | Epoch Time: 0m 2s\n",
            "\tTrain Loss: 0.002 | Train Acc: 100.00%\n",
            "\t Val. Loss: 0.003 |  Val. Acc: 100.00%\n"
          ]
        },
        {
          "output_type": "stream",
          "name": "stderr",
          "text": [
            "\r 16%|█▌        | 32/200 [01:36<08:24,  3.00s/it]"
          ]
        },
        {
          "output_type": "stream",
          "name": "stdout",
          "text": [
            "Epoch: 32 | Epoch Time: 0m 3s\n",
            "\tTrain Loss: 0.002 | Train Acc: 100.00%\n",
            "\t Val. Loss: 0.003 |  Val. Acc: 100.00%\n"
          ]
        },
        {
          "output_type": "stream",
          "name": "stderr",
          "text": [
            "\r 16%|█▋        | 33/200 [01:39<08:18,  2.99s/it]"
          ]
        },
        {
          "output_type": "stream",
          "name": "stdout",
          "text": [
            "Epoch: 33 | Epoch Time: 0m 2s\n",
            "\tTrain Loss: 0.002 | Train Acc: 100.00%\n",
            "\t Val. Loss: 0.003 |  Val. Acc: 100.00%\n"
          ]
        },
        {
          "output_type": "stream",
          "name": "stderr",
          "text": [
            "\r 17%|█▋        | 34/200 [01:42<08:17,  3.00s/it]"
          ]
        },
        {
          "output_type": "stream",
          "name": "stdout",
          "text": [
            "Epoch: 34 | Epoch Time: 0m 3s\n",
            "\tTrain Loss: 0.002 | Train Acc: 100.00%\n",
            "\t Val. Loss: 0.003 |  Val. Acc: 100.00%\n"
          ]
        },
        {
          "output_type": "stream",
          "name": "stderr",
          "text": [
            "\r 18%|█▊        | 35/200 [01:45<08:14,  3.00s/it]"
          ]
        },
        {
          "output_type": "stream",
          "name": "stdout",
          "text": [
            "Epoch: 35 | Epoch Time: 0m 2s\n",
            "\tTrain Loss: 0.002 | Train Acc: 100.00%\n",
            "\t Val. Loss: 0.003 |  Val. Acc: 100.00%\n"
          ]
        },
        {
          "output_type": "stream",
          "name": "stderr",
          "text": [
            "\r 18%|█▊        | 36/200 [01:48<08:11,  3.00s/it]"
          ]
        },
        {
          "output_type": "stream",
          "name": "stdout",
          "text": [
            "Epoch: 36 | Epoch Time: 0m 3s\n",
            "\tTrain Loss: 0.002 | Train Acc: 100.00%\n",
            "\t Val. Loss: 0.003 |  Val. Acc: 100.00%\n"
          ]
        },
        {
          "output_type": "stream",
          "name": "stderr",
          "text": [
            "\r 18%|█▊        | 37/200 [01:51<08:07,  2.99s/it]"
          ]
        },
        {
          "output_type": "stream",
          "name": "stdout",
          "text": [
            "Epoch: 37 | Epoch Time: 0m 2s\n",
            "\tTrain Loss: 0.002 | Train Acc: 100.00%\n",
            "\t Val. Loss: 0.003 |  Val. Acc: 100.00%\n"
          ]
        },
        {
          "output_type": "stream",
          "name": "stderr",
          "text": [
            "\r 19%|█▉        | 38/200 [01:54<08:05,  3.00s/it]"
          ]
        },
        {
          "output_type": "stream",
          "name": "stdout",
          "text": [
            "Epoch: 38 | Epoch Time: 0m 3s\n",
            "\tTrain Loss: 0.002 | Train Acc: 100.00%\n",
            "\t Val. Loss: 0.002 |  Val. Acc: 100.00%\n"
          ]
        },
        {
          "output_type": "stream",
          "name": "stderr",
          "text": [
            "\r 20%|█▉        | 39/200 [01:57<08:00,  2.98s/it]"
          ]
        },
        {
          "output_type": "stream",
          "name": "stdout",
          "text": [
            "Epoch: 39 | Epoch Time: 0m 2s\n",
            "\tTrain Loss: 0.002 | Train Acc: 100.00%\n",
            "\t Val. Loss: 0.002 |  Val. Acc: 100.00%\n"
          ]
        },
        {
          "output_type": "stream",
          "name": "stderr",
          "text": [
            "\r 20%|██        | 40/200 [01:59<07:55,  2.97s/it]"
          ]
        },
        {
          "output_type": "stream",
          "name": "stdout",
          "text": [
            "Epoch: 40 | Epoch Time: 0m 2s\n",
            "\tTrain Loss: 0.002 | Train Acc: 100.00%\n",
            "\t Val. Loss: 0.002 |  Val. Acc: 100.00%\n"
          ]
        },
        {
          "output_type": "stream",
          "name": "stderr",
          "text": [
            "\r 20%|██        | 41/200 [02:02<07:52,  2.97s/it]"
          ]
        },
        {
          "output_type": "stream",
          "name": "stdout",
          "text": [
            "Epoch: 41 | Epoch Time: 0m 2s\n",
            "\tTrain Loss: 0.001 | Train Acc: 100.00%\n",
            "\t Val. Loss: 0.002 |  Val. Acc: 100.00%\n"
          ]
        },
        {
          "output_type": "stream",
          "name": "stderr",
          "text": [
            "\r 21%|██        | 42/200 [02:05<07:49,  2.97s/it]"
          ]
        },
        {
          "output_type": "stream",
          "name": "stdout",
          "text": [
            "Epoch: 42 | Epoch Time: 0m 2s\n",
            "\tTrain Loss: 0.001 | Train Acc: 100.00%\n",
            "\t Val. Loss: 0.002 |  Val. Acc: 100.00%\n"
          ]
        },
        {
          "output_type": "stream",
          "name": "stderr",
          "text": [
            "\r 22%|██▏       | 43/200 [02:08<07:47,  2.98s/it]"
          ]
        },
        {
          "output_type": "stream",
          "name": "stdout",
          "text": [
            "Epoch: 43 | Epoch Time: 0m 2s\n",
            "\tTrain Loss: 0.001 | Train Acc: 100.00%\n",
            "\t Val. Loss: 0.002 |  Val. Acc: 100.00%\n"
          ]
        },
        {
          "output_type": "stream",
          "name": "stderr",
          "text": [
            "\r 22%|██▏       | 44/200 [02:11<07:45,  2.98s/it]"
          ]
        },
        {
          "output_type": "stream",
          "name": "stdout",
          "text": [
            "Epoch: 44 | Epoch Time: 0m 2s\n",
            "\tTrain Loss: 0.001 | Train Acc: 100.00%\n",
            "\t Val. Loss: 0.002 |  Val. Acc: 100.00%\n"
          ]
        },
        {
          "output_type": "stream",
          "name": "stderr",
          "text": [
            "\r 22%|██▎       | 45/200 [02:14<07:43,  2.99s/it]"
          ]
        },
        {
          "output_type": "stream",
          "name": "stdout",
          "text": [
            "Epoch: 45 | Epoch Time: 0m 3s\n",
            "\tTrain Loss: 0.001 | Train Acc: 100.00%\n",
            "\t Val. Loss: 0.002 |  Val. Acc: 100.00%\n"
          ]
        },
        {
          "output_type": "stream",
          "name": "stderr",
          "text": [
            "\r 23%|██▎       | 46/200 [02:17<07:38,  2.98s/it]"
          ]
        },
        {
          "output_type": "stream",
          "name": "stdout",
          "text": [
            "Epoch: 46 | Epoch Time: 0m 2s\n",
            "\tTrain Loss: 0.001 | Train Acc: 100.00%\n",
            "\t Val. Loss: 0.002 |  Val. Acc: 100.00%\n"
          ]
        },
        {
          "output_type": "stream",
          "name": "stderr",
          "text": [
            "\r 24%|██▎       | 47/200 [02:20<07:38,  3.00s/it]"
          ]
        },
        {
          "output_type": "stream",
          "name": "stdout",
          "text": [
            "Epoch: 47 | Epoch Time: 0m 3s\n",
            "\tTrain Loss: 0.001 | Train Acc: 100.00%\n",
            "\t Val. Loss: 0.002 |  Val. Acc: 100.00%\n"
          ]
        },
        {
          "output_type": "stream",
          "name": "stderr",
          "text": [
            "\r 24%|██▍       | 48/200 [02:23<07:35,  3.00s/it]"
          ]
        },
        {
          "output_type": "stream",
          "name": "stdout",
          "text": [
            "Epoch: 48 | Epoch Time: 0m 2s\n",
            "\tTrain Loss: 0.001 | Train Acc: 100.00%\n",
            "\t Val. Loss: 0.002 |  Val. Acc: 100.00%\n"
          ]
        },
        {
          "output_type": "stream",
          "name": "stderr",
          "text": [
            "\r 24%|██▍       | 49/200 [02:26<07:32,  3.00s/it]"
          ]
        },
        {
          "output_type": "stream",
          "name": "stdout",
          "text": [
            "Epoch: 49 | Epoch Time: 0m 2s\n",
            "\tTrain Loss: 0.001 | Train Acc: 100.00%\n",
            "\t Val. Loss: 0.002 |  Val. Acc: 100.00%\n"
          ]
        },
        {
          "output_type": "stream",
          "name": "stderr",
          "text": [
            "\r 25%|██▌       | 50/200 [02:29<07:28,  2.99s/it]"
          ]
        },
        {
          "output_type": "stream",
          "name": "stdout",
          "text": [
            "Epoch: 50 | Epoch Time: 0m 2s\n",
            "\tTrain Loss: 0.001 | Train Acc: 100.00%\n",
            "\t Val. Loss: 0.002 |  Val. Acc: 100.00%\n"
          ]
        },
        {
          "output_type": "stream",
          "name": "stderr",
          "text": [
            "\r 26%|██▌       | 51/200 [02:32<07:23,  2.98s/it]"
          ]
        },
        {
          "output_type": "stream",
          "name": "stdout",
          "text": [
            "Epoch: 51 | Epoch Time: 0m 2s\n",
            "\tTrain Loss: 0.001 | Train Acc: 100.00%\n",
            "\t Val. Loss: 0.002 |  Val. Acc: 100.00%\n"
          ]
        },
        {
          "output_type": "stream",
          "name": "stderr",
          "text": [
            "\r 26%|██▌       | 52/200 [02:35<07:21,  2.98s/it]"
          ]
        },
        {
          "output_type": "stream",
          "name": "stdout",
          "text": [
            "Epoch: 52 | Epoch Time: 0m 2s\n",
            "\tTrain Loss: 0.001 | Train Acc: 100.00%\n",
            "\t Val. Loss: 0.002 |  Val. Acc: 100.00%\n"
          ]
        },
        {
          "output_type": "stream",
          "name": "stderr",
          "text": [
            "\r 26%|██▋       | 53/200 [02:38<07:19,  2.99s/it]"
          ]
        },
        {
          "output_type": "stream",
          "name": "stdout",
          "text": [
            "Epoch: 53 | Epoch Time: 0m 2s\n",
            "\tTrain Loss: 0.001 | Train Acc: 100.00%\n",
            "\t Val. Loss: 0.002 |  Val. Acc: 100.00%\n"
          ]
        },
        {
          "output_type": "stream",
          "name": "stderr",
          "text": [
            "\r 27%|██▋       | 54/200 [02:41<07:16,  2.99s/it]"
          ]
        },
        {
          "output_type": "stream",
          "name": "stdout",
          "text": [
            "Epoch: 54 | Epoch Time: 0m 2s\n",
            "\tTrain Loss: 0.001 | Train Acc: 100.00%\n",
            "\t Val. Loss: 0.002 |  Val. Acc: 100.00%\n"
          ]
        },
        {
          "output_type": "stream",
          "name": "stderr",
          "text": [
            "\r 28%|██▊       | 55/200 [02:44<07:12,  2.98s/it]"
          ]
        },
        {
          "output_type": "stream",
          "name": "stdout",
          "text": [
            "Epoch: 55 | Epoch Time: 0m 2s\n",
            "\tTrain Loss: 0.001 | Train Acc: 100.00%\n",
            "\t Val. Loss: 0.002 |  Val. Acc: 100.00%\n"
          ]
        },
        {
          "output_type": "stream",
          "name": "stderr",
          "text": [
            "\r 28%|██▊       | 56/200 [02:47<07:07,  2.97s/it]"
          ]
        },
        {
          "output_type": "stream",
          "name": "stdout",
          "text": [
            "Epoch: 56 | Epoch Time: 0m 2s\n",
            "\tTrain Loss: 0.001 | Train Acc: 100.00%\n",
            "\t Val. Loss: 0.002 |  Val. Acc: 100.00%\n"
          ]
        },
        {
          "output_type": "stream",
          "name": "stderr",
          "text": [
            "\r 28%|██▊       | 57/200 [02:50<07:06,  2.98s/it]"
          ]
        },
        {
          "output_type": "stream",
          "name": "stdout",
          "text": [
            "Epoch: 57 | Epoch Time: 0m 3s\n",
            "\tTrain Loss: 0.001 | Train Acc: 100.00%\n",
            "\t Val. Loss: 0.002 |  Val. Acc: 100.00%\n"
          ]
        },
        {
          "output_type": "stream",
          "name": "stderr",
          "text": [
            "\r 29%|██▉       | 58/200 [02:53<07:02,  2.98s/it]"
          ]
        },
        {
          "output_type": "stream",
          "name": "stdout",
          "text": [
            "Epoch: 58 | Epoch Time: 0m 2s\n",
            "\tTrain Loss: 0.001 | Train Acc: 100.00%\n",
            "\t Val. Loss: 0.002 |  Val. Acc: 100.00%\n"
          ]
        },
        {
          "output_type": "stream",
          "name": "stderr",
          "text": [
            "\r 30%|██▉       | 59/200 [02:56<07:01,  2.99s/it]"
          ]
        },
        {
          "output_type": "stream",
          "name": "stdout",
          "text": [
            "Epoch: 59 | Epoch Time: 0m 3s\n",
            "\tTrain Loss: 0.001 | Train Acc: 100.00%\n",
            "\t Val. Loss: 0.001 |  Val. Acc: 100.00%\n"
          ]
        },
        {
          "output_type": "stream",
          "name": "stderr",
          "text": [
            "\r 30%|███       | 60/200 [02:59<06:55,  2.97s/it]"
          ]
        },
        {
          "output_type": "stream",
          "name": "stdout",
          "text": [
            "Epoch: 60 | Epoch Time: 0m 2s\n",
            "\tTrain Loss: 0.001 | Train Acc: 100.00%\n",
            "\t Val. Loss: 0.002 |  Val. Acc: 100.00%\n"
          ]
        },
        {
          "output_type": "stream",
          "name": "stderr",
          "text": [
            "\r 30%|███       | 61/200 [03:02<06:53,  2.98s/it]"
          ]
        },
        {
          "output_type": "stream",
          "name": "stdout",
          "text": [
            "Epoch: 61 | Epoch Time: 0m 2s\n",
            "\tTrain Loss: 0.001 | Train Acc: 100.00%\n",
            "\t Val. Loss: 0.002 |  Val. Acc: 100.00%\n"
          ]
        },
        {
          "output_type": "stream",
          "name": "stderr",
          "text": [
            "\r 31%|███       | 62/200 [03:05<06:50,  2.97s/it]"
          ]
        },
        {
          "output_type": "stream",
          "name": "stdout",
          "text": [
            "Epoch: 62 | Epoch Time: 0m 2s\n",
            "\tTrain Loss: 0.001 | Train Acc: 100.00%\n",
            "\t Val. Loss: 0.001 |  Val. Acc: 100.00%\n"
          ]
        },
        {
          "output_type": "stream",
          "name": "stderr",
          "text": [
            "\r 32%|███▏      | 63/200 [03:08<06:45,  2.96s/it]"
          ]
        },
        {
          "output_type": "stream",
          "name": "stdout",
          "text": [
            "Epoch: 63 | Epoch Time: 0m 2s\n",
            "\tTrain Loss: 0.001 | Train Acc: 100.00%\n",
            "\t Val. Loss: 0.001 |  Val. Acc: 100.00%\n"
          ]
        },
        {
          "output_type": "stream",
          "name": "stderr",
          "text": [
            "\r 32%|███▏      | 64/200 [03:11<06:42,  2.96s/it]"
          ]
        },
        {
          "output_type": "stream",
          "name": "stdout",
          "text": [
            "Epoch: 64 | Epoch Time: 0m 2s\n",
            "\tTrain Loss: 0.001 | Train Acc: 100.00%\n",
            "\t Val. Loss: 0.002 |  Val. Acc: 100.00%\n"
          ]
        },
        {
          "output_type": "stream",
          "name": "stderr",
          "text": [
            "\r 32%|███▎      | 65/200 [03:14<06:38,  2.95s/it]"
          ]
        },
        {
          "output_type": "stream",
          "name": "stdout",
          "text": [
            "Epoch: 65 | Epoch Time: 0m 2s\n",
            "\tTrain Loss: 0.001 | Train Acc: 100.00%\n",
            "\t Val. Loss: 0.001 |  Val. Acc: 100.00%\n"
          ]
        },
        {
          "output_type": "stream",
          "name": "stderr",
          "text": [
            "\r 33%|███▎      | 66/200 [03:17<06:34,  2.94s/it]"
          ]
        },
        {
          "output_type": "stream",
          "name": "stdout",
          "text": [
            "Epoch: 66 | Epoch Time: 0m 2s\n",
            "\tTrain Loss: 0.001 | Train Acc: 100.00%\n",
            "\t Val. Loss: 0.001 |  Val. Acc: 100.00%\n"
          ]
        },
        {
          "output_type": "stream",
          "name": "stderr",
          "text": [
            "\r 34%|███▎      | 67/200 [03:20<06:29,  2.93s/it]"
          ]
        },
        {
          "output_type": "stream",
          "name": "stdout",
          "text": [
            "Epoch: 67 | Epoch Time: 0m 2s\n",
            "\tTrain Loss: 0.001 | Train Acc: 100.00%\n",
            "\t Val. Loss: 0.001 |  Val. Acc: 100.00%\n"
          ]
        },
        {
          "output_type": "stream",
          "name": "stderr",
          "text": [
            "\r 34%|███▍      | 68/200 [03:23<06:27,  2.93s/it]"
          ]
        },
        {
          "output_type": "stream",
          "name": "stdout",
          "text": [
            "Epoch: 68 | Epoch Time: 0m 2s\n",
            "\tTrain Loss: 0.001 | Train Acc: 100.00%\n",
            "\t Val. Loss: 0.001 |  Val. Acc: 100.00%\n"
          ]
        },
        {
          "output_type": "stream",
          "name": "stderr",
          "text": [
            "\r 34%|███▍      | 69/200 [03:26<06:25,  2.94s/it]"
          ]
        },
        {
          "output_type": "stream",
          "name": "stdout",
          "text": [
            "Epoch: 69 | Epoch Time: 0m 2s\n",
            "\tTrain Loss: 0.001 | Train Acc: 100.00%\n",
            "\t Val. Loss: 0.001 |  Val. Acc: 100.00%\n"
          ]
        },
        {
          "output_type": "stream",
          "name": "stderr",
          "text": [
            "\r 35%|███▌      | 70/200 [03:29<06:24,  2.96s/it]"
          ]
        },
        {
          "output_type": "stream",
          "name": "stdout",
          "text": [
            "Epoch: 70 | Epoch Time: 0m 2s\n",
            "\tTrain Loss: 0.001 | Train Acc: 100.00%\n",
            "\t Val. Loss: 0.001 |  Val. Acc: 100.00%\n"
          ]
        },
        {
          "output_type": "stream",
          "name": "stderr",
          "text": [
            "\r 36%|███▌      | 71/200 [03:32<06:21,  2.96s/it]"
          ]
        },
        {
          "output_type": "stream",
          "name": "stdout",
          "text": [
            "Epoch: 71 | Epoch Time: 0m 2s\n",
            "\tTrain Loss: 0.001 | Train Acc: 100.00%\n",
            "\t Val. Loss: 0.001 |  Val. Acc: 100.00%\n"
          ]
        },
        {
          "output_type": "stream",
          "name": "stderr",
          "text": [
            "\r 36%|███▌      | 72/200 [03:35<06:19,  2.97s/it]"
          ]
        },
        {
          "output_type": "stream",
          "name": "stdout",
          "text": [
            "Epoch: 72 | Epoch Time: 0m 2s\n",
            "\tTrain Loss: 0.001 | Train Acc: 100.00%\n",
            "\t Val. Loss: 0.001 |  Val. Acc: 100.00%\n"
          ]
        },
        {
          "output_type": "stream",
          "name": "stderr",
          "text": [
            "\r 36%|███▋      | 73/200 [03:38<06:16,  2.96s/it]"
          ]
        },
        {
          "output_type": "stream",
          "name": "stdout",
          "text": [
            "Epoch: 73 | Epoch Time: 0m 2s\n",
            "\tTrain Loss: 0.001 | Train Acc: 100.00%\n",
            "\t Val. Loss: 0.001 |  Val. Acc: 100.00%\n"
          ]
        },
        {
          "output_type": "stream",
          "name": "stderr",
          "text": [
            "\r 37%|███▋      | 74/200 [03:40<06:13,  2.97s/it]"
          ]
        },
        {
          "output_type": "stream",
          "name": "stdout",
          "text": [
            "Epoch: 74 | Epoch Time: 0m 2s\n",
            "\tTrain Loss: 0.001 | Train Acc: 100.00%\n",
            "\t Val. Loss: 0.001 |  Val. Acc: 100.00%\n"
          ]
        },
        {
          "output_type": "stream",
          "name": "stderr",
          "text": [
            "\r 38%|███▊      | 75/200 [03:43<06:09,  2.96s/it]"
          ]
        },
        {
          "output_type": "stream",
          "name": "stdout",
          "text": [
            "Epoch: 75 | Epoch Time: 0m 2s\n",
            "\tTrain Loss: 0.001 | Train Acc: 100.00%\n",
            "\t Val. Loss: 0.001 |  Val. Acc: 100.00%\n"
          ]
        },
        {
          "output_type": "stream",
          "name": "stderr",
          "text": [
            "\r 38%|███▊      | 76/200 [03:46<06:06,  2.95s/it]"
          ]
        },
        {
          "output_type": "stream",
          "name": "stdout",
          "text": [
            "Epoch: 76 | Epoch Time: 0m 2s\n",
            "\tTrain Loss: 0.001 | Train Acc: 100.00%\n",
            "\t Val. Loss: 0.001 |  Val. Acc: 100.00%\n"
          ]
        },
        {
          "output_type": "stream",
          "name": "stderr",
          "text": [
            "\r 38%|███▊      | 77/200 [03:49<06:02,  2.95s/it]"
          ]
        },
        {
          "output_type": "stream",
          "name": "stdout",
          "text": [
            "Epoch: 77 | Epoch Time: 0m 2s\n",
            "\tTrain Loss: 0.001 | Train Acc: 100.00%\n",
            "\t Val. Loss: 0.001 |  Val. Acc: 100.00%\n"
          ]
        },
        {
          "output_type": "stream",
          "name": "stderr",
          "text": [
            "\r 39%|███▉      | 78/200 [03:52<05:59,  2.95s/it]"
          ]
        },
        {
          "output_type": "stream",
          "name": "stdout",
          "text": [
            "Epoch: 78 | Epoch Time: 0m 2s\n",
            "\tTrain Loss: 0.001 | Train Acc: 100.00%\n",
            "\t Val. Loss: 0.001 |  Val. Acc: 100.00%\n"
          ]
        },
        {
          "output_type": "stream",
          "name": "stderr",
          "text": [
            "\r 40%|███▉      | 79/200 [03:55<05:56,  2.94s/it]"
          ]
        },
        {
          "output_type": "stream",
          "name": "stdout",
          "text": [
            "Epoch: 79 | Epoch Time: 0m 2s\n",
            "\tTrain Loss: 0.001 | Train Acc: 100.00%\n",
            "\t Val. Loss: 0.001 |  Val. Acc: 100.00%\n"
          ]
        },
        {
          "output_type": "stream",
          "name": "stderr",
          "text": [
            "\r 40%|████      | 80/200 [03:58<05:53,  2.95s/it]"
          ]
        },
        {
          "output_type": "stream",
          "name": "stdout",
          "text": [
            "Epoch: 80 | Epoch Time: 0m 2s\n",
            "\tTrain Loss: 0.001 | Train Acc: 100.00%\n",
            "\t Val. Loss: 0.001 |  Val. Acc: 100.00%\n"
          ]
        },
        {
          "output_type": "stream",
          "name": "stderr",
          "text": [
            "\r 40%|████      | 81/200 [04:01<05:49,  2.94s/it]"
          ]
        },
        {
          "output_type": "stream",
          "name": "stdout",
          "text": [
            "Epoch: 81 | Epoch Time: 0m 2s\n",
            "\tTrain Loss: 0.001 | Train Acc: 100.00%\n",
            "\t Val. Loss: 0.001 |  Val. Acc: 100.00%\n"
          ]
        },
        {
          "output_type": "stream",
          "name": "stderr",
          "text": [
            "\r 41%|████      | 82/200 [04:04<05:47,  2.94s/it]"
          ]
        },
        {
          "output_type": "stream",
          "name": "stdout",
          "text": [
            "Epoch: 82 | Epoch Time: 0m 2s\n",
            "\tTrain Loss: 0.001 | Train Acc: 100.00%\n",
            "\t Val. Loss: 0.001 |  Val. Acc: 100.00%\n"
          ]
        },
        {
          "output_type": "stream",
          "name": "stderr",
          "text": [
            "\r 42%|████▏     | 83/200 [04:07<05:45,  2.95s/it]"
          ]
        },
        {
          "output_type": "stream",
          "name": "stdout",
          "text": [
            "Epoch: 83 | Epoch Time: 0m 2s\n",
            "\tTrain Loss: 0.001 | Train Acc: 100.00%\n",
            "\t Val. Loss: 0.001 |  Val. Acc: 100.00%\n"
          ]
        },
        {
          "output_type": "stream",
          "name": "stderr",
          "text": [
            "\r 42%|████▏     | 84/200 [04:10<05:43,  2.97s/it]"
          ]
        },
        {
          "output_type": "stream",
          "name": "stdout",
          "text": [
            "Epoch: 84 | Epoch Time: 0m 2s\n",
            "\tTrain Loss: 0.001 | Train Acc: 100.00%\n",
            "\t Val. Loss: 0.001 |  Val. Acc: 100.00%\n"
          ]
        },
        {
          "output_type": "stream",
          "name": "stderr",
          "text": [
            "\r 42%|████▎     | 85/200 [04:13<05:40,  2.96s/it]"
          ]
        },
        {
          "output_type": "stream",
          "name": "stdout",
          "text": [
            "Epoch: 85 | Epoch Time: 0m 2s\n",
            "\tTrain Loss: 0.001 | Train Acc: 100.00%\n",
            "\t Val. Loss: 0.001 |  Val. Acc: 100.00%\n"
          ]
        },
        {
          "output_type": "stream",
          "name": "stderr",
          "text": [
            "\r 43%|████▎     | 86/200 [04:16<05:36,  2.95s/it]"
          ]
        },
        {
          "output_type": "stream",
          "name": "stdout",
          "text": [
            "Epoch: 86 | Epoch Time: 0m 2s\n",
            "\tTrain Loss: 0.001 | Train Acc: 100.00%\n",
            "\t Val. Loss: 0.001 |  Val. Acc: 100.00%\n"
          ]
        },
        {
          "output_type": "stream",
          "name": "stderr",
          "text": [
            "\r 44%|████▎     | 87/200 [04:19<05:35,  2.97s/it]"
          ]
        },
        {
          "output_type": "stream",
          "name": "stdout",
          "text": [
            "Epoch: 87 | Epoch Time: 0m 2s\n",
            "\tTrain Loss: 0.001 | Train Acc: 100.00%\n",
            "\t Val. Loss: 0.001 |  Val. Acc: 100.00%\n"
          ]
        },
        {
          "output_type": "stream",
          "name": "stderr",
          "text": [
            "\r 44%|████▍     | 88/200 [04:22<05:32,  2.96s/it]"
          ]
        },
        {
          "output_type": "stream",
          "name": "stdout",
          "text": [
            "Epoch: 88 | Epoch Time: 0m 2s\n",
            "\tTrain Loss: 0.001 | Train Acc: 100.00%\n",
            "\t Val. Loss: 0.001 |  Val. Acc: 100.00%\n"
          ]
        },
        {
          "output_type": "stream",
          "name": "stderr",
          "text": [
            "\r 44%|████▍     | 89/200 [04:25<05:28,  2.96s/it]"
          ]
        },
        {
          "output_type": "stream",
          "name": "stdout",
          "text": [
            "Epoch: 89 | Epoch Time: 0m 2s\n",
            "\tTrain Loss: 0.001 | Train Acc: 100.00%\n",
            "\t Val. Loss: 0.001 |  Val. Acc: 100.00%\n"
          ]
        },
        {
          "output_type": "stream",
          "name": "stderr",
          "text": [
            "\r 45%|████▌     | 90/200 [04:28<05:28,  2.99s/it]"
          ]
        },
        {
          "output_type": "stream",
          "name": "stdout",
          "text": [
            "Epoch: 90 | Epoch Time: 0m 3s\n",
            "\tTrain Loss: 0.001 | Train Acc: 100.00%\n",
            "\t Val. Loss: 0.001 |  Val. Acc: 100.00%\n"
          ]
        },
        {
          "output_type": "stream",
          "name": "stderr",
          "text": [
            "\r 46%|████▌     | 91/200 [04:31<05:24,  2.98s/it]"
          ]
        },
        {
          "output_type": "stream",
          "name": "stdout",
          "text": [
            "Epoch: 91 | Epoch Time: 0m 2s\n",
            "\tTrain Loss: 0.001 | Train Acc: 100.00%\n",
            "\t Val. Loss: 0.001 |  Val. Acc: 100.00%\n"
          ]
        },
        {
          "output_type": "stream",
          "name": "stderr",
          "text": [
            "\r 46%|████▌     | 92/200 [04:34<05:19,  2.96s/it]"
          ]
        },
        {
          "output_type": "stream",
          "name": "stdout",
          "text": [
            "Epoch: 92 | Epoch Time: 0m 2s\n",
            "\tTrain Loss: 0.001 | Train Acc: 100.00%\n",
            "\t Val. Loss: 0.001 |  Val. Acc: 100.00%\n"
          ]
        },
        {
          "output_type": "stream",
          "name": "stderr",
          "text": [
            "\r 46%|████▋     | 93/200 [04:37<05:15,  2.95s/it]"
          ]
        },
        {
          "output_type": "stream",
          "name": "stdout",
          "text": [
            "Epoch: 93 | Epoch Time: 0m 2s\n",
            "\tTrain Loss: 0.001 | Train Acc: 100.00%\n",
            "\t Val. Loss: 0.001 |  Val. Acc: 100.00%\n"
          ]
        },
        {
          "output_type": "stream",
          "name": "stderr",
          "text": [
            "\r 47%|████▋     | 94/200 [04:40<05:18,  3.01s/it]"
          ]
        },
        {
          "output_type": "stream",
          "name": "stdout",
          "text": [
            "Epoch: 94 | Epoch Time: 0m 3s\n",
            "\tTrain Loss: 0.001 | Train Acc: 100.00%\n",
            "\t Val. Loss: 0.001 |  Val. Acc: 100.00%\n"
          ]
        },
        {
          "output_type": "stream",
          "name": "stderr",
          "text": [
            "\r 48%|████▊     | 95/200 [04:43<05:17,  3.02s/it]"
          ]
        },
        {
          "output_type": "stream",
          "name": "stdout",
          "text": [
            "Epoch: 95 | Epoch Time: 0m 3s\n",
            "\tTrain Loss: 0.001 | Train Acc: 100.00%\n",
            "\t Val. Loss: 0.001 |  Val. Acc: 100.00%\n"
          ]
        },
        {
          "output_type": "stream",
          "name": "stderr",
          "text": [
            "\r 48%|████▊     | 96/200 [04:46<05:16,  3.05s/it]"
          ]
        },
        {
          "output_type": "stream",
          "name": "stdout",
          "text": [
            "Epoch: 96 | Epoch Time: 0m 3s\n",
            "\tTrain Loss: 0.001 | Train Acc: 100.00%\n",
            "\t Val. Loss: 0.001 |  Val. Acc: 100.00%\n"
          ]
        },
        {
          "output_type": "stream",
          "name": "stderr",
          "text": [
            "\r 48%|████▊     | 97/200 [04:49<05:14,  3.05s/it]"
          ]
        },
        {
          "output_type": "stream",
          "name": "stdout",
          "text": [
            "Epoch: 97 | Epoch Time: 0m 3s\n",
            "\tTrain Loss: 0.001 | Train Acc: 100.00%\n",
            "\t Val. Loss: 0.001 |  Val. Acc: 100.00%\n"
          ]
        },
        {
          "output_type": "stream",
          "name": "stderr",
          "text": [
            "\r 49%|████▉     | 98/200 [04:52<05:11,  3.06s/it]"
          ]
        },
        {
          "output_type": "stream",
          "name": "stdout",
          "text": [
            "Epoch: 98 | Epoch Time: 0m 3s\n",
            "\tTrain Loss: 0.001 | Train Acc: 100.00%\n",
            "\t Val. Loss: 0.001 |  Val. Acc: 100.00%\n"
          ]
        },
        {
          "output_type": "stream",
          "name": "stderr",
          "text": [
            "\r 50%|████▉     | 99/200 [04:55<05:05,  3.02s/it]"
          ]
        },
        {
          "output_type": "stream",
          "name": "stdout",
          "text": [
            "Epoch: 99 | Epoch Time: 0m 2s\n",
            "\tTrain Loss: 0.001 | Train Acc: 100.00%\n",
            "\t Val. Loss: 0.001 |  Val. Acc: 100.00%\n"
          ]
        },
        {
          "output_type": "stream",
          "name": "stderr",
          "text": [
            "\r 50%|█████     | 100/200 [04:58<04:58,  2.99s/it]"
          ]
        },
        {
          "output_type": "stream",
          "name": "stdout",
          "text": [
            "Epoch: 100 | Epoch Time: 0m 2s\n",
            "\tTrain Loss: 0.001 | Train Acc: 100.00%\n",
            "\t Val. Loss: 0.001 |  Val. Acc: 100.00%\n"
          ]
        },
        {
          "output_type": "stream",
          "name": "stderr",
          "text": [
            "\r 50%|█████     | 101/200 [05:01<04:56,  3.00s/it]"
          ]
        },
        {
          "output_type": "stream",
          "name": "stdout",
          "text": [
            "Epoch: 101 | Epoch Time: 0m 3s\n",
            "\tTrain Loss: 0.001 | Train Acc: 100.00%\n",
            "\t Val. Loss: 0.001 |  Val. Acc: 100.00%\n"
          ]
        },
        {
          "output_type": "stream",
          "name": "stderr",
          "text": [
            "\r 51%|█████     | 102/200 [05:04<04:53,  2.99s/it]"
          ]
        },
        {
          "output_type": "stream",
          "name": "stdout",
          "text": [
            "Epoch: 102 | Epoch Time: 0m 2s\n",
            "\tTrain Loss: 0.001 | Train Acc: 100.00%\n",
            "\t Val. Loss: 0.001 |  Val. Acc: 100.00%\n"
          ]
        },
        {
          "output_type": "stream",
          "name": "stderr",
          "text": [
            "\r 52%|█████▏    | 103/200 [05:07<04:48,  2.98s/it]"
          ]
        },
        {
          "output_type": "stream",
          "name": "stdout",
          "text": [
            "Epoch: 103 | Epoch Time: 0m 2s\n",
            "\tTrain Loss: 0.001 | Train Acc: 100.00%\n",
            "\t Val. Loss: 0.001 |  Val. Acc: 100.00%\n"
          ]
        },
        {
          "output_type": "stream",
          "name": "stderr",
          "text": [
            "\r 52%|█████▏    | 104/200 [05:10<04:45,  2.98s/it]"
          ]
        },
        {
          "output_type": "stream",
          "name": "stdout",
          "text": [
            "Epoch: 104 | Epoch Time: 0m 2s\n",
            "\tTrain Loss: 0.001 | Train Acc: 100.00%\n",
            "\t Val. Loss: 0.001 |  Val. Acc: 100.00%\n"
          ]
        },
        {
          "output_type": "stream",
          "name": "stderr",
          "text": [
            "\r 52%|█████▎    | 105/200 [05:13<04:42,  2.98s/it]"
          ]
        },
        {
          "output_type": "stream",
          "name": "stdout",
          "text": [
            "Epoch: 105 | Epoch Time: 0m 2s\n",
            "\tTrain Loss: 0.001 | Train Acc: 100.00%\n",
            "\t Val. Loss: 0.001 |  Val. Acc: 100.00%\n"
          ]
        },
        {
          "output_type": "stream",
          "name": "stderr",
          "text": [
            "\r 53%|█████▎    | 106/200 [05:16<04:39,  2.97s/it]"
          ]
        },
        {
          "output_type": "stream",
          "name": "stdout",
          "text": [
            "Epoch: 106 | Epoch Time: 0m 2s\n",
            "\tTrain Loss: 0.001 | Train Acc: 100.00%\n",
            "\t Val. Loss: 0.001 |  Val. Acc: 100.00%\n"
          ]
        },
        {
          "output_type": "stream",
          "name": "stderr",
          "text": [
            "\r 54%|█████▎    | 107/200 [05:19<04:35,  2.96s/it]"
          ]
        },
        {
          "output_type": "stream",
          "name": "stdout",
          "text": [
            "Epoch: 107 | Epoch Time: 0m 2s\n",
            "\tTrain Loss: 0.001 | Train Acc: 100.00%\n",
            "\t Val. Loss: 0.001 |  Val. Acc: 100.00%\n"
          ]
        },
        {
          "output_type": "stream",
          "name": "stderr",
          "text": [
            "\r 54%|█████▍    | 108/200 [05:22<04:31,  2.95s/it]"
          ]
        },
        {
          "output_type": "stream",
          "name": "stdout",
          "text": [
            "Epoch: 108 | Epoch Time: 0m 2s\n",
            "\tTrain Loss: 0.001 | Train Acc: 100.00%\n",
            "\t Val. Loss: 0.001 |  Val. Acc: 100.00%\n"
          ]
        },
        {
          "output_type": "stream",
          "name": "stderr",
          "text": [
            "\r 55%|█████▍    | 109/200 [05:25<04:28,  2.95s/it]"
          ]
        },
        {
          "output_type": "stream",
          "name": "stdout",
          "text": [
            "Epoch: 109 | Epoch Time: 0m 2s\n",
            "\tTrain Loss: 0.001 | Train Acc: 100.00%\n",
            "\t Val. Loss: 0.001 |  Val. Acc: 100.00%\n"
          ]
        },
        {
          "output_type": "stream",
          "name": "stderr",
          "text": [
            "\r 55%|█████▌    | 110/200 [05:28<04:26,  2.96s/it]"
          ]
        },
        {
          "output_type": "stream",
          "name": "stdout",
          "text": [
            "Epoch: 110 | Epoch Time: 0m 2s\n",
            "\tTrain Loss: 0.001 | Train Acc: 100.00%\n",
            "\t Val. Loss: 0.001 |  Val. Acc: 100.00%\n"
          ]
        },
        {
          "output_type": "stream",
          "name": "stderr",
          "text": [
            "\r 56%|█████▌    | 111/200 [05:31<04:26,  3.00s/it]"
          ]
        },
        {
          "output_type": "stream",
          "name": "stdout",
          "text": [
            "Epoch: 111 | Epoch Time: 0m 3s\n",
            "\tTrain Loss: 0.001 | Train Acc: 100.00%\n",
            "\t Val. Loss: 0.001 |  Val. Acc: 100.00%\n"
          ]
        },
        {
          "output_type": "stream",
          "name": "stderr",
          "text": [
            "\r 56%|█████▌    | 112/200 [05:34<04:24,  3.00s/it]"
          ]
        },
        {
          "output_type": "stream",
          "name": "stdout",
          "text": [
            "Epoch: 112 | Epoch Time: 0m 3s\n",
            "\tTrain Loss: 0.001 | Train Acc: 100.00%\n",
            "\t Val. Loss: 0.001 |  Val. Acc: 100.00%\n"
          ]
        },
        {
          "output_type": "stream",
          "name": "stderr",
          "text": [
            "\r 56%|█████▋    | 113/200 [05:37<04:19,  2.99s/it]"
          ]
        },
        {
          "output_type": "stream",
          "name": "stdout",
          "text": [
            "Epoch: 113 | Epoch Time: 0m 2s\n",
            "\tTrain Loss: 0.001 | Train Acc: 100.00%\n",
            "\t Val. Loss: 0.001 |  Val. Acc: 100.00%\n"
          ]
        },
        {
          "output_type": "stream",
          "name": "stderr",
          "text": [
            "\r 57%|█████▋    | 114/200 [05:40<04:17,  3.00s/it]"
          ]
        },
        {
          "output_type": "stream",
          "name": "stdout",
          "text": [
            "Epoch: 114 | Epoch Time: 0m 3s\n",
            "\tTrain Loss: 0.001 | Train Acc: 100.00%\n",
            "\t Val. Loss: 0.001 |  Val. Acc: 100.00%\n"
          ]
        },
        {
          "output_type": "stream",
          "name": "stderr",
          "text": [
            "\r 57%|█████▊    | 115/200 [05:43<04:14,  3.00s/it]"
          ]
        },
        {
          "output_type": "stream",
          "name": "stdout",
          "text": [
            "Epoch: 115 | Epoch Time: 0m 2s\n",
            "\tTrain Loss: 0.001 | Train Acc: 100.00%\n",
            "\t Val. Loss: 0.001 |  Val. Acc: 100.00%\n"
          ]
        },
        {
          "output_type": "stream",
          "name": "stderr",
          "text": [
            "\r 58%|█████▊    | 116/200 [05:46<04:11,  2.99s/it]"
          ]
        },
        {
          "output_type": "stream",
          "name": "stdout",
          "text": [
            "Epoch: 116 | Epoch Time: 0m 2s\n",
            "\tTrain Loss: 0.001 | Train Acc: 100.00%\n",
            "\t Val. Loss: 0.001 |  Val. Acc: 100.00%\n"
          ]
        },
        {
          "output_type": "stream",
          "name": "stderr",
          "text": [
            "\r 58%|█████▊    | 117/200 [05:49<04:07,  2.98s/it]"
          ]
        },
        {
          "output_type": "stream",
          "name": "stdout",
          "text": [
            "Epoch: 117 | Epoch Time: 0m 2s\n",
            "\tTrain Loss: 0.001 | Train Acc: 100.00%\n",
            "\t Val. Loss: 0.001 |  Val. Acc: 100.00%\n"
          ]
        },
        {
          "output_type": "stream",
          "name": "stderr",
          "text": [
            "\r 59%|█████▉    | 118/200 [05:52<04:04,  2.98s/it]"
          ]
        },
        {
          "output_type": "stream",
          "name": "stdout",
          "text": [
            "Epoch: 118 | Epoch Time: 0m 2s\n",
            "\tTrain Loss: 0.000 | Train Acc: 100.00%\n",
            "\t Val. Loss: 0.001 |  Val. Acc: 100.00%\n"
          ]
        },
        {
          "output_type": "stream",
          "name": "stderr",
          "text": [
            "\r 60%|█████▉    | 119/200 [05:55<04:01,  2.99s/it]"
          ]
        },
        {
          "output_type": "stream",
          "name": "stdout",
          "text": [
            "Epoch: 119 | Epoch Time: 0m 2s\n",
            "\tTrain Loss: 0.000 | Train Acc: 100.00%\n",
            "\t Val. Loss: 0.001 |  Val. Acc: 100.00%\n"
          ]
        },
        {
          "output_type": "stream",
          "name": "stderr",
          "text": [
            "\r 60%|██████    | 120/200 [05:58<03:59,  3.00s/it]"
          ]
        },
        {
          "output_type": "stream",
          "name": "stdout",
          "text": [
            "Epoch: 120 | Epoch Time: 0m 3s\n",
            "\tTrain Loss: 0.000 | Train Acc: 100.00%\n",
            "\t Val. Loss: 0.001 |  Val. Acc: 100.00%\n"
          ]
        },
        {
          "output_type": "stream",
          "name": "stderr",
          "text": [
            "\r 60%|██████    | 121/200 [06:01<03:56,  2.99s/it]"
          ]
        },
        {
          "output_type": "stream",
          "name": "stdout",
          "text": [
            "Epoch: 121 | Epoch Time: 0m 2s\n",
            "\tTrain Loss: 0.000 | Train Acc: 100.00%\n",
            "\t Val. Loss: 0.001 |  Val. Acc: 100.00%\n"
          ]
        },
        {
          "output_type": "stream",
          "name": "stderr",
          "text": [
            "\r 61%|██████    | 122/200 [06:04<03:53,  2.99s/it]"
          ]
        },
        {
          "output_type": "stream",
          "name": "stdout",
          "text": [
            "Epoch: 122 | Epoch Time: 0m 3s\n",
            "\tTrain Loss: 0.000 | Train Acc: 100.00%\n",
            "\t Val. Loss: 0.001 |  Val. Acc: 100.00%\n"
          ]
        },
        {
          "output_type": "stream",
          "name": "stderr",
          "text": [
            "\r 62%|██████▏   | 123/200 [06:06<03:48,  2.97s/it]"
          ]
        },
        {
          "output_type": "stream",
          "name": "stdout",
          "text": [
            "Epoch: 123 | Epoch Time: 0m 2s\n",
            "\tTrain Loss: 0.000 | Train Acc: 100.00%\n",
            "\t Val. Loss: 0.001 |  Val. Acc: 100.00%\n"
          ]
        },
        {
          "output_type": "stream",
          "name": "stderr",
          "text": [
            "\r 62%|██████▏   | 124/200 [06:09<03:45,  2.97s/it]"
          ]
        },
        {
          "output_type": "stream",
          "name": "stdout",
          "text": [
            "Epoch: 124 | Epoch Time: 0m 2s\n",
            "\tTrain Loss: 0.000 | Train Acc: 100.00%\n",
            "\t Val. Loss: 0.001 |  Val. Acc: 100.00%\n"
          ]
        },
        {
          "output_type": "stream",
          "name": "stderr",
          "text": [
            "\r 62%|██████▎   | 125/200 [06:12<03:42,  2.97s/it]"
          ]
        },
        {
          "output_type": "stream",
          "name": "stdout",
          "text": [
            "Epoch: 125 | Epoch Time: 0m 2s\n",
            "\tTrain Loss: 0.000 | Train Acc: 100.00%\n",
            "\t Val. Loss: 0.001 |  Val. Acc: 100.00%\n"
          ]
        },
        {
          "output_type": "stream",
          "name": "stderr",
          "text": [
            "\r 63%|██████▎   | 126/200 [06:15<03:38,  2.95s/it]"
          ]
        },
        {
          "output_type": "stream",
          "name": "stdout",
          "text": [
            "Epoch: 126 | Epoch Time: 0m 2s\n",
            "\tTrain Loss: 0.000 | Train Acc: 100.00%\n",
            "\t Val. Loss: 0.001 |  Val. Acc: 100.00%\n"
          ]
        },
        {
          "output_type": "stream",
          "name": "stderr",
          "text": [
            "\r 64%|██████▎   | 127/200 [06:18<03:36,  2.96s/it]"
          ]
        },
        {
          "output_type": "stream",
          "name": "stdout",
          "text": [
            "Epoch: 127 | Epoch Time: 0m 2s\n",
            "\tTrain Loss: 0.000 | Train Acc: 100.00%\n",
            "\t Val. Loss: 0.001 |  Val. Acc: 100.00%\n"
          ]
        },
        {
          "output_type": "stream",
          "name": "stderr",
          "text": [
            "\r 64%|██████▍   | 128/200 [06:21<03:33,  2.97s/it]"
          ]
        },
        {
          "output_type": "stream",
          "name": "stdout",
          "text": [
            "Epoch: 128 | Epoch Time: 0m 2s\n",
            "\tTrain Loss: 0.000 | Train Acc: 100.00%\n",
            "\t Val. Loss: 0.001 |  Val. Acc: 100.00%\n"
          ]
        },
        {
          "output_type": "stream",
          "name": "stderr",
          "text": [
            "\r 64%|██████▍   | 129/200 [06:24<03:31,  2.98s/it]"
          ]
        },
        {
          "output_type": "stream",
          "name": "stdout",
          "text": [
            "Epoch: 129 | Epoch Time: 0m 2s\n",
            "\tTrain Loss: 0.000 | Train Acc: 100.00%\n",
            "\t Val. Loss: 0.001 |  Val. Acc: 100.00%\n"
          ]
        },
        {
          "output_type": "stream",
          "name": "stderr",
          "text": [
            "\r 65%|██████▌   | 130/200 [06:27<03:28,  2.98s/it]"
          ]
        },
        {
          "output_type": "stream",
          "name": "stdout",
          "text": [
            "Epoch: 130 | Epoch Time: 0m 2s\n",
            "\tTrain Loss: 0.000 | Train Acc: 100.00%\n",
            "\t Val. Loss: 0.001 |  Val. Acc: 100.00%\n"
          ]
        },
        {
          "output_type": "stream",
          "name": "stderr",
          "text": [
            "\r 66%|██████▌   | 131/200 [06:30<03:25,  2.98s/it]"
          ]
        },
        {
          "output_type": "stream",
          "name": "stdout",
          "text": [
            "Epoch: 131 | Epoch Time: 0m 2s\n",
            "\tTrain Loss: 0.000 | Train Acc: 100.00%\n",
            "\t Val. Loss: 0.001 |  Val. Acc: 100.00%\n"
          ]
        },
        {
          "output_type": "stream",
          "name": "stderr",
          "text": [
            "\r 66%|██████▌   | 132/200 [06:33<03:23,  2.99s/it]"
          ]
        },
        {
          "output_type": "stream",
          "name": "stdout",
          "text": [
            "Epoch: 132 | Epoch Time: 0m 3s\n",
            "\tTrain Loss: 0.000 | Train Acc: 100.00%\n",
            "\t Val. Loss: 0.001 |  Val. Acc: 100.00%\n"
          ]
        },
        {
          "output_type": "stream",
          "name": "stderr",
          "text": [
            "\r 66%|██████▋   | 133/200 [06:36<03:18,  2.96s/it]"
          ]
        },
        {
          "output_type": "stream",
          "name": "stdout",
          "text": [
            "Epoch: 133 | Epoch Time: 0m 2s\n",
            "\tTrain Loss: 0.000 | Train Acc: 100.00%\n",
            "\t Val. Loss: 0.001 |  Val. Acc: 100.00%\n"
          ]
        },
        {
          "output_type": "stream",
          "name": "stderr",
          "text": [
            "\r 67%|██████▋   | 134/200 [06:39<03:15,  2.96s/it]"
          ]
        },
        {
          "output_type": "stream",
          "name": "stdout",
          "text": [
            "Epoch: 134 | Epoch Time: 0m 2s\n",
            "\tTrain Loss: 0.000 | Train Acc: 100.00%\n",
            "\t Val. Loss: 0.001 |  Val. Acc: 100.00%\n"
          ]
        },
        {
          "output_type": "stream",
          "name": "stderr",
          "text": [
            "\r 68%|██████▊   | 135/200 [06:42<03:12,  2.96s/it]"
          ]
        },
        {
          "output_type": "stream",
          "name": "stdout",
          "text": [
            "Epoch: 135 | Epoch Time: 0m 2s\n",
            "\tTrain Loss: 0.000 | Train Acc: 100.00%\n",
            "\t Val. Loss: 0.001 |  Val. Acc: 100.00%\n"
          ]
        },
        {
          "output_type": "stream",
          "name": "stderr",
          "text": [
            "\r 68%|██████▊   | 136/200 [06:45<03:09,  2.95s/it]"
          ]
        },
        {
          "output_type": "stream",
          "name": "stdout",
          "text": [
            "Epoch: 136 | Epoch Time: 0m 2s\n",
            "\tTrain Loss: 0.000 | Train Acc: 100.00%\n",
            "\t Val. Loss: 0.001 |  Val. Acc: 100.00%\n"
          ]
        },
        {
          "output_type": "stream",
          "name": "stderr",
          "text": [
            "\r 68%|██████▊   | 137/200 [06:48<03:05,  2.95s/it]"
          ]
        },
        {
          "output_type": "stream",
          "name": "stdout",
          "text": [
            "Epoch: 137 | Epoch Time: 0m 2s\n",
            "\tTrain Loss: 0.000 | Train Acc: 100.00%\n",
            "\t Val. Loss: 0.001 |  Val. Acc: 100.00%\n"
          ]
        },
        {
          "output_type": "stream",
          "name": "stderr",
          "text": [
            "\r 69%|██████▉   | 138/200 [06:51<03:02,  2.95s/it]"
          ]
        },
        {
          "output_type": "stream",
          "name": "stdout",
          "text": [
            "Epoch: 138 | Epoch Time: 0m 2s\n",
            "\tTrain Loss: 0.000 | Train Acc: 100.00%\n",
            "\t Val. Loss: 0.001 |  Val. Acc: 100.00%\n"
          ]
        },
        {
          "output_type": "stream",
          "name": "stderr",
          "text": [
            "\r 70%|██████▉   | 139/200 [06:54<03:00,  2.96s/it]"
          ]
        },
        {
          "output_type": "stream",
          "name": "stdout",
          "text": [
            "Epoch: 139 | Epoch Time: 0m 2s\n",
            "\tTrain Loss: 0.000 | Train Acc: 100.00%\n",
            "\t Val. Loss: 0.001 |  Val. Acc: 100.00%\n"
          ]
        },
        {
          "output_type": "stream",
          "name": "stderr",
          "text": [
            "\r 70%|███████   | 140/200 [06:57<02:57,  2.96s/it]"
          ]
        },
        {
          "output_type": "stream",
          "name": "stdout",
          "text": [
            "Epoch: 140 | Epoch Time: 0m 2s\n",
            "\tTrain Loss: 0.000 | Train Acc: 100.00%\n",
            "\t Val. Loss: 0.001 |  Val. Acc: 100.00%\n"
          ]
        },
        {
          "output_type": "stream",
          "name": "stderr",
          "text": [
            "\r 70%|███████   | 141/200 [07:00<02:55,  2.97s/it]"
          ]
        },
        {
          "output_type": "stream",
          "name": "stdout",
          "text": [
            "Epoch: 141 | Epoch Time: 0m 2s\n",
            "\tTrain Loss: 0.000 | Train Acc: 100.00%\n",
            "\t Val. Loss: 0.001 |  Val. Acc: 100.00%\n"
          ]
        },
        {
          "output_type": "stream",
          "name": "stderr",
          "text": [
            "\r 71%|███████   | 142/200 [07:03<02:52,  2.98s/it]"
          ]
        },
        {
          "output_type": "stream",
          "name": "stdout",
          "text": [
            "Epoch: 142 | Epoch Time: 0m 2s\n",
            "\tTrain Loss: 0.000 | Train Acc: 100.00%\n",
            "\t Val. Loss: 0.001 |  Val. Acc: 100.00%\n"
          ]
        },
        {
          "output_type": "stream",
          "name": "stderr",
          "text": [
            "\r 72%|███████▏  | 143/200 [07:06<02:49,  2.97s/it]"
          ]
        },
        {
          "output_type": "stream",
          "name": "stdout",
          "text": [
            "Epoch: 143 | Epoch Time: 0m 2s\n",
            "\tTrain Loss: 0.000 | Train Acc: 100.00%\n",
            "\t Val. Loss: 0.001 |  Val. Acc: 100.00%\n"
          ]
        },
        {
          "output_type": "stream",
          "name": "stderr",
          "text": [
            "\r 72%|███████▏  | 144/200 [07:09<02:46,  2.96s/it]"
          ]
        },
        {
          "output_type": "stream",
          "name": "stdout",
          "text": [
            "Epoch: 144 | Epoch Time: 0m 2s\n",
            "\tTrain Loss: 0.000 | Train Acc: 100.00%\n",
            "\t Val. Loss: 0.001 |  Val. Acc: 100.00%\n"
          ]
        },
        {
          "output_type": "stream",
          "name": "stderr",
          "text": [
            "\r 72%|███████▎  | 145/200 [07:12<02:42,  2.96s/it]"
          ]
        },
        {
          "output_type": "stream",
          "name": "stdout",
          "text": [
            "Epoch: 145 | Epoch Time: 0m 2s\n",
            "\tTrain Loss: 0.000 | Train Acc: 100.00%\n",
            "\t Val. Loss: 0.001 |  Val. Acc: 100.00%\n"
          ]
        },
        {
          "output_type": "stream",
          "name": "stderr",
          "text": [
            "\r 73%|███████▎  | 146/200 [07:15<02:39,  2.95s/it]"
          ]
        },
        {
          "output_type": "stream",
          "name": "stdout",
          "text": [
            "Epoch: 146 | Epoch Time: 0m 2s\n",
            "\tTrain Loss: 0.000 | Train Acc: 100.00%\n",
            "\t Val. Loss: 0.001 |  Val. Acc: 100.00%\n"
          ]
        },
        {
          "output_type": "stream",
          "name": "stderr",
          "text": [
            "\r 74%|███████▎  | 147/200 [07:18<02:35,  2.94s/it]"
          ]
        },
        {
          "output_type": "stream",
          "name": "stdout",
          "text": [
            "Epoch: 147 | Epoch Time: 0m 2s\n",
            "\tTrain Loss: 0.000 | Train Acc: 100.00%\n",
            "\t Val. Loss: 0.001 |  Val. Acc: 100.00%\n"
          ]
        },
        {
          "output_type": "stream",
          "name": "stderr",
          "text": [
            "\r 74%|███████▍  | 148/200 [07:20<02:32,  2.94s/it]"
          ]
        },
        {
          "output_type": "stream",
          "name": "stdout",
          "text": [
            "Epoch: 148 | Epoch Time: 0m 2s\n",
            "\tTrain Loss: 0.000 | Train Acc: 100.00%\n",
            "\t Val. Loss: 0.001 |  Val. Acc: 100.00%\n"
          ]
        },
        {
          "output_type": "stream",
          "name": "stderr",
          "text": [
            "\r 74%|███████▍  | 149/200 [07:23<02:29,  2.93s/it]"
          ]
        },
        {
          "output_type": "stream",
          "name": "stdout",
          "text": [
            "Epoch: 149 | Epoch Time: 0m 2s\n",
            "\tTrain Loss: 0.000 | Train Acc: 100.00%\n",
            "\t Val. Loss: 0.001 |  Val. Acc: 100.00%\n"
          ]
        },
        {
          "output_type": "stream",
          "name": "stderr",
          "text": [
            "\r 75%|███████▌  | 150/200 [07:26<02:26,  2.94s/it]"
          ]
        },
        {
          "output_type": "stream",
          "name": "stdout",
          "text": [
            "Epoch: 150 | Epoch Time: 0m 2s\n",
            "\tTrain Loss: 0.000 | Train Acc: 100.00%\n",
            "\t Val. Loss: 0.001 |  Val. Acc: 100.00%\n"
          ]
        },
        {
          "output_type": "stream",
          "name": "stderr",
          "text": [
            "\r 76%|███████▌  | 151/200 [07:29<02:24,  2.94s/it]"
          ]
        },
        {
          "output_type": "stream",
          "name": "stdout",
          "text": [
            "Epoch: 151 | Epoch Time: 0m 2s\n",
            "\tTrain Loss: 0.000 | Train Acc: 100.00%\n",
            "\t Val. Loss: 0.001 |  Val. Acc: 100.00%\n"
          ]
        },
        {
          "output_type": "stream",
          "name": "stderr",
          "text": [
            "\r 76%|███████▌  | 152/200 [07:32<02:20,  2.94s/it]"
          ]
        },
        {
          "output_type": "stream",
          "name": "stdout",
          "text": [
            "Epoch: 152 | Epoch Time: 0m 2s\n",
            "\tTrain Loss: 0.000 | Train Acc: 100.00%\n",
            "\t Val. Loss: 0.001 |  Val. Acc: 100.00%\n"
          ]
        },
        {
          "output_type": "stream",
          "name": "stderr",
          "text": [
            "\r 76%|███████▋  | 153/200 [07:35<02:18,  2.96s/it]"
          ]
        },
        {
          "output_type": "stream",
          "name": "stdout",
          "text": [
            "Epoch: 153 | Epoch Time: 0m 2s\n",
            "\tTrain Loss: 0.000 | Train Acc: 100.00%\n",
            "\t Val. Loss: 0.001 |  Val. Acc: 100.00%\n"
          ]
        },
        {
          "output_type": "stream",
          "name": "stderr",
          "text": [
            "\r 77%|███████▋  | 154/200 [07:38<02:16,  2.96s/it]"
          ]
        },
        {
          "output_type": "stream",
          "name": "stdout",
          "text": [
            "Epoch: 154 | Epoch Time: 0m 2s\n",
            "\tTrain Loss: 0.000 | Train Acc: 100.00%\n",
            "\t Val. Loss: 0.001 |  Val. Acc: 100.00%\n"
          ]
        },
        {
          "output_type": "stream",
          "name": "stderr",
          "text": [
            "\r 78%|███████▊  | 155/200 [07:41<02:13,  2.96s/it]"
          ]
        },
        {
          "output_type": "stream",
          "name": "stdout",
          "text": [
            "Epoch: 155 | Epoch Time: 0m 2s\n",
            "\tTrain Loss: 0.000 | Train Acc: 100.00%\n",
            "\t Val. Loss: 0.001 |  Val. Acc: 100.00%\n"
          ]
        },
        {
          "output_type": "stream",
          "name": "stderr",
          "text": [
            "\r 78%|███████▊  | 156/200 [07:44<02:09,  2.94s/it]"
          ]
        },
        {
          "output_type": "stream",
          "name": "stdout",
          "text": [
            "Epoch: 156 | Epoch Time: 0m 2s\n",
            "\tTrain Loss: 0.000 | Train Acc: 100.00%\n",
            "\t Val. Loss: 0.001 |  Val. Acc: 100.00%\n"
          ]
        },
        {
          "output_type": "stream",
          "name": "stderr",
          "text": [
            "\r 78%|███████▊  | 157/200 [07:47<02:06,  2.95s/it]"
          ]
        },
        {
          "output_type": "stream",
          "name": "stdout",
          "text": [
            "Epoch: 157 | Epoch Time: 0m 2s\n",
            "\tTrain Loss: 0.000 | Train Acc: 100.00%\n",
            "\t Val. Loss: 0.001 |  Val. Acc: 100.00%\n"
          ]
        },
        {
          "output_type": "stream",
          "name": "stderr",
          "text": [
            "\r 79%|███████▉  | 158/200 [07:50<02:03,  2.95s/it]"
          ]
        },
        {
          "output_type": "stream",
          "name": "stdout",
          "text": [
            "Epoch: 158 | Epoch Time: 0m 2s\n",
            "\tTrain Loss: 0.000 | Train Acc: 100.00%\n",
            "\t Val. Loss: 0.001 |  Val. Acc: 100.00%\n"
          ]
        },
        {
          "output_type": "stream",
          "name": "stderr",
          "text": [
            "\r 80%|███████▉  | 159/200 [07:53<02:00,  2.94s/it]"
          ]
        },
        {
          "output_type": "stream",
          "name": "stdout",
          "text": [
            "Epoch: 159 | Epoch Time: 0m 2s\n",
            "\tTrain Loss: 0.000 | Train Acc: 100.00%\n",
            "\t Val. Loss: 0.001 |  Val. Acc: 100.00%\n"
          ]
        },
        {
          "output_type": "stream",
          "name": "stderr",
          "text": [
            "\r 80%|████████  | 160/200 [07:56<01:57,  2.95s/it]"
          ]
        },
        {
          "output_type": "stream",
          "name": "stdout",
          "text": [
            "Epoch: 160 | Epoch Time: 0m 2s\n",
            "\tTrain Loss: 0.000 | Train Acc: 100.00%\n",
            "\t Val. Loss: 0.001 |  Val. Acc: 100.00%\n"
          ]
        },
        {
          "output_type": "stream",
          "name": "stderr",
          "text": [
            "\r 80%|████████  | 161/200 [07:59<01:55,  2.95s/it]"
          ]
        },
        {
          "output_type": "stream",
          "name": "stdout",
          "text": [
            "Epoch: 161 | Epoch Time: 0m 2s\n",
            "\tTrain Loss: 0.000 | Train Acc: 100.00%\n",
            "\t Val. Loss: 0.001 |  Val. Acc: 100.00%\n"
          ]
        },
        {
          "output_type": "stream",
          "name": "stderr",
          "text": [
            "\r 81%|████████  | 162/200 [08:02<01:51,  2.94s/it]"
          ]
        },
        {
          "output_type": "stream",
          "name": "stdout",
          "text": [
            "Epoch: 162 | Epoch Time: 0m 2s\n",
            "\tTrain Loss: 0.000 | Train Acc: 100.00%\n",
            "\t Val. Loss: 0.001 |  Val. Acc: 100.00%\n"
          ]
        },
        {
          "output_type": "stream",
          "name": "stderr",
          "text": [
            "\r 82%|████████▏ | 163/200 [08:05<01:49,  2.96s/it]"
          ]
        },
        {
          "output_type": "stream",
          "name": "stdout",
          "text": [
            "Epoch: 163 | Epoch Time: 0m 3s\n",
            "\tTrain Loss: 0.000 | Train Acc: 100.00%\n",
            "\t Val. Loss: 0.001 |  Val. Acc: 100.00%\n"
          ]
        },
        {
          "output_type": "stream",
          "name": "stderr",
          "text": [
            "\r 82%|████████▏ | 164/200 [08:08<01:46,  2.96s/it]"
          ]
        },
        {
          "output_type": "stream",
          "name": "stdout",
          "text": [
            "Epoch: 164 | Epoch Time: 0m 2s\n",
            "\tTrain Loss: 0.000 | Train Acc: 100.00%\n",
            "\t Val. Loss: 0.001 |  Val. Acc: 100.00%\n"
          ]
        },
        {
          "output_type": "stream",
          "name": "stderr",
          "text": [
            "\r 82%|████████▎ | 165/200 [08:11<01:43,  2.97s/it]"
          ]
        },
        {
          "output_type": "stream",
          "name": "stdout",
          "text": [
            "Epoch: 165 | Epoch Time: 0m 2s\n",
            "\tTrain Loss: 0.000 | Train Acc: 100.00%\n",
            "\t Val. Loss: 0.001 |  Val. Acc: 100.00%\n"
          ]
        },
        {
          "output_type": "stream",
          "name": "stderr",
          "text": [
            "\r 83%|████████▎ | 166/200 [08:14<01:40,  2.95s/it]"
          ]
        },
        {
          "output_type": "stream",
          "name": "stdout",
          "text": [
            "Epoch: 166 | Epoch Time: 0m 2s\n",
            "\tTrain Loss: 0.000 | Train Acc: 100.00%\n",
            "\t Val. Loss: 0.001 |  Val. Acc: 100.00%\n"
          ]
        },
        {
          "output_type": "stream",
          "name": "stderr",
          "text": [
            "\r 84%|████████▎ | 167/200 [08:17<01:37,  2.95s/it]"
          ]
        },
        {
          "output_type": "stream",
          "name": "stdout",
          "text": [
            "Epoch: 167 | Epoch Time: 0m 2s\n",
            "\tTrain Loss: 0.000 | Train Acc: 100.00%\n",
            "\t Val. Loss: 0.001 |  Val. Acc: 100.00%\n"
          ]
        },
        {
          "output_type": "stream",
          "name": "stderr",
          "text": [
            "\r 84%|████████▍ | 168/200 [08:19<01:34,  2.94s/it]"
          ]
        },
        {
          "output_type": "stream",
          "name": "stdout",
          "text": [
            "Epoch: 168 | Epoch Time: 0m 2s\n",
            "\tTrain Loss: 0.000 | Train Acc: 100.00%\n",
            "\t Val. Loss: 0.001 |  Val. Acc: 100.00%\n"
          ]
        },
        {
          "output_type": "stream",
          "name": "stderr",
          "text": [
            "\r 84%|████████▍ | 169/200 [08:22<01:30,  2.93s/it]"
          ]
        },
        {
          "output_type": "stream",
          "name": "stdout",
          "text": [
            "Epoch: 169 | Epoch Time: 0m 2s\n",
            "\tTrain Loss: 0.000 | Train Acc: 100.00%\n",
            "\t Val. Loss: 0.001 |  Val. Acc: 100.00%\n"
          ]
        },
        {
          "output_type": "stream",
          "name": "stderr",
          "text": [
            "\r 85%|████████▌ | 170/200 [08:25<01:27,  2.92s/it]"
          ]
        },
        {
          "output_type": "stream",
          "name": "stdout",
          "text": [
            "Epoch: 170 | Epoch Time: 0m 2s\n",
            "\tTrain Loss: 0.000 | Train Acc: 100.00%\n",
            "\t Val. Loss: 0.001 |  Val. Acc: 100.00%\n"
          ]
        },
        {
          "output_type": "stream",
          "name": "stderr",
          "text": [
            "\r 86%|████████▌ | 171/200 [08:28<01:25,  2.93s/it]"
          ]
        },
        {
          "output_type": "stream",
          "name": "stdout",
          "text": [
            "Epoch: 171 | Epoch Time: 0m 2s\n",
            "\tTrain Loss: 0.000 | Train Acc: 100.00%\n",
            "\t Val. Loss: 0.001 |  Val. Acc: 100.00%\n"
          ]
        },
        {
          "output_type": "stream",
          "name": "stderr",
          "text": [
            "\r 86%|████████▌ | 172/200 [08:31<01:22,  2.93s/it]"
          ]
        },
        {
          "output_type": "stream",
          "name": "stdout",
          "text": [
            "Epoch: 172 | Epoch Time: 0m 2s\n",
            "\tTrain Loss: 0.000 | Train Acc: 100.00%\n",
            "\t Val. Loss: 0.001 |  Val. Acc: 100.00%\n"
          ]
        },
        {
          "output_type": "stream",
          "name": "stderr",
          "text": [
            "\r 86%|████████▋ | 173/200 [08:34<01:19,  2.93s/it]"
          ]
        },
        {
          "output_type": "stream",
          "name": "stdout",
          "text": [
            "Epoch: 173 | Epoch Time: 0m 2s\n",
            "\tTrain Loss: 0.000 | Train Acc: 100.00%\n",
            "\t Val. Loss: 0.001 |  Val. Acc: 100.00%\n"
          ]
        },
        {
          "output_type": "stream",
          "name": "stderr",
          "text": [
            "\r 87%|████████▋ | 174/200 [08:37<01:16,  2.93s/it]"
          ]
        },
        {
          "output_type": "stream",
          "name": "stdout",
          "text": [
            "Epoch: 174 | Epoch Time: 0m 2s\n",
            "\tTrain Loss: 0.000 | Train Acc: 100.00%\n",
            "\t Val. Loss: 0.001 |  Val. Acc: 100.00%\n"
          ]
        },
        {
          "output_type": "stream",
          "name": "stderr",
          "text": [
            "\r 88%|████████▊ | 175/200 [08:40<01:13,  2.93s/it]"
          ]
        },
        {
          "output_type": "stream",
          "name": "stdout",
          "text": [
            "Epoch: 175 | Epoch Time: 0m 2s\n",
            "\tTrain Loss: 0.000 | Train Acc: 100.00%\n",
            "\t Val. Loss: 0.001 |  Val. Acc: 100.00%\n"
          ]
        },
        {
          "output_type": "stream",
          "name": "stderr",
          "text": [
            "\r 88%|████████▊ | 176/200 [08:43<01:10,  2.93s/it]"
          ]
        },
        {
          "output_type": "stream",
          "name": "stdout",
          "text": [
            "Epoch: 176 | Epoch Time: 0m 2s\n",
            "\tTrain Loss: 0.000 | Train Acc: 100.00%\n",
            "\t Val. Loss: 0.001 |  Val. Acc: 100.00%\n"
          ]
        },
        {
          "output_type": "stream",
          "name": "stderr",
          "text": [
            "\r 88%|████████▊ | 177/200 [08:46<01:07,  2.93s/it]"
          ]
        },
        {
          "output_type": "stream",
          "name": "stdout",
          "text": [
            "Epoch: 177 | Epoch Time: 0m 2s\n",
            "\tTrain Loss: 0.000 | Train Acc: 100.00%\n",
            "\t Val. Loss: 0.001 |  Val. Acc: 100.00%\n"
          ]
        },
        {
          "output_type": "stream",
          "name": "stderr",
          "text": [
            "\r 89%|████████▉ | 178/200 [08:49<01:04,  2.92s/it]"
          ]
        },
        {
          "output_type": "stream",
          "name": "stdout",
          "text": [
            "Epoch: 178 | Epoch Time: 0m 2s\n",
            "\tTrain Loss: 0.000 | Train Acc: 100.00%\n",
            "\t Val. Loss: 0.001 |  Val. Acc: 100.00%\n"
          ]
        },
        {
          "output_type": "stream",
          "name": "stderr",
          "text": [
            "\r 90%|████████▉ | 179/200 [08:52<01:01,  2.92s/it]"
          ]
        },
        {
          "output_type": "stream",
          "name": "stdout",
          "text": [
            "Epoch: 179 | Epoch Time: 0m 2s\n",
            "\tTrain Loss: 0.000 | Train Acc: 100.00%\n",
            "\t Val. Loss: 0.001 |  Val. Acc: 100.00%\n"
          ]
        },
        {
          "output_type": "stream",
          "name": "stderr",
          "text": [
            "\r 90%|█████████ | 180/200 [08:55<00:58,  2.93s/it]"
          ]
        },
        {
          "output_type": "stream",
          "name": "stdout",
          "text": [
            "Epoch: 180 | Epoch Time: 0m 2s\n",
            "\tTrain Loss: 0.000 | Train Acc: 100.00%\n",
            "\t Val. Loss: 0.001 |  Val. Acc: 100.00%\n"
          ]
        },
        {
          "output_type": "stream",
          "name": "stderr",
          "text": [
            "\r 90%|█████████ | 181/200 [08:58<00:55,  2.94s/it]"
          ]
        },
        {
          "output_type": "stream",
          "name": "stdout",
          "text": [
            "Epoch: 181 | Epoch Time: 0m 2s\n",
            "\tTrain Loss: 0.000 | Train Acc: 100.00%\n",
            "\t Val. Loss: 0.000 |  Val. Acc: 100.00%\n"
          ]
        },
        {
          "output_type": "stream",
          "name": "stderr",
          "text": [
            "\r 91%|█████████ | 182/200 [09:00<00:53,  2.95s/it]"
          ]
        },
        {
          "output_type": "stream",
          "name": "stdout",
          "text": [
            "Epoch: 182 | Epoch Time: 0m 2s\n",
            "\tTrain Loss: 0.000 | Train Acc: 100.00%\n",
            "\t Val. Loss: 0.001 |  Val. Acc: 100.00%\n"
          ]
        },
        {
          "output_type": "stream",
          "name": "stderr",
          "text": [
            "\r 92%|█████████▏| 183/200 [09:04<00:50,  2.97s/it]"
          ]
        },
        {
          "output_type": "stream",
          "name": "stdout",
          "text": [
            "Epoch: 183 | Epoch Time: 0m 3s\n",
            "\tTrain Loss: 0.000 | Train Acc: 100.00%\n",
            "\t Val. Loss: 0.001 |  Val. Acc: 100.00%\n"
          ]
        },
        {
          "output_type": "stream",
          "name": "stderr",
          "text": [
            "\r 92%|█████████▏| 184/200 [09:07<00:47,  3.00s/it]"
          ]
        },
        {
          "output_type": "stream",
          "name": "stdout",
          "text": [
            "Epoch: 184 | Epoch Time: 0m 3s\n",
            "\tTrain Loss: 0.000 | Train Acc: 100.00%\n",
            "\t Val. Loss: 0.001 |  Val. Acc: 100.00%\n"
          ]
        },
        {
          "output_type": "stream",
          "name": "stderr",
          "text": [
            "\r 92%|█████████▎| 185/200 [09:10<00:44,  2.99s/it]"
          ]
        },
        {
          "output_type": "stream",
          "name": "stdout",
          "text": [
            "Epoch: 185 | Epoch Time: 0m 2s\n",
            "\tTrain Loss: 0.000 | Train Acc: 100.00%\n",
            "\t Val. Loss: 0.001 |  Val. Acc: 100.00%\n"
          ]
        },
        {
          "output_type": "stream",
          "name": "stderr",
          "text": [
            "\r 93%|█████████▎| 186/200 [09:12<00:41,  2.98s/it]"
          ]
        },
        {
          "output_type": "stream",
          "name": "stdout",
          "text": [
            "Epoch: 186 | Epoch Time: 0m 2s\n",
            "\tTrain Loss: 0.000 | Train Acc: 100.00%\n",
            "\t Val. Loss: 0.000 |  Val. Acc: 100.00%\n"
          ]
        },
        {
          "output_type": "stream",
          "name": "stderr",
          "text": [
            "\r 94%|█████████▎| 187/200 [09:15<00:38,  2.96s/it]"
          ]
        },
        {
          "output_type": "stream",
          "name": "stdout",
          "text": [
            "Epoch: 187 | Epoch Time: 0m 2s\n",
            "\tTrain Loss: 0.000 | Train Acc: 100.00%\n",
            "\t Val. Loss: 0.000 |  Val. Acc: 100.00%\n"
          ]
        },
        {
          "output_type": "stream",
          "name": "stderr",
          "text": [
            "\r 94%|█████████▍| 188/200 [09:18<00:35,  2.94s/it]"
          ]
        },
        {
          "output_type": "stream",
          "name": "stdout",
          "text": [
            "Epoch: 188 | Epoch Time: 0m 2s\n",
            "\tTrain Loss: 0.000 | Train Acc: 100.00%\n",
            "\t Val. Loss: 0.000 |  Val. Acc: 100.00%\n"
          ]
        },
        {
          "output_type": "stream",
          "name": "stderr",
          "text": [
            "\r 94%|█████████▍| 189/200 [09:21<00:32,  2.94s/it]"
          ]
        },
        {
          "output_type": "stream",
          "name": "stdout",
          "text": [
            "Epoch: 189 | Epoch Time: 0m 2s\n",
            "\tTrain Loss: 0.000 | Train Acc: 100.00%\n",
            "\t Val. Loss: 0.000 |  Val. Acc: 100.00%\n"
          ]
        },
        {
          "output_type": "stream",
          "name": "stderr",
          "text": [
            "\r 95%|█████████▌| 190/200 [09:24<00:29,  2.95s/it]"
          ]
        },
        {
          "output_type": "stream",
          "name": "stdout",
          "text": [
            "Epoch: 190 | Epoch Time: 0m 2s\n",
            "\tTrain Loss: 0.000 | Train Acc: 100.00%\n",
            "\t Val. Loss: 0.000 |  Val. Acc: 100.00%\n"
          ]
        },
        {
          "output_type": "stream",
          "name": "stderr",
          "text": [
            "\r 96%|█████████▌| 191/200 [09:27<00:26,  2.96s/it]"
          ]
        },
        {
          "output_type": "stream",
          "name": "stdout",
          "text": [
            "Epoch: 191 | Epoch Time: 0m 2s\n",
            "\tTrain Loss: 0.000 | Train Acc: 100.00%\n",
            "\t Val. Loss: 0.000 |  Val. Acc: 100.00%\n"
          ]
        },
        {
          "output_type": "stream",
          "name": "stderr",
          "text": [
            "\r 96%|█████████▌| 192/200 [09:30<00:23,  2.95s/it]"
          ]
        },
        {
          "output_type": "stream",
          "name": "stdout",
          "text": [
            "Epoch: 192 | Epoch Time: 0m 2s\n",
            "\tTrain Loss: 0.000 | Train Acc: 100.00%\n",
            "\t Val. Loss: 0.000 |  Val. Acc: 100.00%\n"
          ]
        },
        {
          "output_type": "stream",
          "name": "stderr",
          "text": [
            "\r 96%|█████████▋| 193/200 [09:33<00:20,  2.95s/it]"
          ]
        },
        {
          "output_type": "stream",
          "name": "stdout",
          "text": [
            "Epoch: 193 | Epoch Time: 0m 2s\n",
            "\tTrain Loss: 0.000 | Train Acc: 100.00%\n",
            "\t Val. Loss: 0.000 |  Val. Acc: 100.00%\n"
          ]
        },
        {
          "output_type": "stream",
          "name": "stderr",
          "text": [
            "\r 97%|█████████▋| 194/200 [09:36<00:17,  2.94s/it]"
          ]
        },
        {
          "output_type": "stream",
          "name": "stdout",
          "text": [
            "Epoch: 194 | Epoch Time: 0m 2s\n",
            "\tTrain Loss: 0.000 | Train Acc: 100.00%\n",
            "\t Val. Loss: 0.000 |  Val. Acc: 100.00%\n"
          ]
        },
        {
          "output_type": "stream",
          "name": "stderr",
          "text": [
            "\r 98%|█████████▊| 195/200 [09:39<00:14,  2.99s/it]"
          ]
        },
        {
          "output_type": "stream",
          "name": "stdout",
          "text": [
            "Epoch: 195 | Epoch Time: 0m 3s\n",
            "\tTrain Loss: 0.000 | Train Acc: 100.00%\n",
            "\t Val. Loss: 0.001 |  Val. Acc: 100.00%\n"
          ]
        },
        {
          "output_type": "stream",
          "name": "stderr",
          "text": [
            "\r 98%|█████████▊| 196/200 [09:42<00:11,  2.99s/it]"
          ]
        },
        {
          "output_type": "stream",
          "name": "stdout",
          "text": [
            "Epoch: 196 | Epoch Time: 0m 2s\n",
            "\tTrain Loss: 0.000 | Train Acc: 100.00%\n",
            "\t Val. Loss: 0.000 |  Val. Acc: 100.00%\n"
          ]
        },
        {
          "output_type": "stream",
          "name": "stderr",
          "text": [
            "\r 98%|█████████▊| 197/200 [09:45<00:08,  2.98s/it]"
          ]
        },
        {
          "output_type": "stream",
          "name": "stdout",
          "text": [
            "Epoch: 197 | Epoch Time: 0m 2s\n",
            "\tTrain Loss: 0.000 | Train Acc: 100.00%\n",
            "\t Val. Loss: 0.000 |  Val. Acc: 100.00%\n"
          ]
        },
        {
          "output_type": "stream",
          "name": "stderr",
          "text": [
            "\r 99%|█████████▉| 198/200 [09:48<00:05,  2.98s/it]"
          ]
        },
        {
          "output_type": "stream",
          "name": "stdout",
          "text": [
            "Epoch: 198 | Epoch Time: 0m 2s\n",
            "\tTrain Loss: 0.000 | Train Acc: 100.00%\n",
            "\t Val. Loss: 0.000 |  Val. Acc: 100.00%\n"
          ]
        },
        {
          "output_type": "stream",
          "name": "stderr",
          "text": [
            "\r100%|█████████▉| 199/200 [09:51<00:03,  3.01s/it]"
          ]
        },
        {
          "output_type": "stream",
          "name": "stdout",
          "text": [
            "Epoch: 199 | Epoch Time: 0m 3s\n",
            "\tTrain Loss: 0.000 | Train Acc: 100.00%\n",
            "\t Val. Loss: 0.000 |  Val. Acc: 100.00%\n"
          ]
        },
        {
          "output_type": "stream",
          "name": "stderr",
          "text": [
            "100%|██████████| 200/200 [09:54<00:00,  2.97s/it]"
          ]
        },
        {
          "output_type": "stream",
          "name": "stdout",
          "text": [
            "Epoch: 200 | Epoch Time: 0m 3s\n",
            "\tTrain Loss: 0.000 | Train Acc: 100.00%\n",
            "\t Val. Loss: 0.000 |  Val. Acc: 100.00%\n"
          ]
        },
        {
          "output_type": "stream",
          "name": "stderr",
          "text": [
            "\n"
          ]
        }
      ]
    },
    {
      "cell_type": "code",
      "source": [
        "TRAIN(train_data,valid_data,device,optimizer='SGD',no_epochs=10,LR=10**-6,reg=10**-6)\n"
      ],
      "metadata": {
        "colab": {
          "base_uri": "https://localhost:8080/"
        },
        "id": "ZzfRcO8r1tYL",
        "outputId": "0bddb618-b2a9-46d9-a352-bca08d023279"
      },
      "execution_count": null,
      "outputs": [
        {
          "output_type": "stream",
          "name": "stderr",
          "text": [
            " 10%|█         | 1/10 [00:03<00:28,  3.15s/it]"
          ]
        },
        {
          "output_type": "stream",
          "name": "stdout",
          "text": [
            "Epoch: 01 | Epoch Time: 0m 3s\n",
            "\tTrain Loss: 0.440 | Train Acc: 79.99%\n",
            "\t Val. Loss: 0.433 |  Val. Acc: 77.23%\n"
          ]
        },
        {
          "output_type": "stream",
          "name": "stderr",
          "text": [
            "\r 20%|██        | 2/10 [00:06<00:24,  3.08s/it]"
          ]
        },
        {
          "output_type": "stream",
          "name": "stdout",
          "text": [
            "Epoch: 02 | Epoch Time: 0m 3s\n",
            "\tTrain Loss: 0.438 | Train Acc: 80.54%\n",
            "\t Val. Loss: 0.471 |  Val. Acc: 73.66%\n"
          ]
        },
        {
          "output_type": "stream",
          "name": "stderr",
          "text": [
            "\r 30%|███       | 3/10 [00:09<00:21,  3.06s/it]"
          ]
        },
        {
          "output_type": "stream",
          "name": "stdout",
          "text": [
            "Epoch: 03 | Epoch Time: 0m 3s\n",
            "\tTrain Loss: 0.435 | Train Acc: 79.71%\n",
            "\t Val. Loss: 0.490 |  Val. Acc: 70.98%\n"
          ]
        },
        {
          "output_type": "stream",
          "name": "stderr",
          "text": [
            "\r 40%|████      | 4/10 [00:12<00:18,  3.02s/it]"
          ]
        },
        {
          "output_type": "stream",
          "name": "stdout",
          "text": [
            "Epoch: 04 | Epoch Time: 0m 2s\n",
            "\tTrain Loss: 0.430 | Train Acc: 80.92%\n",
            "\t Val. Loss: 0.432 |  Val. Acc: 75.89%\n"
          ]
        },
        {
          "output_type": "stream",
          "name": "stderr",
          "text": [
            "\r 50%|█████     | 5/10 [00:15<00:14,  2.99s/it]"
          ]
        },
        {
          "output_type": "stream",
          "name": "stdout",
          "text": [
            "Epoch: 05 | Epoch Time: 0m 2s\n",
            "\tTrain Loss: 0.430 | Train Acc: 79.71%\n",
            "\t Val. Loss: 0.416 |  Val. Acc: 79.91%\n"
          ]
        },
        {
          "output_type": "stream",
          "name": "stderr",
          "text": [
            "\r 60%|██████    | 6/10 [00:18<00:11,  2.99s/it]"
          ]
        },
        {
          "output_type": "stream",
          "name": "stdout",
          "text": [
            "Epoch: 06 | Epoch Time: 0m 2s\n",
            "\tTrain Loss: 0.434 | Train Acc: 79.82%\n",
            "\t Val. Loss: 0.456 |  Val. Acc: 77.68%\n"
          ]
        },
        {
          "output_type": "stream",
          "name": "stderr",
          "text": [
            "\r 70%|███████   | 7/10 [00:21<00:08,  2.98s/it]"
          ]
        },
        {
          "output_type": "stream",
          "name": "stdout",
          "text": [
            "Epoch: 07 | Epoch Time: 0m 2s\n",
            "\tTrain Loss: 0.425 | Train Acc: 81.52%\n",
            "\t Val. Loss: 0.434 |  Val. Acc: 76.79%\n"
          ]
        },
        {
          "output_type": "stream",
          "name": "stderr",
          "text": [
            "\r 80%|████████  | 8/10 [00:23<00:05,  2.96s/it]"
          ]
        },
        {
          "output_type": "stream",
          "name": "stdout",
          "text": [
            "Epoch: 08 | Epoch Time: 0m 2s\n",
            "\tTrain Loss: 0.424 | Train Acc: 81.30%\n",
            "\t Val. Loss: 0.441 |  Val. Acc: 76.79%\n"
          ]
        },
        {
          "output_type": "stream",
          "name": "stderr",
          "text": [
            "\r 90%|█████████ | 9/10 [00:26<00:02,  2.95s/it]"
          ]
        },
        {
          "output_type": "stream",
          "name": "stdout",
          "text": [
            "Epoch: 09 | Epoch Time: 0m 2s\n",
            "\tTrain Loss: 0.416 | Train Acc: 81.52%\n",
            "\t Val. Loss: 0.484 |  Val. Acc: 70.09%\n"
          ]
        },
        {
          "output_type": "stream",
          "name": "stderr",
          "text": [
            "100%|██████████| 10/10 [00:29<00:00,  2.99s/it]"
          ]
        },
        {
          "output_type": "stream",
          "name": "stdout",
          "text": [
            "Epoch: 10 | Epoch Time: 0m 2s\n",
            "\tTrain Loss: 0.419 | Train Acc: 81.41%\n",
            "\t Val. Loss: 0.427 |  Val. Acc: 78.57%\n"
          ]
        },
        {
          "output_type": "stream",
          "name": "stderr",
          "text": [
            "\n"
          ]
        }
      ]
    },
    {
      "cell_type": "code",
      "source": [
        "TRAIN(train_data,valid_data,device,optimizer='SGD',no_epochs=10,LR=10**6,reg=10**-6)\n"
      ],
      "metadata": {
        "colab": {
          "base_uri": "https://localhost:8080/"
        },
        "id": "ImSh9GZa1y6h",
        "outputId": "e8d4f757-8c18-4855-8df1-a9765844e9a7"
      },
      "execution_count": null,
      "outputs": [
        {
          "output_type": "stream",
          "name": "stderr",
          "text": [
            " 10%|█         | 1/10 [00:02<00:26,  2.98s/it]"
          ]
        },
        {
          "output_type": "stream",
          "name": "stdout",
          "text": [
            "Epoch: 01 | Epoch Time: 0m 2s\n",
            "\tTrain Loss: nan | Train Acc: 95.23%\n",
            "\t Val. Loss: nan |  Val. Acc: 100.00%\n"
          ]
        },
        {
          "output_type": "stream",
          "name": "stderr",
          "text": [
            "\r 20%|██        | 2/10 [00:05<00:23,  2.92s/it]"
          ]
        },
        {
          "output_type": "stream",
          "name": "stdout",
          "text": [
            "Epoch: 02 | Epoch Time: 0m 2s\n",
            "\tTrain Loss: nan | Train Acc: 100.00%\n",
            "\t Val. Loss: nan |  Val. Acc: 100.00%\n"
          ]
        },
        {
          "output_type": "stream",
          "name": "stderr",
          "text": [
            "\r 30%|███       | 3/10 [00:08<00:20,  2.92s/it]"
          ]
        },
        {
          "output_type": "stream",
          "name": "stdout",
          "text": [
            "Epoch: 03 | Epoch Time: 0m 2s\n",
            "\tTrain Loss: nan | Train Acc: 100.00%\n",
            "\t Val. Loss: nan |  Val. Acc: 100.00%\n"
          ]
        },
        {
          "output_type": "stream",
          "name": "stderr",
          "text": [
            "\r 40%|████      | 4/10 [00:11<00:17,  2.91s/it]"
          ]
        },
        {
          "output_type": "stream",
          "name": "stdout",
          "text": [
            "Epoch: 04 | Epoch Time: 0m 2s\n",
            "\tTrain Loss: nan | Train Acc: 100.00%\n",
            "\t Val. Loss: nan |  Val. Acc: 100.00%\n"
          ]
        },
        {
          "output_type": "stream",
          "name": "stderr",
          "text": [
            "\r 50%|█████     | 5/10 [00:14<00:14,  2.92s/it]"
          ]
        },
        {
          "output_type": "stream",
          "name": "stdout",
          "text": [
            "Epoch: 05 | Epoch Time: 0m 2s\n",
            "\tTrain Loss: nan | Train Acc: 100.00%\n",
            "\t Val. Loss: nan |  Val. Acc: 100.00%\n"
          ]
        },
        {
          "output_type": "stream",
          "name": "stderr",
          "text": [
            "\r 60%|██████    | 6/10 [00:17<00:11,  2.92s/it]"
          ]
        },
        {
          "output_type": "stream",
          "name": "stdout",
          "text": [
            "Epoch: 06 | Epoch Time: 0m 2s\n",
            "\tTrain Loss: nan | Train Acc: 100.00%\n",
            "\t Val. Loss: nan |  Val. Acc: 100.00%\n"
          ]
        },
        {
          "output_type": "stream",
          "name": "stderr",
          "text": [
            "\r 70%|███████   | 7/10 [00:20<00:08,  2.93s/it]"
          ]
        },
        {
          "output_type": "stream",
          "name": "stdout",
          "text": [
            "Epoch: 07 | Epoch Time: 0m 2s\n",
            "\tTrain Loss: nan | Train Acc: 100.00%\n",
            "\t Val. Loss: nan |  Val. Acc: 100.00%\n"
          ]
        },
        {
          "output_type": "stream",
          "name": "stderr",
          "text": [
            "\r 80%|████████  | 8/10 [00:23<00:05,  2.92s/it]"
          ]
        },
        {
          "output_type": "stream",
          "name": "stdout",
          "text": [
            "Epoch: 08 | Epoch Time: 0m 2s\n",
            "\tTrain Loss: nan | Train Acc: 100.00%\n",
            "\t Val. Loss: nan |  Val. Acc: 100.00%\n"
          ]
        },
        {
          "output_type": "stream",
          "name": "stderr",
          "text": [
            "\r 90%|█████████ | 9/10 [00:26<00:02,  2.93s/it]"
          ]
        },
        {
          "output_type": "stream",
          "name": "stdout",
          "text": [
            "Epoch: 09 | Epoch Time: 0m 2s\n",
            "\tTrain Loss: nan | Train Acc: 100.00%\n",
            "\t Val. Loss: nan |  Val. Acc: 100.00%\n"
          ]
        },
        {
          "output_type": "stream",
          "name": "stderr",
          "text": [
            "100%|██████████| 10/10 [00:29<00:00,  2.93s/it]"
          ]
        },
        {
          "output_type": "stream",
          "name": "stdout",
          "text": [
            "Epoch: 10 | Epoch Time: 0m 2s\n",
            "\tTrain Loss: nan | Train Acc: 100.00%\n",
            "\t Val. Loss: nan |  Val. Acc: 100.00%\n"
          ]
        },
        {
          "output_type": "stream",
          "name": "stderr",
          "text": [
            "\n"
          ]
        }
      ]
    },
    {
      "cell_type": "code",
      "source": [
        "TRAIN(train_data,valid_data,device,optimizer='SGD',no_epochs=10,LR=3*10**-3,reg=10**-6)\n"
      ],
      "metadata": {
        "colab": {
          "base_uri": "https://localhost:8080/"
        },
        "id": "St2_1lPm10cr",
        "outputId": "4c36b156-fae9-4012-bc6c-a616a134b382"
      },
      "execution_count": null,
      "outputs": [
        {
          "output_type": "stream",
          "name": "stderr",
          "text": [
            " 10%|█         | 1/10 [00:03<00:27,  3.00s/it]"
          ]
        },
        {
          "output_type": "stream",
          "name": "stdout",
          "text": [
            "Epoch: 01 | Epoch Time: 0m 3s\n",
            "\tTrain Loss: 0.112 | Train Acc: 96.93%\n",
            "\t Val. Loss: 0.016 |  Val. Acc: 100.00%\n"
          ]
        },
        {
          "output_type": "stream",
          "name": "stderr",
          "text": [
            "\r 20%|██        | 2/10 [00:05<00:23,  2.96s/it]"
          ]
        },
        {
          "output_type": "stream",
          "name": "stdout",
          "text": [
            "Epoch: 02 | Epoch Time: 0m 2s\n",
            "\tTrain Loss: 0.010 | Train Acc: 100.00%\n",
            "\t Val. Loss: 0.010 |  Val. Acc: 100.00%\n"
          ]
        },
        {
          "output_type": "stream",
          "name": "stderr",
          "text": [
            "\r 30%|███       | 3/10 [00:08<00:20,  2.96s/it]"
          ]
        },
        {
          "output_type": "stream",
          "name": "stdout",
          "text": [
            "Epoch: 03 | Epoch Time: 0m 2s\n",
            "\tTrain Loss: 0.006 | Train Acc: 100.00%\n",
            "\t Val. Loss: 0.007 |  Val. Acc: 100.00%\n"
          ]
        },
        {
          "output_type": "stream",
          "name": "stderr",
          "text": [
            "\r 40%|████      | 4/10 [00:11<00:17,  2.96s/it]"
          ]
        },
        {
          "output_type": "stream",
          "name": "stdout",
          "text": [
            "Epoch: 04 | Epoch Time: 0m 2s\n",
            "\tTrain Loss: 0.005 | Train Acc: 100.00%\n",
            "\t Val. Loss: 0.005 |  Val. Acc: 100.00%\n"
          ]
        },
        {
          "output_type": "stream",
          "name": "stderr",
          "text": [
            "\r 50%|█████     | 5/10 [00:14<00:14,  2.96s/it]"
          ]
        },
        {
          "output_type": "stream",
          "name": "stdout",
          "text": [
            "Epoch: 05 | Epoch Time: 0m 2s\n",
            "\tTrain Loss: 0.004 | Train Acc: 100.00%\n",
            "\t Val. Loss: 0.005 |  Val. Acc: 100.00%\n"
          ]
        },
        {
          "output_type": "stream",
          "name": "stderr",
          "text": [
            "\r 60%|██████    | 6/10 [00:17<00:11,  2.95s/it]"
          ]
        },
        {
          "output_type": "stream",
          "name": "stdout",
          "text": [
            "Epoch: 06 | Epoch Time: 0m 2s\n",
            "\tTrain Loss: 0.003 | Train Acc: 100.00%\n",
            "\t Val. Loss: 0.004 |  Val. Acc: 100.00%\n"
          ]
        },
        {
          "output_type": "stream",
          "name": "stderr",
          "text": [
            "\r 70%|███████   | 7/10 [00:20<00:08,  2.96s/it]"
          ]
        },
        {
          "output_type": "stream",
          "name": "stdout",
          "text": [
            "Epoch: 07 | Epoch Time: 0m 2s\n",
            "\tTrain Loss: 0.003 | Train Acc: 100.00%\n",
            "\t Val. Loss: 0.004 |  Val. Acc: 100.00%\n"
          ]
        },
        {
          "output_type": "stream",
          "name": "stderr",
          "text": [
            "\r 80%|████████  | 8/10 [00:23<00:05,  2.93s/it]"
          ]
        },
        {
          "output_type": "stream",
          "name": "stdout",
          "text": [
            "Epoch: 08 | Epoch Time: 0m 2s\n",
            "\tTrain Loss: 0.002 | Train Acc: 100.00%\n",
            "\t Val. Loss: 0.003 |  Val. Acc: 100.00%\n"
          ]
        },
        {
          "output_type": "stream",
          "name": "stderr",
          "text": [
            "\r 90%|█████████ | 9/10 [00:26<00:02,  2.92s/it]"
          ]
        },
        {
          "output_type": "stream",
          "name": "stdout",
          "text": [
            "Epoch: 09 | Epoch Time: 0m 2s\n",
            "\tTrain Loss: 0.002 | Train Acc: 100.00%\n",
            "\t Val. Loss: 0.003 |  Val. Acc: 100.00%\n"
          ]
        },
        {
          "output_type": "stream",
          "name": "stderr",
          "text": [
            "100%|██████████| 10/10 [00:29<00:00,  2.94s/it]"
          ]
        },
        {
          "output_type": "stream",
          "name": "stdout",
          "text": [
            "Epoch: 10 | Epoch Time: 0m 2s\n",
            "\tTrain Loss: 0.002 | Train Acc: 100.00%\n",
            "\t Val. Loss: 0.003 |  Val. Acc: 100.00%\n"
          ]
        },
        {
          "output_type": "stream",
          "name": "stderr",
          "text": [
            "\n"
          ]
        }
      ]
    },
    {
      "cell_type": "code",
      "source": [
        "TRAIN(train_data,valid_data,device,optimizer='SGD',no_epochs=10,LR=10**-3,reg=10**-3)\n"
      ],
      "metadata": {
        "colab": {
          "base_uri": "https://localhost:8080/"
        },
        "id": "Y86PyMrg14de",
        "outputId": "263eef41-b032-42da-9161-b91ae36f2d90"
      },
      "execution_count": null,
      "outputs": [
        {
          "output_type": "stream",
          "name": "stderr",
          "text": [
            " 10%|█         | 1/10 [00:02<00:26,  2.93s/it]"
          ]
        },
        {
          "output_type": "stream",
          "name": "stdout",
          "text": [
            "Epoch: 01 | Epoch Time: 0m 2s\n",
            "\tTrain Loss: 0.286 | Train Acc: 87.88%\n",
            "\t Val. Loss: 0.071 |  Val. Acc: 100.00%\n"
          ]
        },
        {
          "output_type": "stream",
          "name": "stderr",
          "text": [
            "\r 20%|██        | 2/10 [00:05<00:23,  2.97s/it]"
          ]
        },
        {
          "output_type": "stream",
          "name": "stdout",
          "text": [
            "Epoch: 02 | Epoch Time: 0m 2s\n",
            "\tTrain Loss: 0.038 | Train Acc: 100.00%\n",
            "\t Val. Loss: 0.035 |  Val. Acc: 100.00%\n"
          ]
        },
        {
          "output_type": "stream",
          "name": "stderr",
          "text": [
            "\r 30%|███       | 3/10 [00:08<00:20,  2.95s/it]"
          ]
        },
        {
          "output_type": "stream",
          "name": "stdout",
          "text": [
            "Epoch: 03 | Epoch Time: 0m 2s\n",
            "\tTrain Loss: 0.023 | Train Acc: 100.00%\n",
            "\t Val. Loss: 0.024 |  Val. Acc: 100.00%\n"
          ]
        },
        {
          "output_type": "stream",
          "name": "stderr",
          "text": [
            "\r 40%|████      | 4/10 [00:11<00:17,  2.99s/it]"
          ]
        },
        {
          "output_type": "stream",
          "name": "stdout",
          "text": [
            "Epoch: 04 | Epoch Time: 0m 3s\n",
            "\tTrain Loss: 0.017 | Train Acc: 100.00%\n",
            "\t Val. Loss: 0.018 |  Val. Acc: 100.00%\n"
          ]
        },
        {
          "output_type": "stream",
          "name": "stderr",
          "text": [
            "\r 50%|█████     | 5/10 [00:14<00:14,  2.98s/it]"
          ]
        },
        {
          "output_type": "stream",
          "name": "stdout",
          "text": [
            "Epoch: 05 | Epoch Time: 0m 2s\n",
            "\tTrain Loss: 0.013 | Train Acc: 100.00%\n",
            "\t Val. Loss: 0.015 |  Val. Acc: 100.00%\n"
          ]
        },
        {
          "output_type": "stream",
          "name": "stderr",
          "text": [
            "\r 60%|██████    | 6/10 [00:17<00:11,  2.99s/it]"
          ]
        },
        {
          "output_type": "stream",
          "name": "stdout",
          "text": [
            "Epoch: 06 | Epoch Time: 0m 3s\n",
            "\tTrain Loss: 0.011 | Train Acc: 100.00%\n",
            "\t Val. Loss: 0.013 |  Val. Acc: 100.00%\n"
          ]
        },
        {
          "output_type": "stream",
          "name": "stderr",
          "text": [
            "\r 70%|███████   | 7/10 [00:20<00:08,  2.99s/it]"
          ]
        },
        {
          "output_type": "stream",
          "name": "stdout",
          "text": [
            "Epoch: 07 | Epoch Time: 0m 2s\n",
            "\tTrain Loss: 0.009 | Train Acc: 100.00%\n",
            "\t Val. Loss: 0.011 |  Val. Acc: 100.00%\n"
          ]
        },
        {
          "output_type": "stream",
          "name": "stderr",
          "text": [
            "\r 80%|████████  | 8/10 [00:23<00:05,  2.99s/it]"
          ]
        },
        {
          "output_type": "stream",
          "name": "stdout",
          "text": [
            "Epoch: 08 | Epoch Time: 0m 2s\n",
            "\tTrain Loss: 0.008 | Train Acc: 100.00%\n",
            "\t Val. Loss: 0.010 |  Val. Acc: 100.00%\n"
          ]
        },
        {
          "output_type": "stream",
          "name": "stderr",
          "text": [
            "\r 90%|█████████ | 9/10 [00:26<00:02,  2.98s/it]"
          ]
        },
        {
          "output_type": "stream",
          "name": "stdout",
          "text": [
            "Epoch: 09 | Epoch Time: 0m 2s\n",
            "\tTrain Loss: 0.007 | Train Acc: 100.00%\n",
            "\t Val. Loss: 0.008 |  Val. Acc: 100.00%\n"
          ]
        },
        {
          "output_type": "stream",
          "name": "stderr",
          "text": [
            "100%|██████████| 10/10 [00:29<00:00,  2.98s/it]"
          ]
        },
        {
          "output_type": "stream",
          "name": "stdout",
          "text": [
            "Epoch: 10 | Epoch Time: 0m 2s\n",
            "\tTrain Loss: 0.006 | Train Acc: 100.00%\n",
            "\t Val. Loss: 0.008 |  Val. Acc: 100.00%\n"
          ]
        },
        {
          "output_type": "stream",
          "name": "stderr",
          "text": [
            "\n"
          ]
        }
      ]
    },
    {
      "cell_type": "code",
      "source": [
        "TRAIN(train_data,valid_data,device,optimizer='SGD',no_epochs=10,LR=10**-3,reg=10**3)\n"
      ],
      "metadata": {
        "colab": {
          "base_uri": "https://localhost:8080/"
        },
        "id": "AqlYUWU717h5",
        "outputId": "55ddf748-3c1a-40d8-cadf-b135e29617f5"
      },
      "execution_count": null,
      "outputs": [
        {
          "output_type": "stream",
          "name": "stderr",
          "text": [
            " 10%|█         | 1/10 [00:03<00:27,  3.00s/it]"
          ]
        },
        {
          "output_type": "stream",
          "name": "stdout",
          "text": [
            "Epoch: 01 | Epoch Time: 0m 3s\n",
            "\tTrain Loss: 0.702 | Train Acc: 55.43%\n",
            "\t Val. Loss: 0.694 |  Val. Acc: 0.00%\n"
          ]
        },
        {
          "output_type": "stream",
          "name": "stderr",
          "text": [
            "\r 20%|██        | 2/10 [00:05<00:23,  2.97s/it]"
          ]
        },
        {
          "output_type": "stream",
          "name": "stdout",
          "text": [
            "Epoch: 02 | Epoch Time: 0m 2s\n",
            "\tTrain Loss: 0.693 | Train Acc: 78.95%\n",
            "\t Val. Loss: 0.693 |  Val. Acc: 100.00%\n"
          ]
        },
        {
          "output_type": "stream",
          "name": "stderr",
          "text": [
            "\r 30%|███       | 3/10 [00:08<00:20,  2.96s/it]"
          ]
        },
        {
          "output_type": "stream",
          "name": "stdout",
          "text": [
            "Epoch: 03 | Epoch Time: 0m 2s\n",
            "\tTrain Loss: 0.693 | Train Acc: 100.00%\n",
            "\t Val. Loss: 0.693 |  Val. Acc: 100.00%\n"
          ]
        },
        {
          "output_type": "stream",
          "name": "stderr",
          "text": [
            "\r 40%|████      | 4/10 [00:11<00:17,  2.95s/it]"
          ]
        },
        {
          "output_type": "stream",
          "name": "stdout",
          "text": [
            "Epoch: 04 | Epoch Time: 0m 2s\n",
            "\tTrain Loss: 0.693 | Train Acc: 100.00%\n",
            "\t Val. Loss: 0.693 |  Val. Acc: 100.00%\n"
          ]
        },
        {
          "output_type": "stream",
          "name": "stderr",
          "text": [
            "\r 50%|█████     | 5/10 [00:14<00:14,  2.95s/it]"
          ]
        },
        {
          "output_type": "stream",
          "name": "stdout",
          "text": [
            "Epoch: 05 | Epoch Time: 0m 2s\n",
            "\tTrain Loss: 0.693 | Train Acc: 100.00%\n",
            "\t Val. Loss: 0.693 |  Val. Acc: 100.00%\n"
          ]
        },
        {
          "output_type": "stream",
          "name": "stderr",
          "text": [
            "\r 60%|██████    | 6/10 [00:17<00:11,  2.95s/it]"
          ]
        },
        {
          "output_type": "stream",
          "name": "stdout",
          "text": [
            "Epoch: 06 | Epoch Time: 0m 2s\n",
            "\tTrain Loss: 0.693 | Train Acc: 100.00%\n",
            "\t Val. Loss: 0.693 |  Val. Acc: 100.00%\n"
          ]
        },
        {
          "output_type": "stream",
          "name": "stderr",
          "text": [
            "\r 70%|███████   | 7/10 [00:20<00:08,  2.95s/it]"
          ]
        },
        {
          "output_type": "stream",
          "name": "stdout",
          "text": [
            "Epoch: 07 | Epoch Time: 0m 2s\n",
            "\tTrain Loss: 0.693 | Train Acc: 100.00%\n",
            "\t Val. Loss: 0.693 |  Val. Acc: 100.00%\n"
          ]
        },
        {
          "output_type": "stream",
          "name": "stderr",
          "text": [
            "\r 80%|████████  | 8/10 [00:23<00:05,  2.96s/it]"
          ]
        },
        {
          "output_type": "stream",
          "name": "stdout",
          "text": [
            "Epoch: 08 | Epoch Time: 0m 2s\n",
            "\tTrain Loss: 0.693 | Train Acc: 100.00%\n",
            "\t Val. Loss: 0.693 |  Val. Acc: 100.00%\n"
          ]
        },
        {
          "output_type": "stream",
          "name": "stderr",
          "text": [
            "\r 90%|█████████ | 9/10 [00:26<00:02,  2.94s/it]"
          ]
        },
        {
          "output_type": "stream",
          "name": "stdout",
          "text": [
            "Epoch: 09 | Epoch Time: 0m 2s\n",
            "\tTrain Loss: 0.693 | Train Acc: 100.00%\n",
            "\t Val. Loss: 0.693 |  Val. Acc: 100.00%\n"
          ]
        },
        {
          "output_type": "stream",
          "name": "stderr",
          "text": [
            "100%|██████████| 10/10 [00:29<00:00,  2.95s/it]"
          ]
        },
        {
          "output_type": "stream",
          "name": "stdout",
          "text": [
            "Epoch: 10 | Epoch Time: 0m 2s\n",
            "\tTrain Loss: 0.693 | Train Acc: 100.00%\n",
            "\t Val. Loss: 0.693 |  Val. Acc: 100.00%\n"
          ]
        },
        {
          "output_type": "stream",
          "name": "stderr",
          "text": [
            "\n"
          ]
        }
      ]
    },
    {
      "cell_type": "code",
      "source": [
        "TRAIN(train_data,valid_data,device,optimizer='SGD',no_epochs=10,LR=10**-3,reg=10**4)\n"
      ],
      "metadata": {
        "colab": {
          "base_uri": "https://localhost:8080/"
        },
        "id": "vXGGGSqB18bt",
        "outputId": "0d0b0042-fb8a-4534-ca94-5e0d90c55666"
      },
      "execution_count": null,
      "outputs": [
        {
          "output_type": "stream",
          "name": "stderr",
          "text": [
            " 10%|█         | 1/10 [00:02<00:26,  2.99s/it]"
          ]
        },
        {
          "output_type": "stream",
          "name": "stdout",
          "text": [
            "Epoch: 01 | Epoch Time: 0m 2s\n",
            "\tTrain Loss: nan | Train Acc: 89.53%\n",
            "\t Val. Loss: nan |  Val. Acc: 100.00%\n"
          ]
        },
        {
          "output_type": "stream",
          "name": "stderr",
          "text": [
            "\r 20%|██        | 2/10 [00:05<00:23,  2.97s/it]"
          ]
        },
        {
          "output_type": "stream",
          "name": "stdout",
          "text": [
            "Epoch: 02 | Epoch Time: 0m 2s\n",
            "\tTrain Loss: nan | Train Acc: 100.00%\n",
            "\t Val. Loss: nan |  Val. Acc: 100.00%\n"
          ]
        },
        {
          "output_type": "stream",
          "name": "stderr",
          "text": [
            "\r 30%|███       | 3/10 [00:08<00:20,  2.94s/it]"
          ]
        },
        {
          "output_type": "stream",
          "name": "stdout",
          "text": [
            "Epoch: 03 | Epoch Time: 0m 2s\n",
            "\tTrain Loss: nan | Train Acc: 100.00%\n",
            "\t Val. Loss: nan |  Val. Acc: 100.00%\n"
          ]
        },
        {
          "output_type": "stream",
          "name": "stderr",
          "text": [
            "\r 40%|████      | 4/10 [00:11<00:17,  2.94s/it]"
          ]
        },
        {
          "output_type": "stream",
          "name": "stdout",
          "text": [
            "Epoch: 04 | Epoch Time: 0m 2s\n",
            "\tTrain Loss: nan | Train Acc: 100.00%\n",
            "\t Val. Loss: nan |  Val. Acc: 100.00%\n"
          ]
        },
        {
          "output_type": "stream",
          "name": "stderr",
          "text": [
            "\r 50%|█████     | 5/10 [00:14<00:14,  2.92s/it]"
          ]
        },
        {
          "output_type": "stream",
          "name": "stdout",
          "text": [
            "Epoch: 05 | Epoch Time: 0m 2s\n",
            "\tTrain Loss: nan | Train Acc: 100.00%\n",
            "\t Val. Loss: nan |  Val. Acc: 100.00%\n"
          ]
        },
        {
          "output_type": "stream",
          "name": "stderr",
          "text": [
            "\r 60%|██████    | 6/10 [00:17<00:11,  2.91s/it]"
          ]
        },
        {
          "output_type": "stream",
          "name": "stdout",
          "text": [
            "Epoch: 06 | Epoch Time: 0m 2s\n",
            "\tTrain Loss: nan | Train Acc: 100.00%\n",
            "\t Val. Loss: nan |  Val. Acc: 100.00%\n"
          ]
        },
        {
          "output_type": "stream",
          "name": "stderr",
          "text": [
            "\r 70%|███████   | 7/10 [00:20<00:08,  2.91s/it]"
          ]
        },
        {
          "output_type": "stream",
          "name": "stdout",
          "text": [
            "Epoch: 07 | Epoch Time: 0m 2s\n",
            "\tTrain Loss: nan | Train Acc: 100.00%\n",
            "\t Val. Loss: nan |  Val. Acc: 100.00%\n"
          ]
        },
        {
          "output_type": "stream",
          "name": "stderr",
          "text": [
            "\r 80%|████████  | 8/10 [00:23<00:05,  2.92s/it]"
          ]
        },
        {
          "output_type": "stream",
          "name": "stdout",
          "text": [
            "Epoch: 08 | Epoch Time: 0m 2s\n",
            "\tTrain Loss: nan | Train Acc: 100.00%\n",
            "\t Val. Loss: nan |  Val. Acc: 100.00%\n"
          ]
        },
        {
          "output_type": "stream",
          "name": "stderr",
          "text": [
            "\r 90%|█████████ | 9/10 [00:26<00:02,  2.92s/it]"
          ]
        },
        {
          "output_type": "stream",
          "name": "stdout",
          "text": [
            "Epoch: 09 | Epoch Time: 0m 2s\n",
            "\tTrain Loss: nan | Train Acc: 100.00%\n",
            "\t Val. Loss: nan |  Val. Acc: 100.00%\n"
          ]
        },
        {
          "output_type": "stream",
          "name": "stderr",
          "text": [
            "100%|██████████| 10/10 [00:29<00:00,  2.93s/it]"
          ]
        },
        {
          "output_type": "stream",
          "name": "stdout",
          "text": [
            "Epoch: 10 | Epoch Time: 0m 2s\n",
            "\tTrain Loss: nan | Train Acc: 100.00%\n",
            "\t Val. Loss: nan |  Val. Acc: 100.00%\n"
          ]
        },
        {
          "output_type": "stream",
          "name": "stderr",
          "text": [
            "\n"
          ]
        }
      ]
    },
    {
      "cell_type": "code",
      "source": [
        "max_count = 20\n",
        "\n",
        "for count in tqdm(range(max_count)):\n",
        "  LR = 10**random.uniform(-5,5)\n",
        "  reg = 10**random.uniform(-3,-6)\n",
        "  FINE_TRAIN(train_data,valid_data,device,optimizer='SGD',no_epochs=5,LR=LR,reg=reg)\n",
        "  print(\"-----------------------------------------------------------\")"
      ],
      "metadata": {
        "colab": {
          "base_uri": "https://localhost:8080/"
        },
        "id": "vnEV9zW12BaS",
        "outputId": "8ddee98c-7297-43df-f494-fdb70ea39471"
      },
      "execution_count": null,
      "outputs": [
        {
          "output_type": "stream",
          "name": "stderr",
          "text": [
            "  0%|          | 0/20 [00:00<?, ?it/s]\n",
            "  0%|          | 0/5 [00:00<?, ?it/s]\u001b[A\n",
            " 20%|██        | 1/5 [00:02<00:11,  2.94s/it]\u001b[A"
          ]
        },
        {
          "output_type": "stream",
          "name": "stdout",
          "text": [
            "Epoch: 01 | Epoch Time: 0m 2s\n",
            "\tTrain Loss: 0.521 | Train Acc: 75.77%\n",
            "\t Val. Loss: 0.274 |  Val. Acc: 95.09%\n",
            "LR: 0.0002862151057412364 | Reg: 4.317367186961589e-05\n"
          ]
        },
        {
          "output_type": "stream",
          "name": "stderr",
          "text": [
            "\n",
            " 40%|████      | 2/5 [00:05<00:08,  2.96s/it]\u001b[A"
          ]
        },
        {
          "output_type": "stream",
          "name": "stdout",
          "text": [
            "Epoch: 02 | Epoch Time: 0m 2s\n",
            "\tTrain Loss: 0.173 | Train Acc: 98.79%\n",
            "\t Val. Loss: 0.143 |  Val. Acc: 100.00%\n",
            "LR: 0.0002862151057412364 | Reg: 4.317367186961589e-05\n"
          ]
        },
        {
          "output_type": "stream",
          "name": "stderr",
          "text": [
            "\n",
            " 60%|██████    | 3/5 [00:08<00:05,  2.95s/it]\u001b[A"
          ]
        },
        {
          "output_type": "stream",
          "name": "stdout",
          "text": [
            "Epoch: 03 | Epoch Time: 0m 2s\n",
            "\tTrain Loss: 0.096 | Train Acc: 99.95%\n",
            "\t Val. Loss: 0.086 |  Val. Acc: 100.00%\n",
            "LR: 0.0002862151057412364 | Reg: 4.317367186961589e-05\n"
          ]
        },
        {
          "output_type": "stream",
          "name": "stderr",
          "text": [
            "\n",
            " 80%|████████  | 4/5 [00:11<00:02,  2.94s/it]\u001b[A"
          ]
        },
        {
          "output_type": "stream",
          "name": "stdout",
          "text": [
            "Epoch: 04 | Epoch Time: 0m 2s\n",
            "\tTrain Loss: 0.068 | Train Acc: 100.00%\n",
            "\t Val. Loss: 0.064 |  Val. Acc: 100.00%\n",
            "LR: 0.0002862151057412364 | Reg: 4.317367186961589e-05\n"
          ]
        },
        {
          "output_type": "stream",
          "name": "stderr",
          "text": [
            "\n",
            "100%|██████████| 5/5 [00:14<00:00,  2.95s/it]\n",
            "  5%|▌         | 1/20 [00:14<04:40, 14.77s/it]"
          ]
        },
        {
          "output_type": "stream",
          "name": "stdout",
          "text": [
            "Epoch: 05 | Epoch Time: 0m 2s\n",
            "\tTrain Loss: 0.051 | Train Acc: 100.00%\n",
            "\t Val. Loss: 0.050 |  Val. Acc: 100.00%\n",
            "LR: 0.0002862151057412364 | Reg: 4.317367186961589e-05\n",
            "-----------------------------------------------------------\n"
          ]
        },
        {
          "output_type": "stream",
          "name": "stderr",
          "text": [
            "\n",
            "  0%|          | 0/5 [00:00<?, ?it/s]\u001b[A\n",
            " 20%|██        | 1/5 [00:02<00:11,  2.90s/it]\u001b[A"
          ]
        },
        {
          "output_type": "stream",
          "name": "stdout",
          "text": [
            "Epoch: 01 | Epoch Time: 0m 2s\n",
            "\tTrain Loss: 0.008 | Train Acc: 99.62%\n",
            "\t Val. Loss: 0.000 |  Val. Acc: 100.00%\n",
            "LR: 510.314674028669 | Reg: 7.646458207639633e-06\n"
          ]
        },
        {
          "output_type": "stream",
          "name": "stderr",
          "text": [
            "\n",
            " 40%|████      | 2/5 [00:05<00:08,  2.93s/it]\u001b[A"
          ]
        },
        {
          "output_type": "stream",
          "name": "stdout",
          "text": [
            "Epoch: 02 | Epoch Time: 0m 2s\n",
            "\tTrain Loss: 0.020 | Train Acc: 98.68%\n",
            "\t Val. Loss: 0.000 |  Val. Acc: 100.00%\n",
            "LR: 510.314674028669 | Reg: 7.646458207639633e-06\n"
          ]
        },
        {
          "output_type": "stream",
          "name": "stderr",
          "text": [
            "\n",
            " 60%|██████    | 3/5 [00:08<00:05,  2.96s/it]\u001b[A"
          ]
        },
        {
          "output_type": "stream",
          "name": "stdout",
          "text": [
            "Epoch: 03 | Epoch Time: 0m 2s\n",
            "\tTrain Loss: 0.000 | Train Acc: 100.00%\n",
            "\t Val. Loss: 0.000 |  Val. Acc: 100.00%\n",
            "LR: 510.314674028669 | Reg: 7.646458207639633e-06\n"
          ]
        },
        {
          "output_type": "stream",
          "name": "stderr",
          "text": [
            "\n",
            " 80%|████████  | 4/5 [00:11<00:02,  2.96s/it]\u001b[A"
          ]
        },
        {
          "output_type": "stream",
          "name": "stdout",
          "text": [
            "Epoch: 04 | Epoch Time: 0m 2s\n",
            "\tTrain Loss: 0.020 | Train Acc: 98.25%\n",
            "\t Val. Loss: 0.000 |  Val. Acc: 100.00%\n",
            "LR: 510.314674028669 | Reg: 7.646458207639633e-06\n"
          ]
        },
        {
          "output_type": "stream",
          "name": "stderr",
          "text": [
            "\n",
            "100%|██████████| 5/5 [00:14<00:00,  2.95s/it]\n",
            " 10%|█         | 2/20 [00:29<04:25, 14.77s/it]"
          ]
        },
        {
          "output_type": "stream",
          "name": "stdout",
          "text": [
            "Epoch: 05 | Epoch Time: 0m 2s\n",
            "\tTrain Loss: 0.016 | Train Acc: 98.25%\n",
            "\t Val. Loss: 0.000 |  Val. Acc: 100.00%\n",
            "LR: 510.314674028669 | Reg: 7.646458207639633e-06\n",
            "-----------------------------------------------------------\n"
          ]
        },
        {
          "output_type": "stream",
          "name": "stderr",
          "text": [
            "\n",
            "  0%|          | 0/5 [00:00<?, ?it/s]\u001b[A\n",
            " 20%|██        | 1/5 [00:02<00:11,  2.93s/it]\u001b[A"
          ]
        },
        {
          "output_type": "stream",
          "name": "stdout",
          "text": [
            "Epoch: 01 | Epoch Time: 0m 2s\n",
            "\tTrain Loss: 1.262 | Train Acc: 97.92%\n",
            "\t Val. Loss: 0.000 |  Val. Acc: 100.00%\n",
            "LR: 208.73233448444347 | Reg: 5.005606377751102e-05\n"
          ]
        },
        {
          "output_type": "stream",
          "name": "stderr",
          "text": [
            "\n",
            " 40%|████      | 2/5 [00:05<00:08,  2.97s/it]\u001b[A"
          ]
        },
        {
          "output_type": "stream",
          "name": "stdout",
          "text": [
            "Epoch: 02 | Epoch Time: 0m 2s\n",
            "\tTrain Loss: 381421.889 | Train Acc: 95.01%\n",
            "\t Val. Loss: 0.000 |  Val. Acc: 100.00%\n",
            "LR: 208.73233448444347 | Reg: 5.005606377751102e-05\n"
          ]
        },
        {
          "output_type": "stream",
          "name": "stderr",
          "text": [
            "\n",
            " 60%|██████    | 3/5 [00:08<00:05,  2.95s/it]\u001b[A"
          ]
        },
        {
          "output_type": "stream",
          "name": "stdout",
          "text": [
            "Epoch: 03 | Epoch Time: 0m 2s\n",
            "\tTrain Loss: 6998602.074 | Train Acc: 97.86%\n",
            "\t Val. Loss: 0.000 |  Val. Acc: 100.00%\n",
            "LR: 208.73233448444347 | Reg: 5.005606377751102e-05\n"
          ]
        },
        {
          "output_type": "stream",
          "name": "stderr",
          "text": [
            "\n",
            " 80%|████████  | 4/5 [00:11<00:02,  2.95s/it]\u001b[A"
          ]
        },
        {
          "output_type": "stream",
          "name": "stdout",
          "text": [
            "Epoch: 04 | Epoch Time: 0m 2s\n",
            "\tTrain Loss: 13829644813129728.000 | Train Acc: 95.89%\n",
            "\t Val. Loss: nan |  Val. Acc: 100.00%\n",
            "LR: 208.73233448444347 | Reg: 5.005606377751102e-05\n"
          ]
        },
        {
          "output_type": "stream",
          "name": "stderr",
          "text": [
            "\n",
            "100%|██████████| 5/5 [00:14<00:00,  2.94s/it]\n",
            " 15%|█▌        | 3/20 [00:44<04:10, 14.75s/it]"
          ]
        },
        {
          "output_type": "stream",
          "name": "stdout",
          "text": [
            "Epoch: 05 | Epoch Time: 0m 2s\n",
            "\tTrain Loss: nan | Train Acc: 98.25%\n",
            "\t Val. Loss: nan |  Val. Acc: 100.00%\n",
            "LR: 208.73233448444347 | Reg: 5.005606377751102e-05\n",
            "-----------------------------------------------------------\n"
          ]
        },
        {
          "output_type": "stream",
          "name": "stderr",
          "text": [
            "\n",
            "  0%|          | 0/5 [00:00<?, ?it/s]\u001b[A\n",
            " 20%|██        | 1/5 [00:02<00:11,  2.96s/it]\u001b[A"
          ]
        },
        {
          "output_type": "stream",
          "name": "stdout",
          "text": [
            "Epoch: 01 | Epoch Time: 0m 2s\n",
            "\tTrain Loss: 97259748.247 | Train Acc: 95.39%\n",
            "\t Val. Loss: 0.000 |  Val. Acc: 100.00%\n",
            "LR: 1000.4711538628923 | Reg: 2.5193920585557313e-05\n"
          ]
        },
        {
          "output_type": "stream",
          "name": "stderr",
          "text": [
            "\n",
            " 40%|████      | 2/5 [00:05<00:08,  2.97s/it]\u001b[A"
          ]
        },
        {
          "output_type": "stream",
          "name": "stdout",
          "text": [
            "Epoch: 02 | Epoch Time: 0m 2s\n",
            "\tTrain Loss: nan | Train Acc: 96.27%\n",
            "\t Val. Loss: nan |  Val. Acc: 100.00%\n",
            "LR: 1000.4711538628923 | Reg: 2.5193920585557313e-05\n"
          ]
        },
        {
          "output_type": "stream",
          "name": "stderr",
          "text": [
            "\n",
            " 60%|██████    | 3/5 [00:08<00:05,  2.95s/it]\u001b[A"
          ]
        },
        {
          "output_type": "stream",
          "name": "stdout",
          "text": [
            "Epoch: 03 | Epoch Time: 0m 2s\n",
            "\tTrain Loss: nan | Train Acc: 100.00%\n",
            "\t Val. Loss: nan |  Val. Acc: 100.00%\n",
            "LR: 1000.4711538628923 | Reg: 2.5193920585557313e-05\n"
          ]
        },
        {
          "output_type": "stream",
          "name": "stderr",
          "text": [
            "\n",
            " 80%|████████  | 4/5 [00:11<00:02,  2.98s/it]\u001b[A"
          ]
        },
        {
          "output_type": "stream",
          "name": "stdout",
          "text": [
            "Epoch: 04 | Epoch Time: 0m 3s\n",
            "\tTrain Loss: nan | Train Acc: 100.00%\n",
            "\t Val. Loss: nan |  Val. Acc: 100.00%\n",
            "LR: 1000.4711538628923 | Reg: 2.5193920585557313e-05\n"
          ]
        },
        {
          "output_type": "stream",
          "name": "stderr",
          "text": [
            "\n",
            "100%|██████████| 5/5 [00:14<00:00,  2.97s/it]\n",
            " 20%|██        | 4/20 [00:59<03:56, 14.80s/it]"
          ]
        },
        {
          "output_type": "stream",
          "name": "stdout",
          "text": [
            "Epoch: 05 | Epoch Time: 0m 2s\n",
            "\tTrain Loss: nan | Train Acc: 100.00%\n",
            "\t Val. Loss: nan |  Val. Acc: 100.00%\n",
            "LR: 1000.4711538628923 | Reg: 2.5193920585557313e-05\n",
            "-----------------------------------------------------------\n"
          ]
        },
        {
          "output_type": "stream",
          "name": "stderr",
          "text": [
            "\n",
            "  0%|          | 0/5 [00:00<?, ?it/s]\u001b[A\n",
            " 20%|██        | 1/5 [00:03<00:12,  3.01s/it]\u001b[A"
          ]
        },
        {
          "output_type": "stream",
          "name": "stdout",
          "text": [
            "Epoch: 01 | Epoch Time: 0m 3s\n",
            "\tTrain Loss: 1.459 | Train Acc: 18.53%\n",
            "\t Val. Loss: 1.228 |  Val. Acc: 27.23%\n",
            "LR: 6.331944386333944e-05 | Reg: 4.287087587289784e-05\n"
          ]
        },
        {
          "output_type": "stream",
          "name": "stderr",
          "text": [
            "\n",
            " 40%|████      | 2/5 [00:05<00:08,  2.97s/it]\u001b[A"
          ]
        },
        {
          "output_type": "stream",
          "name": "stdout",
          "text": [
            "Epoch: 02 | Epoch Time: 0m 2s\n",
            "\tTrain Loss: 1.001 | Train Acc: 35.86%\n",
            "\t Val. Loss: 0.868 |  Val. Acc: 46.43%\n",
            "LR: 6.331944386333944e-05 | Reg: 4.287087587289784e-05\n"
          ]
        },
        {
          "output_type": "stream",
          "name": "stderr",
          "text": [
            "\n",
            " 60%|██████    | 3/5 [00:08<00:05,  2.94s/it]\u001b[A"
          ]
        },
        {
          "output_type": "stream",
          "name": "stdout",
          "text": [
            "Epoch: 03 | Epoch Time: 0m 2s\n",
            "\tTrain Loss: 0.690 | Train Acc: 59.32%\n",
            "\t Val. Loss: 0.563 |  Val. Acc: 69.64%\n",
            "LR: 6.331944386333944e-05 | Reg: 4.287087587289784e-05\n"
          ]
        },
        {
          "output_type": "stream",
          "name": "stderr",
          "text": [
            "\n",
            " 80%|████████  | 4/5 [00:11<00:02,  2.92s/it]\u001b[A"
          ]
        },
        {
          "output_type": "stream",
          "name": "stdout",
          "text": [
            "Epoch: 04 | Epoch Time: 0m 2s\n",
            "\tTrain Loss: 0.502 | Train Acc: 78.51%\n",
            "\t Val. Loss: 0.448 |  Val. Acc: 80.80%\n",
            "LR: 6.331944386333944e-05 | Reg: 4.287087587289784e-05\n"
          ]
        },
        {
          "output_type": "stream",
          "name": "stderr",
          "text": [
            "\n",
            "100%|██████████| 5/5 [00:14<00:00,  2.93s/it]\n",
            " 25%|██▌       | 5/20 [01:13<03:41, 14.75s/it]"
          ]
        },
        {
          "output_type": "stream",
          "name": "stdout",
          "text": [
            "Epoch: 05 | Epoch Time: 0m 2s\n",
            "\tTrain Loss: 0.376 | Train Acc: 89.42%\n",
            "\t Val. Loss: 0.344 |  Val. Acc: 90.18%\n",
            "LR: 6.331944386333944e-05 | Reg: 4.287087587289784e-05\n",
            "-----------------------------------------------------------\n"
          ]
        },
        {
          "output_type": "stream",
          "name": "stderr",
          "text": [
            "\n",
            "  0%|          | 0/5 [00:00<?, ?it/s]\u001b[A\n",
            " 20%|██        | 1/5 [00:02<00:11,  2.93s/it]\u001b[A"
          ]
        },
        {
          "output_type": "stream",
          "name": "stdout",
          "text": [
            "Epoch: 01 | Epoch Time: 0m 2s\n",
            "\tTrain Loss: 1.085 | Train Acc: 32.95%\n",
            "\t Val. Loss: 0.927 |  Val. Acc: 42.41%\n",
            "LR: 3.0121400777449763e-05 | Reg: 1.5889593971470228e-06\n"
          ]
        },
        {
          "output_type": "stream",
          "name": "stderr",
          "text": [
            "\n",
            " 40%|████      | 2/5 [00:05<00:08,  2.93s/it]\u001b[A"
          ]
        },
        {
          "output_type": "stream",
          "name": "stdout",
          "text": [
            "Epoch: 02 | Epoch Time: 0m 2s\n",
            "\tTrain Loss: 0.915 | Train Acc: 42.49%\n",
            "\t Val. Loss: 0.825 |  Val. Acc: 46.88%\n",
            "LR: 3.0121400777449763e-05 | Reg: 1.5889593971470228e-06\n"
          ]
        },
        {
          "output_type": "stream",
          "name": "stderr",
          "text": [
            "\n",
            " 60%|██████    | 3/5 [00:08<00:05,  2.94s/it]\u001b[A"
          ]
        },
        {
          "output_type": "stream",
          "name": "stdout",
          "text": [
            "Epoch: 03 | Epoch Time: 0m 2s\n",
            "\tTrain Loss: 0.770 | Train Acc: 52.08%\n",
            "\t Val. Loss: 0.672 |  Val. Acc: 60.71%\n",
            "LR: 3.0121400777449763e-05 | Reg: 1.5889593971470228e-06\n"
          ]
        },
        {
          "output_type": "stream",
          "name": "stderr",
          "text": [
            "\n",
            " 80%|████████  | 4/5 [00:11<00:02,  2.94s/it]\u001b[A"
          ]
        },
        {
          "output_type": "stream",
          "name": "stdout",
          "text": [
            "Epoch: 04 | Epoch Time: 0m 2s\n",
            "\tTrain Loss: 0.655 | Train Acc: 63.54%\n",
            "\t Val. Loss: 0.595 |  Val. Acc: 69.64%\n",
            "LR: 3.0121400777449763e-05 | Reg: 1.5889593971470228e-06\n"
          ]
        },
        {
          "output_type": "stream",
          "name": "stderr",
          "text": [
            "\n",
            "100%|██████████| 5/5 [00:14<00:00,  2.94s/it]\n",
            " 30%|███       | 6/20 [01:28<03:26, 14.74s/it]"
          ]
        },
        {
          "output_type": "stream",
          "name": "stdout",
          "text": [
            "Epoch: 05 | Epoch Time: 0m 2s\n",
            "\tTrain Loss: 0.565 | Train Acc: 70.78%\n",
            "\t Val. Loss: 0.514 |  Val. Acc: 79.91%\n",
            "LR: 3.0121400777449763e-05 | Reg: 1.5889593971470228e-06\n",
            "-----------------------------------------------------------\n"
          ]
        },
        {
          "output_type": "stream",
          "name": "stderr",
          "text": [
            "\n",
            "  0%|          | 0/5 [00:00<?, ?it/s]\u001b[A\n",
            " 20%|██        | 1/5 [00:02<00:11,  2.92s/it]\u001b[A"
          ]
        },
        {
          "output_type": "stream",
          "name": "stdout",
          "text": [
            "Epoch: 01 | Epoch Time: 0m 2s\n",
            "\tTrain Loss: nan | Train Acc: 95.56%\n",
            "\t Val. Loss: nan |  Val. Acc: 100.00%\n",
            "LR: 29565.148180857355 | Reg: 9.861606567064089e-05\n"
          ]
        },
        {
          "output_type": "stream",
          "name": "stderr",
          "text": [
            "\n",
            " 40%|████      | 2/5 [00:05<00:08,  2.99s/it]\u001b[A"
          ]
        },
        {
          "output_type": "stream",
          "name": "stdout",
          "text": [
            "Epoch: 02 | Epoch Time: 0m 3s\n",
            "\tTrain Loss: nan | Train Acc: 100.00%\n",
            "\t Val. Loss: nan |  Val. Acc: 100.00%\n",
            "LR: 29565.148180857355 | Reg: 9.861606567064089e-05\n"
          ]
        },
        {
          "output_type": "stream",
          "name": "stderr",
          "text": [
            "\n",
            " 60%|██████    | 3/5 [00:08<00:05,  2.99s/it]\u001b[A"
          ]
        },
        {
          "output_type": "stream",
          "name": "stdout",
          "text": [
            "Epoch: 03 | Epoch Time: 0m 2s\n",
            "\tTrain Loss: nan | Train Acc: 100.00%\n",
            "\t Val. Loss: nan |  Val. Acc: 100.00%\n",
            "LR: 29565.148180857355 | Reg: 9.861606567064089e-05\n"
          ]
        },
        {
          "output_type": "stream",
          "name": "stderr",
          "text": [
            "\n",
            " 80%|████████  | 4/5 [00:11<00:02,  2.95s/it]\u001b[A"
          ]
        },
        {
          "output_type": "stream",
          "name": "stdout",
          "text": [
            "Epoch: 04 | Epoch Time: 0m 2s\n",
            "\tTrain Loss: nan | Train Acc: 100.00%\n",
            "\t Val. Loss: nan |  Val. Acc: 100.00%\n",
            "LR: 29565.148180857355 | Reg: 9.861606567064089e-05\n"
          ]
        },
        {
          "output_type": "stream",
          "name": "stderr",
          "text": [
            "\n",
            "100%|██████████| 5/5 [00:14<00:00,  2.96s/it]\n",
            " 35%|███▌      | 7/20 [01:43<03:11, 14.76s/it]"
          ]
        },
        {
          "output_type": "stream",
          "name": "stdout",
          "text": [
            "Epoch: 05 | Epoch Time: 0m 2s\n",
            "\tTrain Loss: nan | Train Acc: 100.00%\n",
            "\t Val. Loss: nan |  Val. Acc: 100.00%\n",
            "LR: 29565.148180857355 | Reg: 9.861606567064089e-05\n",
            "-----------------------------------------------------------\n"
          ]
        },
        {
          "output_type": "stream",
          "name": "stderr",
          "text": [
            "\n",
            "  0%|          | 0/5 [00:00<?, ?it/s]\u001b[A\n",
            " 20%|██        | 1/5 [00:02<00:11,  2.99s/it]\u001b[A"
          ]
        },
        {
          "output_type": "stream",
          "name": "stdout",
          "text": [
            "Epoch: 01 | Epoch Time: 0m 2s\n",
            "\tTrain Loss: 0.091 | Train Acc: 95.45%\n",
            "\t Val. Loss: 0.000 |  Val. Acc: 100.00%\n",
            "LR: 0.01241821833876381 | Reg: 4.9653006901854455e-06\n"
          ]
        },
        {
          "output_type": "stream",
          "name": "stderr",
          "text": [
            "\n",
            " 40%|████      | 2/5 [00:05<00:08,  2.94s/it]\u001b[A"
          ]
        },
        {
          "output_type": "stream",
          "name": "stdout",
          "text": [
            "Epoch: 02 | Epoch Time: 0m 2s\n",
            "\tTrain Loss: 0.000 | Train Acc: 100.00%\n",
            "\t Val. Loss: 0.000 |  Val. Acc: 100.00%\n",
            "LR: 0.01241821833876381 | Reg: 4.9653006901854455e-06\n"
          ]
        },
        {
          "output_type": "stream",
          "name": "stderr",
          "text": [
            "\n",
            " 60%|██████    | 3/5 [00:08<00:05,  2.95s/it]\u001b[A"
          ]
        },
        {
          "output_type": "stream",
          "name": "stdout",
          "text": [
            "Epoch: 03 | Epoch Time: 0m 2s\n",
            "\tTrain Loss: 0.000 | Train Acc: 100.00%\n",
            "\t Val. Loss: 0.000 |  Val. Acc: 100.00%\n",
            "LR: 0.01241821833876381 | Reg: 4.9653006901854455e-06\n"
          ]
        },
        {
          "output_type": "stream",
          "name": "stderr",
          "text": [
            "\n",
            " 80%|████████  | 4/5 [00:11<00:02,  2.95s/it]\u001b[A"
          ]
        },
        {
          "output_type": "stream",
          "name": "stdout",
          "text": [
            "Epoch: 04 | Epoch Time: 0m 2s\n",
            "\tTrain Loss: 0.000 | Train Acc: 100.00%\n",
            "\t Val. Loss: 0.000 |  Val. Acc: 100.00%\n",
            "LR: 0.01241821833876381 | Reg: 4.9653006901854455e-06\n"
          ]
        },
        {
          "output_type": "stream",
          "name": "stderr",
          "text": [
            "\n",
            "100%|██████████| 5/5 [00:14<00:00,  2.96s/it]\n",
            " 40%|████      | 8/20 [01:58<02:57, 14.79s/it]"
          ]
        },
        {
          "output_type": "stream",
          "name": "stdout",
          "text": [
            "Epoch: 05 | Epoch Time: 0m 3s\n",
            "\tTrain Loss: 0.000 | Train Acc: 100.00%\n",
            "\t Val. Loss: 0.000 |  Val. Acc: 100.00%\n",
            "LR: 0.01241821833876381 | Reg: 4.9653006901854455e-06\n",
            "-----------------------------------------------------------\n"
          ]
        },
        {
          "output_type": "stream",
          "name": "stderr",
          "text": [
            "\n",
            "  0%|          | 0/5 [00:00<?, ?it/s]\u001b[A\n",
            " 20%|██        | 1/5 [00:02<00:11,  2.93s/it]\u001b[A"
          ]
        },
        {
          "output_type": "stream",
          "name": "stdout",
          "text": [
            "Epoch: 01 | Epoch Time: 0m 2s\n",
            "\tTrain Loss: 0.295 | Train Acc: 87.28%\n",
            "\t Val. Loss: 0.069 |  Val. Acc: 100.00%\n",
            "LR: 0.0010931890874185904 | Reg: 0.0002914860071130122\n"
          ]
        },
        {
          "output_type": "stream",
          "name": "stderr",
          "text": [
            "\n",
            " 40%|████      | 2/5 [00:05<00:08,  2.95s/it]\u001b[A"
          ]
        },
        {
          "output_type": "stream",
          "name": "stdout",
          "text": [
            "Epoch: 02 | Epoch Time: 0m 2s\n",
            "\tTrain Loss: 0.036 | Train Acc: 100.00%\n",
            "\t Val. Loss: 0.032 |  Val. Acc: 100.00%\n",
            "LR: 0.0010931890874185904 | Reg: 0.0002914860071130122\n"
          ]
        },
        {
          "output_type": "stream",
          "name": "stderr",
          "text": [
            "\n",
            " 60%|██████    | 3/5 [00:08<00:05,  2.97s/it]\u001b[A"
          ]
        },
        {
          "output_type": "stream",
          "name": "stdout",
          "text": [
            "Epoch: 03 | Epoch Time: 0m 2s\n",
            "\tTrain Loss: 0.022 | Train Acc: 100.00%\n",
            "\t Val. Loss: 0.021 |  Val. Acc: 100.00%\n",
            "LR: 0.0010931890874185904 | Reg: 0.0002914860071130122\n"
          ]
        },
        {
          "output_type": "stream",
          "name": "stderr",
          "text": [
            "\n",
            " 80%|████████  | 4/5 [00:11<00:03,  3.01s/it]\u001b[A"
          ]
        },
        {
          "output_type": "stream",
          "name": "stdout",
          "text": [
            "Epoch: 04 | Epoch Time: 0m 3s\n",
            "\tTrain Loss: 0.015 | Train Acc: 100.00%\n",
            "\t Val. Loss: 0.017 |  Val. Acc: 100.00%\n",
            "LR: 0.0010931890874185904 | Reg: 0.0002914860071130122\n"
          ]
        },
        {
          "output_type": "stream",
          "name": "stderr",
          "text": [
            "\n",
            "100%|██████████| 5/5 [00:15<00:00,  3.00s/it]\n",
            " 45%|████▌     | 9/20 [02:13<02:43, 14.86s/it]"
          ]
        },
        {
          "output_type": "stream",
          "name": "stdout",
          "text": [
            "Epoch: 05 | Epoch Time: 0m 3s\n",
            "\tTrain Loss: 0.012 | Train Acc: 100.00%\n",
            "\t Val. Loss: 0.015 |  Val. Acc: 100.00%\n",
            "LR: 0.0010931890874185904 | Reg: 0.0002914860071130122\n",
            "-----------------------------------------------------------\n"
          ]
        },
        {
          "output_type": "stream",
          "name": "stderr",
          "text": [
            "\n",
            "  0%|          | 0/5 [00:00<?, ?it/s]\u001b[A\n",
            " 20%|██        | 1/5 [00:03<00:12,  3.05s/it]\u001b[A"
          ]
        },
        {
          "output_type": "stream",
          "name": "stdout",
          "text": [
            "Epoch: 01 | Epoch Time: 0m 3s\n",
            "\tTrain Loss: 0.500 | Train Acc: 75.16%\n",
            "\t Val. Loss: 0.110 |  Val. Acc: 100.00%\n",
            "LR: 0.0007690403761860845 | Reg: 9.098852800530144e-05\n"
          ]
        },
        {
          "output_type": "stream",
          "name": "stderr",
          "text": [
            "\n",
            " 40%|████      | 2/5 [00:06<00:09,  3.03s/it]\u001b[A"
          ]
        },
        {
          "output_type": "stream",
          "name": "stdout",
          "text": [
            "Epoch: 02 | Epoch Time: 0m 3s\n",
            "\tTrain Loss: 0.059 | Train Acc: 100.00%\n",
            "\t Val. Loss: 0.050 |  Val. Acc: 100.00%\n",
            "LR: 0.0007690403761860845 | Reg: 9.098852800530144e-05\n"
          ]
        },
        {
          "output_type": "stream",
          "name": "stderr",
          "text": [
            "\n",
            " 60%|██████    | 3/5 [00:09<00:06,  3.02s/it]\u001b[A"
          ]
        },
        {
          "output_type": "stream",
          "name": "stdout",
          "text": [
            "Epoch: 03 | Epoch Time: 0m 3s\n",
            "\tTrain Loss: 0.033 | Train Acc: 100.00%\n",
            "\t Val. Loss: 0.032 |  Val. Acc: 100.00%\n",
            "LR: 0.0007690403761860845 | Reg: 9.098852800530144e-05\n"
          ]
        },
        {
          "output_type": "stream",
          "name": "stderr",
          "text": [
            "\n",
            " 80%|████████  | 4/5 [00:12<00:02,  2.99s/it]\u001b[A"
          ]
        },
        {
          "output_type": "stream",
          "name": "stdout",
          "text": [
            "Epoch: 04 | Epoch Time: 0m 2s\n",
            "\tTrain Loss: 0.024 | Train Acc: 100.00%\n",
            "\t Val. Loss: 0.025 |  Val. Acc: 100.00%\n",
            "LR: 0.0007690403761860845 | Reg: 9.098852800530144e-05\n"
          ]
        },
        {
          "output_type": "stream",
          "name": "stderr",
          "text": [
            "\n",
            "100%|██████████| 5/5 [00:14<00:00,  2.99s/it]\n",
            " 50%|█████     | 10/20 [02:28<02:28, 14.90s/it]"
          ]
        },
        {
          "output_type": "stream",
          "name": "stdout",
          "text": [
            "Epoch: 05 | Epoch Time: 0m 2s\n",
            "\tTrain Loss: 0.018 | Train Acc: 100.00%\n",
            "\t Val. Loss: 0.020 |  Val. Acc: 100.00%\n",
            "LR: 0.0007690403761860845 | Reg: 9.098852800530144e-05\n",
            "-----------------------------------------------------------\n"
          ]
        },
        {
          "output_type": "stream",
          "name": "stderr",
          "text": [
            "\n",
            "  0%|          | 0/5 [00:00<?, ?it/s]\u001b[A\n",
            " 20%|██        | 1/5 [00:02<00:11,  2.89s/it]\u001b[A"
          ]
        },
        {
          "output_type": "stream",
          "name": "stdout",
          "text": [
            "Epoch: 01 | Epoch Time: 0m 2s\n",
            "\tTrain Loss: 0.011 | Train Acc: 99.51%\n",
            "\t Val. Loss: 0.000 |  Val. Acc: 100.00%\n",
            "LR: 18.33227620358218 | Reg: 1.2884057338060482e-06\n"
          ]
        },
        {
          "output_type": "stream",
          "name": "stderr",
          "text": [
            "\n",
            " 40%|████      | 2/5 [00:05<00:08,  2.90s/it]\u001b[A"
          ]
        },
        {
          "output_type": "stream",
          "name": "stdout",
          "text": [
            "Epoch: 02 | Epoch Time: 0m 2s\n",
            "\tTrain Loss: 0.000 | Train Acc: 100.00%\n",
            "\t Val. Loss: 0.000 |  Val. Acc: 100.00%\n",
            "LR: 18.33227620358218 | Reg: 1.2884057338060482e-06\n"
          ]
        },
        {
          "output_type": "stream",
          "name": "stderr",
          "text": [
            "\n",
            " 60%|██████    | 3/5 [00:08<00:05,  2.93s/it]\u001b[A"
          ]
        },
        {
          "output_type": "stream",
          "name": "stdout",
          "text": [
            "Epoch: 03 | Epoch Time: 0m 2s\n",
            "\tTrain Loss: 0.000 | Train Acc: 100.00%\n",
            "\t Val. Loss: 0.000 |  Val. Acc: 100.00%\n",
            "LR: 18.33227620358218 | Reg: 1.2884057338060482e-06\n"
          ]
        },
        {
          "output_type": "stream",
          "name": "stderr",
          "text": [
            "\n",
            " 80%|████████  | 4/5 [00:11<00:02,  2.92s/it]\u001b[A"
          ]
        },
        {
          "output_type": "stream",
          "name": "stdout",
          "text": [
            "Epoch: 04 | Epoch Time: 0m 2s\n",
            "\tTrain Loss: 0.000 | Train Acc: 100.00%\n",
            "\t Val. Loss: 0.000 |  Val. Acc: 100.00%\n",
            "LR: 18.33227620358218 | Reg: 1.2884057338060482e-06\n"
          ]
        },
        {
          "output_type": "stream",
          "name": "stderr",
          "text": [
            "\n",
            "100%|██████████| 5/5 [00:14<00:00,  2.92s/it]\n",
            " 55%|█████▌    | 11/20 [02:42<02:13, 14.81s/it]"
          ]
        },
        {
          "output_type": "stream",
          "name": "stdout",
          "text": [
            "Epoch: 05 | Epoch Time: 0m 2s\n",
            "\tTrain Loss: 0.000 | Train Acc: 100.00%\n",
            "\t Val. Loss: 0.000 |  Val. Acc: 100.00%\n",
            "LR: 18.33227620358218 | Reg: 1.2884057338060482e-06\n",
            "-----------------------------------------------------------\n"
          ]
        },
        {
          "output_type": "stream",
          "name": "stderr",
          "text": [
            "\n",
            "  0%|          | 0/5 [00:00<?, ?it/s]\u001b[A\n",
            " 20%|██        | 1/5 [00:02<00:11,  2.91s/it]\u001b[A"
          ]
        },
        {
          "output_type": "stream",
          "name": "stdout",
          "text": [
            "Epoch: 01 | Epoch Time: 0m 2s\n",
            "\tTrain Loss: 0.178 | Train Acc: 95.29%\n",
            "\t Val. Loss: 0.048 |  Val. Acc: 100.00%\n",
            "LR: 0.0012833346514923682 | Reg: 1.3542475596108415e-06\n"
          ]
        },
        {
          "output_type": "stream",
          "name": "stderr",
          "text": [
            "\n",
            " 40%|████      | 2/5 [00:05<00:08,  2.95s/it]\u001b[A"
          ]
        },
        {
          "output_type": "stream",
          "name": "stdout",
          "text": [
            "Epoch: 02 | Epoch Time: 0m 2s\n",
            "\tTrain Loss: 0.028 | Train Acc: 100.00%\n",
            "\t Val. Loss: 0.026 |  Val. Acc: 100.00%\n",
            "LR: 0.0012833346514923682 | Reg: 1.3542475596108415e-06\n"
          ]
        },
        {
          "output_type": "stream",
          "name": "stderr",
          "text": [
            "\n",
            " 60%|██████    | 3/5 [00:08<00:05,  2.95s/it]\u001b[A"
          ]
        },
        {
          "output_type": "stream",
          "name": "stdout",
          "text": [
            "Epoch: 03 | Epoch Time: 0m 2s\n",
            "\tTrain Loss: 0.017 | Train Acc: 100.00%\n",
            "\t Val. Loss: 0.017 |  Val. Acc: 100.00%\n",
            "LR: 0.0012833346514923682 | Reg: 1.3542475596108415e-06\n"
          ]
        },
        {
          "output_type": "stream",
          "name": "stderr",
          "text": [
            "\n",
            " 80%|████████  | 4/5 [00:11<00:02,  2.93s/it]\u001b[A"
          ]
        },
        {
          "output_type": "stream",
          "name": "stdout",
          "text": [
            "Epoch: 04 | Epoch Time: 0m 2s\n",
            "\tTrain Loss: 0.012 | Train Acc: 100.00%\n",
            "\t Val. Loss: 0.012 |  Val. Acc: 100.00%\n",
            "LR: 0.0012833346514923682 | Reg: 1.3542475596108415e-06\n"
          ]
        },
        {
          "output_type": "stream",
          "name": "stderr",
          "text": [
            "\n",
            "100%|██████████| 5/5 [00:14<00:00,  2.94s/it]\n",
            " 60%|██████    | 12/20 [02:57<01:58, 14.79s/it]"
          ]
        },
        {
          "output_type": "stream",
          "name": "stdout",
          "text": [
            "Epoch: 05 | Epoch Time: 0m 2s\n",
            "\tTrain Loss: 0.010 | Train Acc: 100.00%\n",
            "\t Val. Loss: 0.011 |  Val. Acc: 100.00%\n",
            "LR: 0.0012833346514923682 | Reg: 1.3542475596108415e-06\n",
            "-----------------------------------------------------------\n"
          ]
        },
        {
          "output_type": "stream",
          "name": "stderr",
          "text": [
            "\n",
            "  0%|          | 0/5 [00:00<?, ?it/s]\u001b[A\n",
            " 20%|██        | 1/5 [00:02<00:11,  2.98s/it]\u001b[A"
          ]
        },
        {
          "output_type": "stream",
          "name": "stdout",
          "text": [
            "Epoch: 01 | Epoch Time: 0m 2s\n",
            "\tTrain Loss: 0.010 | Train Acc: 99.51%\n",
            "\t Val. Loss: 0.000 |  Val. Acc: 100.00%\n",
            "LR: 3.5809368148424814 | Reg: 1.9794469685323803e-06\n"
          ]
        },
        {
          "output_type": "stream",
          "name": "stderr",
          "text": [
            "\n",
            " 40%|████      | 2/5 [00:05<00:08,  2.96s/it]\u001b[A"
          ]
        },
        {
          "output_type": "stream",
          "name": "stdout",
          "text": [
            "Epoch: 02 | Epoch Time: 0m 2s\n",
            "\tTrain Loss: 0.000 | Train Acc: 100.00%\n",
            "\t Val. Loss: 0.000 |  Val. Acc: 100.00%\n",
            "LR: 3.5809368148424814 | Reg: 1.9794469685323803e-06\n"
          ]
        },
        {
          "output_type": "stream",
          "name": "stderr",
          "text": [
            "\n",
            " 60%|██████    | 3/5 [00:08<00:05,  2.95s/it]\u001b[A"
          ]
        },
        {
          "output_type": "stream",
          "name": "stdout",
          "text": [
            "Epoch: 03 | Epoch Time: 0m 2s\n",
            "\tTrain Loss: 0.000 | Train Acc: 100.00%\n",
            "\t Val. Loss: 0.000 |  Val. Acc: 100.00%\n",
            "LR: 3.5809368148424814 | Reg: 1.9794469685323803e-06\n"
          ]
        },
        {
          "output_type": "stream",
          "name": "stderr",
          "text": [
            "\n",
            " 80%|████████  | 4/5 [00:11<00:02,  2.97s/it]\u001b[A"
          ]
        },
        {
          "output_type": "stream",
          "name": "stdout",
          "text": [
            "Epoch: 04 | Epoch Time: 0m 2s\n",
            "\tTrain Loss: 0.000 | Train Acc: 100.00%\n",
            "\t Val. Loss: 0.000 |  Val. Acc: 100.00%\n",
            "LR: 3.5809368148424814 | Reg: 1.9794469685323803e-06\n"
          ]
        },
        {
          "output_type": "stream",
          "name": "stderr",
          "text": [
            "\n",
            "100%|██████████| 5/5 [00:14<00:00,  2.95s/it]\n",
            " 65%|██████▌   | 13/20 [03:12<01:43, 14.79s/it]"
          ]
        },
        {
          "output_type": "stream",
          "name": "stdout",
          "text": [
            "Epoch: 05 | Epoch Time: 0m 2s\n",
            "\tTrain Loss: 0.000 | Train Acc: 100.00%\n",
            "\t Val. Loss: 0.000 |  Val. Acc: 100.00%\n",
            "LR: 3.5809368148424814 | Reg: 1.9794469685323803e-06\n",
            "-----------------------------------------------------------\n"
          ]
        },
        {
          "output_type": "stream",
          "name": "stderr",
          "text": [
            "\n",
            "  0%|          | 0/5 [00:00<?, ?it/s]\u001b[A\n",
            " 20%|██        | 1/5 [00:02<00:11,  2.91s/it]\u001b[A"
          ]
        },
        {
          "output_type": "stream",
          "name": "stdout",
          "text": [
            "Epoch: 01 | Epoch Time: 0m 2s\n",
            "\tTrain Loss: nan | Train Acc: 93.53%\n",
            "\t Val. Loss: nan |  Val. Acc: 100.00%\n",
            "LR: 1514.195438612567 | Reg: 0.00033016768912621147\n"
          ]
        },
        {
          "output_type": "stream",
          "name": "stderr",
          "text": [
            "\n",
            " 40%|████      | 2/5 [00:05<00:08,  2.91s/it]\u001b[A"
          ]
        },
        {
          "output_type": "stream",
          "name": "stdout",
          "text": [
            "Epoch: 02 | Epoch Time: 0m 2s\n",
            "\tTrain Loss: nan | Train Acc: 100.00%\n",
            "\t Val. Loss: nan |  Val. Acc: 100.00%\n",
            "LR: 1514.195438612567 | Reg: 0.00033016768912621147\n"
          ]
        },
        {
          "output_type": "stream",
          "name": "stderr",
          "text": [
            "\n",
            " 60%|██████    | 3/5 [00:08<00:05,  2.91s/it]\u001b[A"
          ]
        },
        {
          "output_type": "stream",
          "name": "stdout",
          "text": [
            "Epoch: 03 | Epoch Time: 0m 2s\n",
            "\tTrain Loss: nan | Train Acc: 100.00%\n",
            "\t Val. Loss: nan |  Val. Acc: 100.00%\n",
            "LR: 1514.195438612567 | Reg: 0.00033016768912621147\n"
          ]
        },
        {
          "output_type": "stream",
          "name": "stderr",
          "text": [
            "\n",
            " 80%|████████  | 4/5 [00:11<00:02,  2.94s/it]\u001b[A"
          ]
        },
        {
          "output_type": "stream",
          "name": "stdout",
          "text": [
            "Epoch: 04 | Epoch Time: 0m 2s\n",
            "\tTrain Loss: nan | Train Acc: 100.00%\n",
            "\t Val. Loss: nan |  Val. Acc: 100.00%\n",
            "LR: 1514.195438612567 | Reg: 0.00033016768912621147\n"
          ]
        },
        {
          "output_type": "stream",
          "name": "stderr",
          "text": [
            "\n",
            "100%|██████████| 5/5 [00:14<00:00,  2.94s/it]\n",
            " 70%|███████   | 14/20 [03:27<01:28, 14.76s/it]"
          ]
        },
        {
          "output_type": "stream",
          "name": "stdout",
          "text": [
            "Epoch: 05 | Epoch Time: 0m 2s\n",
            "\tTrain Loss: nan | Train Acc: 100.00%\n",
            "\t Val. Loss: nan |  Val. Acc: 100.00%\n",
            "LR: 1514.195438612567 | Reg: 0.00033016768912621147\n",
            "-----------------------------------------------------------\n"
          ]
        },
        {
          "output_type": "stream",
          "name": "stderr",
          "text": [
            "\n",
            "  0%|          | 0/5 [00:00<?, ?it/s]\u001b[A\n",
            " 20%|██        | 1/5 [00:02<00:11,  2.97s/it]\u001b[A"
          ]
        },
        {
          "output_type": "stream",
          "name": "stdout",
          "text": [
            "Epoch: 01 | Epoch Time: 0m 2s\n",
            "\tTrain Loss: 2.749 | Train Acc: 96.71%\n",
            "\t Val. Loss: 0.000 |  Val. Acc: 100.00%\n",
            "LR: 30.579408545195268 | Reg: 0.00042434604443796647\n"
          ]
        },
        {
          "output_type": "stream",
          "name": "stderr",
          "text": [
            "\n",
            " 40%|████      | 2/5 [00:05<00:08,  2.95s/it]\u001b[A"
          ]
        },
        {
          "output_type": "stream",
          "name": "stdout",
          "text": [
            "Epoch: 02 | Epoch Time: 0m 2s\n",
            "\tTrain Loss: 9789.606 | Train Acc: 94.74%\n",
            "\t Val. Loss: 0.000 |  Val. Acc: 100.00%\n",
            "LR: 30.579408545195268 | Reg: 0.00042434604443796647\n"
          ]
        },
        {
          "output_type": "stream",
          "name": "stderr",
          "text": [
            "\n",
            " 60%|██████    | 3/5 [00:08<00:05,  2.94s/it]\u001b[A"
          ]
        },
        {
          "output_type": "stream",
          "name": "stdout",
          "text": [
            "Epoch: 03 | Epoch Time: 0m 2s\n",
            "\tTrain Loss: 18036533.343 | Train Acc: 94.96%\n",
            "\t Val. Loss: 0.000 |  Val. Acc: 100.00%\n",
            "LR: 30.579408545195268 | Reg: 0.00042434604443796647\n"
          ]
        },
        {
          "output_type": "stream",
          "name": "stderr",
          "text": [
            "\n",
            " 80%|████████  | 4/5 [00:11<00:02,  2.94s/it]\u001b[A"
          ]
        },
        {
          "output_type": "stream",
          "name": "stdout",
          "text": [
            "Epoch: 04 | Epoch Time: 0m 2s\n",
            "\tTrain Loss: 39581088275.325 | Train Acc: 87.72%\n",
            "\t Val. Loss: 0.000 |  Val. Acc: 100.00%\n",
            "LR: 30.579408545195268 | Reg: 0.00042434604443796647\n"
          ]
        },
        {
          "output_type": "stream",
          "name": "stderr",
          "text": [
            "\n",
            "100%|██████████| 5/5 [00:14<00:00,  2.94s/it]\n",
            " 75%|███████▌  | 15/20 [03:41<01:13, 14.75s/it]"
          ]
        },
        {
          "output_type": "stream",
          "name": "stdout",
          "text": [
            "Epoch: 05 | Epoch Time: 0m 2s\n",
            "\tTrain Loss: 1873540656492.842 | Train Acc: 84.21%\n",
            "\t Val. Loss: 0.000 |  Val. Acc: 100.00%\n",
            "LR: 30.579408545195268 | Reg: 0.00042434604443796647\n",
            "-----------------------------------------------------------\n"
          ]
        },
        {
          "output_type": "stream",
          "name": "stderr",
          "text": [
            "\n",
            "  0%|          | 0/5 [00:00<?, ?it/s]\u001b[A\n",
            " 20%|██        | 1/5 [00:02<00:11,  2.95s/it]\u001b[A"
          ]
        },
        {
          "output_type": "stream",
          "name": "stdout",
          "text": [
            "Epoch: 01 | Epoch Time: 0m 2s\n",
            "\tTrain Loss: 0.676 | Train Acc: 61.84%\n",
            "\t Val. Loss: 0.641 |  Val. Acc: 64.73%\n",
            "LR: 1.1388089166220053e-05 | Reg: 6.508058651380181e-05\n"
          ]
        },
        {
          "output_type": "stream",
          "name": "stderr",
          "text": [
            "\n",
            " 40%|████      | 2/5 [00:05<00:08,  2.94s/it]\u001b[A"
          ]
        },
        {
          "output_type": "stream",
          "name": "stdout",
          "text": [
            "Epoch: 02 | Epoch Time: 0m 2s\n",
            "\tTrain Loss: 0.634 | Train Acc: 65.08%\n",
            "\t Val. Loss: 0.605 |  Val. Acc: 70.09%\n",
            "LR: 1.1388089166220053e-05 | Reg: 6.508058651380181e-05\n"
          ]
        },
        {
          "output_type": "stream",
          "name": "stderr",
          "text": [
            "\n",
            " 60%|██████    | 3/5 [00:08<00:05,  2.93s/it]\u001b[A"
          ]
        },
        {
          "output_type": "stream",
          "name": "stdout",
          "text": [
            "Epoch: 03 | Epoch Time: 0m 2s\n",
            "\tTrain Loss: 0.603 | Train Acc: 68.48%\n",
            "\t Val. Loss: 0.587 |  Val. Acc: 69.20%\n",
            "LR: 1.1388089166220053e-05 | Reg: 6.508058651380181e-05\n"
          ]
        },
        {
          "output_type": "stream",
          "name": "stderr",
          "text": [
            "\n",
            " 80%|████████  | 4/5 [00:11<00:02,  2.91s/it]\u001b[A"
          ]
        },
        {
          "output_type": "stream",
          "name": "stdout",
          "text": [
            "Epoch: 04 | Epoch Time: 0m 2s\n",
            "\tTrain Loss: 0.571 | Train Acc: 70.61%\n",
            "\t Val. Loss: 0.556 |  Val. Acc: 75.00%\n",
            "LR: 1.1388089166220053e-05 | Reg: 6.508058651380181e-05\n"
          ]
        },
        {
          "output_type": "stream",
          "name": "stderr",
          "text": [
            "\n",
            "100%|██████████| 5/5 [00:14<00:00,  2.92s/it]\n",
            " 80%|████████  | 16/20 [03:56<00:58, 14.72s/it]"
          ]
        },
        {
          "output_type": "stream",
          "name": "stdout",
          "text": [
            "Epoch: 05 | Epoch Time: 0m 2s\n",
            "\tTrain Loss: 0.540 | Train Acc: 74.89%\n",
            "\t Val. Loss: 0.518 |  Val. Acc: 77.23%\n",
            "LR: 1.1388089166220053e-05 | Reg: 6.508058651380181e-05\n",
            "-----------------------------------------------------------\n"
          ]
        },
        {
          "output_type": "stream",
          "name": "stderr",
          "text": [
            "\n",
            "  0%|          | 0/5 [00:00<?, ?it/s]\u001b[A\n",
            " 20%|██        | 1/5 [00:02<00:11,  2.90s/it]\u001b[A"
          ]
        },
        {
          "output_type": "stream",
          "name": "stdout",
          "text": [
            "Epoch: 01 | Epoch Time: 0m 2s\n",
            "\tTrain Loss: 5.493 | Train Acc: 97.97%\n",
            "\t Val. Loss: 0.000 |  Val. Acc: 100.00%\n",
            "LR: 543.2591148530937 | Reg: 2.0022895377750983e-05\n"
          ]
        },
        {
          "output_type": "stream",
          "name": "stderr",
          "text": [
            "\n",
            " 40%|████      | 2/5 [00:05<00:08,  2.97s/it]\u001b[A"
          ]
        },
        {
          "output_type": "stream",
          "name": "stdout",
          "text": [
            "Epoch: 02 | Epoch Time: 0m 3s\n",
            "\tTrain Loss: 61195266.569 | Train Acc: 95.50%\n",
            "\t Val. Loss: 0.000 |  Val. Acc: 100.00%\n",
            "LR: 543.2591148530937 | Reg: 2.0022895377750983e-05\n"
          ]
        },
        {
          "output_type": "stream",
          "name": "stderr",
          "text": [
            "\n",
            " 60%|██████    | 3/5 [00:08<00:05,  2.95s/it]\u001b[A"
          ]
        },
        {
          "output_type": "stream",
          "name": "stdout",
          "text": [
            "Epoch: 03 | Epoch Time: 0m 2s\n",
            "\tTrain Loss: nan | Train Acc: 97.09%\n",
            "\t Val. Loss: nan |  Val. Acc: 100.00%\n",
            "LR: 543.2591148530937 | Reg: 2.0022895377750983e-05\n"
          ]
        },
        {
          "output_type": "stream",
          "name": "stderr",
          "text": [
            "\n",
            " 80%|████████  | 4/5 [00:11<00:02,  2.94s/it]\u001b[A"
          ]
        },
        {
          "output_type": "stream",
          "name": "stdout",
          "text": [
            "Epoch: 04 | Epoch Time: 0m 2s\n",
            "\tTrain Loss: nan | Train Acc: 100.00%\n",
            "\t Val. Loss: nan |  Val. Acc: 100.00%\n",
            "LR: 543.2591148530937 | Reg: 2.0022895377750983e-05\n"
          ]
        },
        {
          "output_type": "stream",
          "name": "stderr",
          "text": [
            "\n",
            "100%|██████████| 5/5 [00:14<00:00,  2.94s/it]\n",
            " 85%|████████▌ | 17/20 [04:11<00:44, 14.72s/it]"
          ]
        },
        {
          "output_type": "stream",
          "name": "stdout",
          "text": [
            "Epoch: 05 | Epoch Time: 0m 2s\n",
            "\tTrain Loss: nan | Train Acc: 100.00%\n",
            "\t Val. Loss: nan |  Val. Acc: 100.00%\n",
            "LR: 543.2591148530937 | Reg: 2.0022895377750983e-05\n",
            "-----------------------------------------------------------\n"
          ]
        },
        {
          "output_type": "stream",
          "name": "stderr",
          "text": [
            "\n",
            "  0%|          | 0/5 [00:00<?, ?it/s]\u001b[A\n",
            " 20%|██        | 1/5 [00:02<00:11,  2.95s/it]\u001b[A"
          ]
        },
        {
          "output_type": "stream",
          "name": "stdout",
          "text": [
            "Epoch: 01 | Epoch Time: 0m 2s\n",
            "\tTrain Loss: 0.355 | Train Acc: 85.36%\n",
            "\t Val. Loss: 0.096 |  Val. Acc: 100.00%\n",
            "LR: 0.0008441246057121181 | Reg: 2.9955450588574948e-06\n"
          ]
        },
        {
          "output_type": "stream",
          "name": "stderr",
          "text": [
            "\n",
            " 40%|████      | 2/5 [00:05<00:08,  2.95s/it]\u001b[A"
          ]
        },
        {
          "output_type": "stream",
          "name": "stdout",
          "text": [
            "Epoch: 02 | Epoch Time: 0m 2s\n",
            "\tTrain Loss: 0.051 | Train Acc: 100.00%\n",
            "\t Val. Loss: 0.042 |  Val. Acc: 100.00%\n",
            "LR: 0.0008441246057121181 | Reg: 2.9955450588574948e-06\n"
          ]
        },
        {
          "output_type": "stream",
          "name": "stderr",
          "text": [
            "\n",
            " 60%|██████    | 3/5 [00:08<00:05,  2.96s/it]\u001b[A"
          ]
        },
        {
          "output_type": "stream",
          "name": "stdout",
          "text": [
            "Epoch: 03 | Epoch Time: 0m 2s\n",
            "\tTrain Loss: 0.028 | Train Acc: 100.00%\n",
            "\t Val. Loss: 0.025 |  Val. Acc: 100.00%\n",
            "LR: 0.0008441246057121181 | Reg: 2.9955450588574948e-06\n"
          ]
        },
        {
          "output_type": "stream",
          "name": "stderr",
          "text": [
            "\n",
            " 80%|████████  | 4/5 [00:11<00:02,  2.97s/it]\u001b[A"
          ]
        },
        {
          "output_type": "stream",
          "name": "stdout",
          "text": [
            "Epoch: 04 | Epoch Time: 0m 2s\n",
            "\tTrain Loss: 0.020 | Train Acc: 100.00%\n",
            "\t Val. Loss: 0.019 |  Val. Acc: 100.00%\n",
            "LR: 0.0008441246057121181 | Reg: 2.9955450588574948e-06\n"
          ]
        },
        {
          "output_type": "stream",
          "name": "stderr",
          "text": [
            "\n",
            "100%|██████████| 5/5 [00:14<00:00,  2.98s/it]\n",
            " 90%|█████████ | 18/20 [04:26<00:29, 14.78s/it]"
          ]
        },
        {
          "output_type": "stream",
          "name": "stdout",
          "text": [
            "Epoch: 05 | Epoch Time: 0m 3s\n",
            "\tTrain Loss: 0.015 | Train Acc: 100.00%\n",
            "\t Val. Loss: 0.017 |  Val. Acc: 100.00%\n",
            "LR: 0.0008441246057121181 | Reg: 2.9955450588574948e-06\n",
            "-----------------------------------------------------------\n"
          ]
        },
        {
          "output_type": "stream",
          "name": "stderr",
          "text": [
            "\n",
            "  0%|          | 0/5 [00:00<?, ?it/s]\u001b[A\n",
            " 20%|██        | 1/5 [00:03<00:12,  3.04s/it]\u001b[A"
          ]
        },
        {
          "output_type": "stream",
          "name": "stdout",
          "text": [
            "Epoch: 01 | Epoch Time: 0m 3s\n",
            "\tTrain Loss: nan | Train Acc: 93.15%\n",
            "\t Val. Loss: nan |  Val. Acc: 100.00%\n",
            "LR: 13733.094941527648 | Reg: 0.00019423380197815067\n"
          ]
        },
        {
          "output_type": "stream",
          "name": "stderr",
          "text": [
            "\n",
            " 40%|████      | 2/5 [00:06<00:09,  3.01s/it]\u001b[A"
          ]
        },
        {
          "output_type": "stream",
          "name": "stdout",
          "text": [
            "Epoch: 02 | Epoch Time: 0m 2s\n",
            "\tTrain Loss: nan | Train Acc: 100.00%\n",
            "\t Val. Loss: nan |  Val. Acc: 100.00%\n",
            "LR: 13733.094941527648 | Reg: 0.00019423380197815067\n"
          ]
        },
        {
          "output_type": "stream",
          "name": "stderr",
          "text": [
            "\n",
            " 60%|██████    | 3/5 [00:08<00:05,  2.97s/it]\u001b[A"
          ]
        },
        {
          "output_type": "stream",
          "name": "stdout",
          "text": [
            "Epoch: 03 | Epoch Time: 0m 2s\n",
            "\tTrain Loss: nan | Train Acc: 100.00%\n",
            "\t Val. Loss: nan |  Val. Acc: 100.00%\n",
            "LR: 13733.094941527648 | Reg: 0.00019423380197815067\n"
          ]
        },
        {
          "output_type": "stream",
          "name": "stderr",
          "text": [
            "\n",
            " 80%|████████  | 4/5 [00:11<00:02,  2.99s/it]\u001b[A"
          ]
        },
        {
          "output_type": "stream",
          "name": "stdout",
          "text": [
            "Epoch: 04 | Epoch Time: 0m 3s\n",
            "\tTrain Loss: nan | Train Acc: 100.00%\n",
            "\t Val. Loss: nan |  Val. Acc: 100.00%\n",
            "LR: 13733.094941527648 | Reg: 0.00019423380197815067\n"
          ]
        },
        {
          "output_type": "stream",
          "name": "stderr",
          "text": [
            "\n",
            "100%|██████████| 5/5 [00:14<00:00,  2.99s/it]\n",
            " 95%|█████████▌| 19/20 [04:41<00:14, 14.84s/it]"
          ]
        },
        {
          "output_type": "stream",
          "name": "stdout",
          "text": [
            "Epoch: 05 | Epoch Time: 0m 2s\n",
            "\tTrain Loss: nan | Train Acc: 100.00%\n",
            "\t Val. Loss: nan |  Val. Acc: 100.00%\n",
            "LR: 13733.094941527648 | Reg: 0.00019423380197815067\n",
            "-----------------------------------------------------------\n"
          ]
        },
        {
          "output_type": "stream",
          "name": "stderr",
          "text": [
            "\n",
            "  0%|          | 0/5 [00:00<?, ?it/s]\u001b[A\n",
            " 20%|██        | 1/5 [00:02<00:11,  2.97s/it]\u001b[A"
          ]
        },
        {
          "output_type": "stream",
          "name": "stdout",
          "text": [
            "Epoch: 01 | Epoch Time: 0m 2s\n",
            "\tTrain Loss: 0.010 | Train Acc: 99.51%\n",
            "\t Val. Loss: 0.000 |  Val. Acc: 100.00%\n",
            "LR: 0.3033366120337391 | Reg: 1.2206764923453576e-05\n"
          ]
        },
        {
          "output_type": "stream",
          "name": "stderr",
          "text": [
            "\n",
            " 40%|████      | 2/5 [00:05<00:08,  2.95s/it]\u001b[A"
          ]
        },
        {
          "output_type": "stream",
          "name": "stdout",
          "text": [
            "Epoch: 02 | Epoch Time: 0m 2s\n",
            "\tTrain Loss: 0.000 | Train Acc: 100.00%\n",
            "\t Val. Loss: 0.000 |  Val. Acc: 100.00%\n",
            "LR: 0.3033366120337391 | Reg: 1.2206764923453576e-05\n"
          ]
        },
        {
          "output_type": "stream",
          "name": "stderr",
          "text": [
            "\n",
            " 60%|██████    | 3/5 [00:08<00:05,  2.94s/it]\u001b[A"
          ]
        },
        {
          "output_type": "stream",
          "name": "stdout",
          "text": [
            "Epoch: 03 | Epoch Time: 0m 2s\n",
            "\tTrain Loss: 0.000 | Train Acc: 100.00%\n",
            "\t Val. Loss: 0.000 |  Val. Acc: 100.00%\n",
            "LR: 0.3033366120337391 | Reg: 1.2206764923453576e-05\n"
          ]
        },
        {
          "output_type": "stream",
          "name": "stderr",
          "text": [
            "\n",
            " 80%|████████  | 4/5 [00:11<00:02,  2.92s/it]\u001b[A"
          ]
        },
        {
          "output_type": "stream",
          "name": "stdout",
          "text": [
            "Epoch: 04 | Epoch Time: 0m 2s\n",
            "\tTrain Loss: 0.000 | Train Acc: 100.00%\n",
            "\t Val. Loss: 0.000 |  Val. Acc: 100.00%\n",
            "LR: 0.3033366120337391 | Reg: 1.2206764923453576e-05\n"
          ]
        },
        {
          "output_type": "stream",
          "name": "stderr",
          "text": [
            "\n",
            "100%|██████████| 5/5 [00:14<00:00,  2.94s/it]\n",
            "100%|██████████| 20/20 [04:55<00:00, 14.79s/it]"
          ]
        },
        {
          "output_type": "stream",
          "name": "stdout",
          "text": [
            "Epoch: 05 | Epoch Time: 0m 2s\n",
            "\tTrain Loss: 0.000 | Train Acc: 100.00%\n",
            "\t Val. Loss: 0.000 |  Val. Acc: 100.00%\n",
            "LR: 0.3033366120337391 | Reg: 1.2206764923453576e-05\n",
            "-----------------------------------------------------------\n"
          ]
        },
        {
          "output_type": "stream",
          "name": "stderr",
          "text": [
            "\n"
          ]
        }
      ]
    },
    {
      "cell_type": "code",
      "source": [
        "max_count = 10\n",
        "\n",
        "for count in tqdm(range(max_count)):\n",
        "  LR = 10**random.uniform(-4,-2)\n",
        "  reg = 10**random.uniform(-3,-5)\n",
        "  FINE_TRAIN(train_data,valid_data,device,optimizer='SGD',no_epochs=5,LR=LR,reg=reg)\n",
        "  print(\"-----------------------------------------------------------\")"
      ],
      "metadata": {
        "colab": {
          "base_uri": "https://localhost:8080/"
        },
        "id": "qaCsZlmM2Gny",
        "outputId": "01969d10-dd27-47b6-b98a-9be43e15862c"
      },
      "execution_count": null,
      "outputs": [
        {
          "output_type": "stream",
          "name": "stderr",
          "text": [
            "  0%|          | 0/10 [00:00<?, ?it/s]\n",
            "  0%|          | 0/5 [00:00<?, ?it/s]\u001b[A\n",
            " 20%|██        | 1/5 [00:02<00:11,  2.92s/it]\u001b[A"
          ]
        },
        {
          "output_type": "stream",
          "name": "stdout",
          "text": [
            "Epoch: 01 | Epoch Time: 0m 2s\n",
            "\tTrain Loss: 0.085 | Train Acc: 96.44%\n",
            "\t Val. Loss: 0.004 |  Val. Acc: 100.00%\n",
            "LR: 0.00637802247761107 | Reg: 0.0005581739741424622\n"
          ]
        },
        {
          "output_type": "stream",
          "name": "stderr",
          "text": [
            "\n",
            " 40%|████      | 2/5 [00:05<00:08,  2.95s/it]\u001b[A"
          ]
        },
        {
          "output_type": "stream",
          "name": "stdout",
          "text": [
            "Epoch: 02 | Epoch Time: 0m 2s\n",
            "\tTrain Loss: 0.003 | Train Acc: 100.00%\n",
            "\t Val. Loss: 0.003 |  Val. Acc: 100.00%\n",
            "LR: 0.00637802247761107 | Reg: 0.0005581739741424622\n"
          ]
        },
        {
          "output_type": "stream",
          "name": "stderr",
          "text": [
            "\n",
            " 60%|██████    | 3/5 [00:08<00:05,  2.94s/it]\u001b[A"
          ]
        },
        {
          "output_type": "stream",
          "name": "stdout",
          "text": [
            "Epoch: 03 | Epoch Time: 0m 2s\n",
            "\tTrain Loss: 0.002 | Train Acc: 100.00%\n",
            "\t Val. Loss: 0.002 |  Val. Acc: 100.00%\n",
            "LR: 0.00637802247761107 | Reg: 0.0005581739741424622\n"
          ]
        },
        {
          "output_type": "stream",
          "name": "stderr",
          "text": [
            "\n",
            " 80%|████████  | 4/5 [00:11<00:02,  2.92s/it]\u001b[A"
          ]
        },
        {
          "output_type": "stream",
          "name": "stdout",
          "text": [
            "Epoch: 04 | Epoch Time: 0m 2s\n",
            "\tTrain Loss: 0.002 | Train Acc: 100.00%\n",
            "\t Val. Loss: 0.002 |  Val. Acc: 100.00%\n",
            "LR: 0.00637802247761107 | Reg: 0.0005581739741424622\n"
          ]
        },
        {
          "output_type": "stream",
          "name": "stderr",
          "text": [
            "\n",
            "100%|██████████| 5/5 [00:14<00:00,  2.91s/it]\n",
            " 10%|█         | 1/10 [00:14<02:11, 14.58s/it]"
          ]
        },
        {
          "output_type": "stream",
          "name": "stdout",
          "text": [
            "Epoch: 05 | Epoch Time: 0m 2s\n",
            "\tTrain Loss: 0.001 | Train Acc: 100.00%\n",
            "\t Val. Loss: 0.002 |  Val. Acc: 100.00%\n",
            "LR: 0.00637802247761107 | Reg: 0.0005581739741424622\n",
            "-----------------------------------------------------------\n"
          ]
        },
        {
          "output_type": "stream",
          "name": "stderr",
          "text": [
            "\n",
            "  0%|          | 0/5 [00:00<?, ?it/s]\u001b[A\n",
            " 20%|██        | 1/5 [00:02<00:11,  2.85s/it]\u001b[A"
          ]
        },
        {
          "output_type": "stream",
          "name": "stdout",
          "text": [
            "Epoch: 01 | Epoch Time: 0m 2s\n",
            "\tTrain Loss: 0.208 | Train Acc: 93.59%\n",
            "\t Val. Loss: 0.059 |  Val. Acc: 100.00%\n",
            "LR: 0.0012820449091570233 | Reg: 1.1559845003970227e-05\n"
          ]
        },
        {
          "output_type": "stream",
          "name": "stderr",
          "text": [
            "\n",
            " 40%|████      | 2/5 [00:05<00:08,  2.86s/it]\u001b[A"
          ]
        },
        {
          "output_type": "stream",
          "name": "stdout",
          "text": [
            "Epoch: 02 | Epoch Time: 0m 2s\n",
            "\tTrain Loss: 0.028 | Train Acc: 100.00%\n",
            "\t Val. Loss: 0.025 |  Val. Acc: 100.00%\n",
            "LR: 0.0012820449091570233 | Reg: 1.1559845003970227e-05\n"
          ]
        },
        {
          "output_type": "stream",
          "name": "stderr",
          "text": [
            "\n",
            " 60%|██████    | 3/5 [00:08<00:05,  2.90s/it]\u001b[A"
          ]
        },
        {
          "output_type": "stream",
          "name": "stdout",
          "text": [
            "Epoch: 03 | Epoch Time: 0m 2s\n",
            "\tTrain Loss: 0.017 | Train Acc: 100.00%\n",
            "\t Val. Loss: 0.018 |  Val. Acc: 100.00%\n",
            "LR: 0.0012820449091570233 | Reg: 1.1559845003970227e-05\n"
          ]
        },
        {
          "output_type": "stream",
          "name": "stderr",
          "text": [
            "\n",
            " 80%|████████  | 4/5 [00:11<00:02,  2.91s/it]\u001b[A"
          ]
        },
        {
          "output_type": "stream",
          "name": "stdout",
          "text": [
            "Epoch: 04 | Epoch Time: 0m 2s\n",
            "\tTrain Loss: 0.013 | Train Acc: 100.00%\n",
            "\t Val. Loss: 0.013 |  Val. Acc: 100.00%\n",
            "LR: 0.0012820449091570233 | Reg: 1.1559845003970227e-05\n"
          ]
        },
        {
          "output_type": "stream",
          "name": "stderr",
          "text": [
            "\n",
            "100%|██████████| 5/5 [00:14<00:00,  2.91s/it]\n",
            " 20%|██        | 2/10 [00:29<01:56, 14.58s/it]"
          ]
        },
        {
          "output_type": "stream",
          "name": "stdout",
          "text": [
            "Epoch: 05 | Epoch Time: 0m 2s\n",
            "\tTrain Loss: 0.010 | Train Acc: 100.00%\n",
            "\t Val. Loss: 0.012 |  Val. Acc: 100.00%\n",
            "LR: 0.0012820449091570233 | Reg: 1.1559845003970227e-05\n",
            "-----------------------------------------------------------\n"
          ]
        },
        {
          "output_type": "stream",
          "name": "stderr",
          "text": [
            "\n",
            "  0%|          | 0/5 [00:00<?, ?it/s]\u001b[A\n",
            " 20%|██        | 1/5 [00:02<00:11,  2.89s/it]\u001b[A"
          ]
        },
        {
          "output_type": "stream",
          "name": "stdout",
          "text": [
            "Epoch: 01 | Epoch Time: 0m 2s\n",
            "\tTrain Loss: 0.128 | Train Acc: 97.20%\n",
            "\t Val. Loss: 0.039 |  Val. Acc: 100.00%\n",
            "LR: 0.0016527244947978793 | Reg: 3.676138322144464e-05\n"
          ]
        },
        {
          "output_type": "stream",
          "name": "stderr",
          "text": [
            "\n",
            " 40%|████      | 2/5 [00:05<00:08,  2.93s/it]\u001b[A"
          ]
        },
        {
          "output_type": "stream",
          "name": "stdout",
          "text": [
            "Epoch: 02 | Epoch Time: 0m 2s\n",
            "\tTrain Loss: 0.021 | Train Acc: 100.00%\n",
            "\t Val. Loss: 0.021 |  Val. Acc: 100.00%\n",
            "LR: 0.0016527244947978793 | Reg: 3.676138322144464e-05\n"
          ]
        },
        {
          "output_type": "stream",
          "name": "stderr",
          "text": [
            "\n",
            " 60%|██████    | 3/5 [00:08<00:05,  2.96s/it]\u001b[A"
          ]
        },
        {
          "output_type": "stream",
          "name": "stdout",
          "text": [
            "Epoch: 03 | Epoch Time: 0m 2s\n",
            "\tTrain Loss: 0.013 | Train Acc: 100.00%\n",
            "\t Val. Loss: 0.012 |  Val. Acc: 100.00%\n",
            "LR: 0.0016527244947978793 | Reg: 3.676138322144464e-05\n"
          ]
        },
        {
          "output_type": "stream",
          "name": "stderr",
          "text": [
            "\n",
            " 80%|████████  | 4/5 [00:11<00:02,  2.96s/it]\u001b[A"
          ]
        },
        {
          "output_type": "stream",
          "name": "stdout",
          "text": [
            "Epoch: 04 | Epoch Time: 0m 2s\n",
            "\tTrain Loss: 0.009 | Train Acc: 100.00%\n",
            "\t Val. Loss: 0.010 |  Val. Acc: 100.00%\n",
            "LR: 0.0016527244947978793 | Reg: 3.676138322144464e-05\n"
          ]
        },
        {
          "output_type": "stream",
          "name": "stderr",
          "text": [
            "\n",
            "100%|██████████| 5/5 [00:14<00:00,  2.94s/it]\n",
            " 30%|███       | 3/10 [00:43<01:42, 14.66s/it]"
          ]
        },
        {
          "output_type": "stream",
          "name": "stdout",
          "text": [
            "Epoch: 05 | Epoch Time: 0m 2s\n",
            "\tTrain Loss: 0.007 | Train Acc: 100.00%\n",
            "\t Val. Loss: 0.009 |  Val. Acc: 100.00%\n",
            "LR: 0.0016527244947978793 | Reg: 3.676138322144464e-05\n",
            "-----------------------------------------------------------\n"
          ]
        },
        {
          "output_type": "stream",
          "name": "stderr",
          "text": [
            "\n",
            "  0%|          | 0/5 [00:00<?, ?it/s]\u001b[A\n",
            " 20%|██        | 1/5 [00:02<00:11,  2.88s/it]\u001b[A"
          ]
        },
        {
          "output_type": "stream",
          "name": "stdout",
          "text": [
            "Epoch: 01 | Epoch Time: 0m 2s\n",
            "\tTrain Loss: 0.112 | Train Acc: 96.66%\n",
            "\t Val. Loss: 0.011 |  Val. Acc: 100.00%\n",
            "LR: 0.0035474084806016064 | Reg: 9.677739443007353e-05\n"
          ]
        },
        {
          "output_type": "stream",
          "name": "stderr",
          "text": [
            "\n",
            " 40%|████      | 2/5 [00:05<00:08,  2.91s/it]\u001b[A"
          ]
        },
        {
          "output_type": "stream",
          "name": "stdout",
          "text": [
            "Epoch: 02 | Epoch Time: 0m 2s\n",
            "\tTrain Loss: 0.007 | Train Acc: 100.00%\n",
            "\t Val. Loss: 0.007 |  Val. Acc: 100.00%\n",
            "LR: 0.0035474084806016064 | Reg: 9.677739443007353e-05\n"
          ]
        },
        {
          "output_type": "stream",
          "name": "stderr",
          "text": [
            "\n",
            " 60%|██████    | 3/5 [00:08<00:05,  2.91s/it]\u001b[A"
          ]
        },
        {
          "output_type": "stream",
          "name": "stdout",
          "text": [
            "Epoch: 03 | Epoch Time: 0m 2s\n",
            "\tTrain Loss: 0.005 | Train Acc: 100.00%\n",
            "\t Val. Loss: 0.005 |  Val. Acc: 100.00%\n",
            "LR: 0.0035474084806016064 | Reg: 9.677739443007353e-05\n"
          ]
        },
        {
          "output_type": "stream",
          "name": "stderr",
          "text": [
            "\n",
            " 80%|████████  | 4/5 [00:11<00:02,  2.92s/it]\u001b[A"
          ]
        },
        {
          "output_type": "stream",
          "name": "stdout",
          "text": [
            "Epoch: 04 | Epoch Time: 0m 2s\n",
            "\tTrain Loss: 0.004 | Train Acc: 100.00%\n",
            "\t Val. Loss: 0.004 |  Val. Acc: 100.00%\n",
            "LR: 0.0035474084806016064 | Reg: 9.677739443007353e-05\n"
          ]
        },
        {
          "output_type": "stream",
          "name": "stderr",
          "text": [
            "\n",
            "100%|██████████| 5/5 [00:14<00:00,  2.92s/it]\n",
            " 40%|████      | 4/10 [00:58<01:27, 14.64s/it]"
          ]
        },
        {
          "output_type": "stream",
          "name": "stdout",
          "text": [
            "Epoch: 05 | Epoch Time: 0m 2s\n",
            "\tTrain Loss: 0.003 | Train Acc: 100.00%\n",
            "\t Val. Loss: 0.004 |  Val. Acc: 100.00%\n",
            "LR: 0.0035474084806016064 | Reg: 9.677739443007353e-05\n",
            "-----------------------------------------------------------\n"
          ]
        },
        {
          "output_type": "stream",
          "name": "stderr",
          "text": [
            "\n",
            "  0%|          | 0/5 [00:00<?, ?it/s]\u001b[A\n",
            " 20%|██        | 1/5 [00:02<00:11,  2.88s/it]\u001b[A"
          ]
        },
        {
          "output_type": "stream",
          "name": "stdout",
          "text": [
            "Epoch: 01 | Epoch Time: 0m 2s\n",
            "\tTrain Loss: 0.352 | Train Acc: 87.34%\n",
            "\t Val. Loss: 0.178 |  Val. Acc: 98.21%\n",
            "LR: 0.0003799361329877015 | Reg: 6.595547641580466e-05\n"
          ]
        },
        {
          "output_type": "stream",
          "name": "stderr",
          "text": [
            "\n",
            " 40%|████      | 2/5 [00:05<00:08,  2.94s/it]\u001b[A"
          ]
        },
        {
          "output_type": "stream",
          "name": "stdout",
          "text": [
            "Epoch: 02 | Epoch Time: 0m 2s\n",
            "\tTrain Loss: 0.116 | Train Acc: 99.78%\n",
            "\t Val. Loss: 0.099 |  Val. Acc: 100.00%\n",
            "LR: 0.0003799361329877015 | Reg: 6.595547641580466e-05\n"
          ]
        },
        {
          "output_type": "stream",
          "name": "stderr",
          "text": [
            "\n",
            " 60%|██████    | 3/5 [00:08<00:05,  2.98s/it]\u001b[A"
          ]
        },
        {
          "output_type": "stream",
          "name": "stdout",
          "text": [
            "Epoch: 03 | Epoch Time: 0m 3s\n",
            "\tTrain Loss: 0.067 | Train Acc: 100.00%\n",
            "\t Val. Loss: 0.064 |  Val. Acc: 100.00%\n",
            "LR: 0.0003799361329877015 | Reg: 6.595547641580466e-05\n"
          ]
        },
        {
          "output_type": "stream",
          "name": "stderr",
          "text": [
            "\n",
            " 80%|████████  | 4/5 [00:11<00:03,  3.01s/it]\u001b[A"
          ]
        },
        {
          "output_type": "stream",
          "name": "stdout",
          "text": [
            "Epoch: 04 | Epoch Time: 0m 3s\n",
            "\tTrain Loss: 0.048 | Train Acc: 100.00%\n",
            "\t Val. Loss: 0.048 |  Val. Acc: 100.00%\n",
            "LR: 0.0003799361329877015 | Reg: 6.595547641580466e-05\n"
          ]
        },
        {
          "output_type": "stream",
          "name": "stderr",
          "text": [
            "\n",
            "100%|██████████| 5/5 [00:14<00:00,  2.99s/it]\n",
            " 50%|█████     | 5/10 [01:13<01:13, 14.77s/it]"
          ]
        },
        {
          "output_type": "stream",
          "name": "stdout",
          "text": [
            "Epoch: 05 | Epoch Time: 0m 2s\n",
            "\tTrain Loss: 0.037 | Train Acc: 100.00%\n",
            "\t Val. Loss: 0.038 |  Val. Acc: 100.00%\n",
            "LR: 0.0003799361329877015 | Reg: 6.595547641580466e-05\n",
            "-----------------------------------------------------------\n"
          ]
        },
        {
          "output_type": "stream",
          "name": "stderr",
          "text": [
            "\n",
            "  0%|          | 0/5 [00:00<?, ?it/s]\u001b[A\n",
            " 20%|██        | 1/5 [00:02<00:11,  2.89s/it]\u001b[A"
          ]
        },
        {
          "output_type": "stream",
          "name": "stdout",
          "text": [
            "Epoch: 01 | Epoch Time: 0m 2s\n",
            "\tTrain Loss: 0.368 | Train Acc: 81.74%\n",
            "\t Val. Loss: 0.053 |  Val. Acc: 100.00%\n",
            "LR: 0.0011385666712941816 | Reg: 0.00020580856350419904\n"
          ]
        },
        {
          "output_type": "stream",
          "name": "stderr",
          "text": [
            "\n",
            " 40%|████      | 2/5 [00:05<00:08,  2.93s/it]\u001b[A"
          ]
        },
        {
          "output_type": "stream",
          "name": "stdout",
          "text": [
            "Epoch: 02 | Epoch Time: 0m 2s\n",
            "\tTrain Loss: 0.032 | Train Acc: 100.00%\n",
            "\t Val. Loss: 0.028 |  Val. Acc: 100.00%\n",
            "LR: 0.0011385666712941816 | Reg: 0.00020580856350419904\n"
          ]
        },
        {
          "output_type": "stream",
          "name": "stderr",
          "text": [
            "\n",
            " 60%|██████    | 3/5 [00:08<00:05,  2.96s/it]\u001b[A"
          ]
        },
        {
          "output_type": "stream",
          "name": "stdout",
          "text": [
            "Epoch: 03 | Epoch Time: 0m 2s\n",
            "\tTrain Loss: 0.020 | Train Acc: 100.00%\n",
            "\t Val. Loss: 0.018 |  Val. Acc: 100.00%\n",
            "LR: 0.0011385666712941816 | Reg: 0.00020580856350419904\n"
          ]
        },
        {
          "output_type": "stream",
          "name": "stderr",
          "text": [
            "\n",
            " 80%|████████  | 4/5 [00:11<00:02,  2.97s/it]\u001b[A"
          ]
        },
        {
          "output_type": "stream",
          "name": "stdout",
          "text": [
            "Epoch: 04 | Epoch Time: 0m 2s\n",
            "\tTrain Loss: 0.015 | Train Acc: 100.00%\n",
            "\t Val. Loss: 0.016 |  Val. Acc: 100.00%\n",
            "LR: 0.0011385666712941816 | Reg: 0.00020580856350419904\n"
          ]
        },
        {
          "output_type": "stream",
          "name": "stderr",
          "text": [
            "\n",
            "100%|██████████| 5/5 [00:14<00:00,  2.96s/it]\n",
            " 60%|██████    | 6/10 [01:28<00:59, 14.79s/it]"
          ]
        },
        {
          "output_type": "stream",
          "name": "stdout",
          "text": [
            "Epoch: 05 | Epoch Time: 0m 2s\n",
            "\tTrain Loss: 0.012 | Train Acc: 100.00%\n",
            "\t Val. Loss: 0.012 |  Val. Acc: 100.00%\n",
            "LR: 0.0011385666712941816 | Reg: 0.00020580856350419904\n",
            "-----------------------------------------------------------\n"
          ]
        },
        {
          "output_type": "stream",
          "name": "stderr",
          "text": [
            "\n",
            "  0%|          | 0/5 [00:00<?, ?it/s]\u001b[A\n",
            " 20%|██        | 1/5 [00:02<00:11,  2.94s/it]\u001b[A"
          ]
        },
        {
          "output_type": "stream",
          "name": "stdout",
          "text": [
            "Epoch: 01 | Epoch Time: 0m 2s\n",
            "\tTrain Loss: 0.084 | Train Acc: 97.37%\n",
            "\t Val. Loss: 0.007 |  Val. Acc: 100.00%\n",
            "LR: 0.005109087155036795 | Reg: 0.0001879326699637364\n"
          ]
        },
        {
          "output_type": "stream",
          "name": "stderr",
          "text": [
            "\n",
            " 40%|████      | 2/5 [00:05<00:08,  2.90s/it]\u001b[A"
          ]
        },
        {
          "output_type": "stream",
          "name": "stdout",
          "text": [
            "Epoch: 02 | Epoch Time: 0m 2s\n",
            "\tTrain Loss: 0.004 | Train Acc: 100.00%\n",
            "\t Val. Loss: 0.005 |  Val. Acc: 100.00%\n",
            "LR: 0.005109087155036795 | Reg: 0.0001879326699637364\n"
          ]
        },
        {
          "output_type": "stream",
          "name": "stderr",
          "text": [
            "\n",
            " 60%|██████    | 3/5 [00:08<00:05,  2.90s/it]\u001b[A"
          ]
        },
        {
          "output_type": "stream",
          "name": "stdout",
          "text": [
            "Epoch: 03 | Epoch Time: 0m 2s\n",
            "\tTrain Loss: 0.003 | Train Acc: 100.00%\n",
            "\t Val. Loss: 0.003 |  Val. Acc: 100.00%\n",
            "LR: 0.005109087155036795 | Reg: 0.0001879326699637364\n"
          ]
        },
        {
          "output_type": "stream",
          "name": "stderr",
          "text": [
            "\n",
            " 80%|████████  | 4/5 [00:11<00:02,  2.93s/it]\u001b[A"
          ]
        },
        {
          "output_type": "stream",
          "name": "stdout",
          "text": [
            "Epoch: 04 | Epoch Time: 0m 2s\n",
            "\tTrain Loss: 0.003 | Train Acc: 100.00%\n",
            "\t Val. Loss: 0.003 |  Val. Acc: 100.00%\n",
            "LR: 0.005109087155036795 | Reg: 0.0001879326699637364\n"
          ]
        },
        {
          "output_type": "stream",
          "name": "stderr",
          "text": [
            "\n",
            "100%|██████████| 5/5 [00:14<00:00,  2.93s/it]\n",
            " 70%|███████   | 7/10 [01:43<00:44, 14.75s/it]"
          ]
        },
        {
          "output_type": "stream",
          "name": "stdout",
          "text": [
            "Epoch: 05 | Epoch Time: 0m 2s\n",
            "\tTrain Loss: 0.002 | Train Acc: 100.00%\n",
            "\t Val. Loss: 0.002 |  Val. Acc: 100.00%\n",
            "LR: 0.005109087155036795 | Reg: 0.0001879326699637364\n",
            "-----------------------------------------------------------\n"
          ]
        },
        {
          "output_type": "stream",
          "name": "stderr",
          "text": [
            "\n",
            "  0%|          | 0/5 [00:00<?, ?it/s]\u001b[A\n",
            " 20%|██        | 1/5 [00:02<00:11,  2.94s/it]\u001b[A"
          ]
        },
        {
          "output_type": "stream",
          "name": "stdout",
          "text": [
            "Epoch: 01 | Epoch Time: 0m 2s\n",
            "\tTrain Loss: 0.359 | Train Acc: 84.27%\n",
            "\t Val. Loss: 0.077 |  Val. Acc: 100.00%\n",
            "LR: 0.0009271025512054841 | Reg: 2.9991401691745907e-05\n"
          ]
        },
        {
          "output_type": "stream",
          "name": "stderr",
          "text": [
            "\n",
            " 40%|████      | 2/5 [00:05<00:08,  2.94s/it]\u001b[A"
          ]
        },
        {
          "output_type": "stream",
          "name": "stdout",
          "text": [
            "Epoch: 02 | Epoch Time: 0m 2s\n",
            "\tTrain Loss: 0.043 | Train Acc: 100.00%\n",
            "\t Val. Loss: 0.037 |  Val. Acc: 100.00%\n",
            "LR: 0.0009271025512054841 | Reg: 2.9991401691745907e-05\n"
          ]
        },
        {
          "output_type": "stream",
          "name": "stderr",
          "text": [
            "\n",
            " 60%|██████    | 3/5 [00:08<00:05,  3.00s/it]\u001b[A"
          ]
        },
        {
          "output_type": "stream",
          "name": "stdout",
          "text": [
            "Epoch: 03 | Epoch Time: 0m 3s\n",
            "\tTrain Loss: 0.025 | Train Acc: 100.00%\n",
            "\t Val. Loss: 0.026 |  Val. Acc: 100.00%\n",
            "LR: 0.0009271025512054841 | Reg: 2.9991401691745907e-05\n"
          ]
        },
        {
          "output_type": "stream",
          "name": "stderr",
          "text": [
            "\n",
            " 80%|████████  | 4/5 [00:11<00:03,  3.00s/it]\u001b[A"
          ]
        },
        {
          "output_type": "stream",
          "name": "stdout",
          "text": [
            "Epoch: 04 | Epoch Time: 0m 2s\n",
            "\tTrain Loss: 0.018 | Train Acc: 100.00%\n",
            "\t Val. Loss: 0.021 |  Val. Acc: 100.00%\n",
            "LR: 0.0009271025512054841 | Reg: 2.9991401691745907e-05\n"
          ]
        },
        {
          "output_type": "stream",
          "name": "stderr",
          "text": [
            "\n",
            "100%|██████████| 5/5 [00:14<00:00,  2.99s/it]\n",
            " 80%|████████  | 8/10 [01:57<00:29, 14.82s/it]"
          ]
        },
        {
          "output_type": "stream",
          "name": "stdout",
          "text": [
            "Epoch: 05 | Epoch Time: 0m 2s\n",
            "\tTrain Loss: 0.014 | Train Acc: 100.00%\n",
            "\t Val. Loss: 0.016 |  Val. Acc: 100.00%\n",
            "LR: 0.0009271025512054841 | Reg: 2.9991401691745907e-05\n",
            "-----------------------------------------------------------\n"
          ]
        },
        {
          "output_type": "stream",
          "name": "stderr",
          "text": [
            "\n",
            "  0%|          | 0/5 [00:00<?, ?it/s]\u001b[A\n",
            " 20%|██        | 1/5 [00:03<00:12,  3.03s/it]\u001b[A"
          ]
        },
        {
          "output_type": "stream",
          "name": "stdout",
          "text": [
            "Epoch: 01 | Epoch Time: 0m 3s\n",
            "\tTrain Loss: 0.083 | Train Acc: 97.92%\n",
            "\t Val. Loss: 0.011 |  Val. Acc: 100.00%\n",
            "LR: 0.0042426478473327435 | Reg: 1.6560982231986143e-05\n"
          ]
        },
        {
          "output_type": "stream",
          "name": "stderr",
          "text": [
            "\n",
            " 40%|████      | 2/5 [00:06<00:09,  3.01s/it]\u001b[A"
          ]
        },
        {
          "output_type": "stream",
          "name": "stdout",
          "text": [
            "Epoch: 02 | Epoch Time: 0m 2s\n",
            "\tTrain Loss: 0.006 | Train Acc: 100.00%\n",
            "\t Val. Loss: 0.006 |  Val. Acc: 100.00%\n",
            "LR: 0.0042426478473327435 | Reg: 1.6560982231986143e-05\n"
          ]
        },
        {
          "output_type": "stream",
          "name": "stderr",
          "text": [
            "\n",
            " 60%|██████    | 3/5 [00:09<00:06,  3.02s/it]\u001b[A"
          ]
        },
        {
          "output_type": "stream",
          "name": "stdout",
          "text": [
            "Epoch: 03 | Epoch Time: 0m 3s\n",
            "\tTrain Loss: 0.004 | Train Acc: 100.00%\n",
            "\t Val. Loss: 0.004 |  Val. Acc: 100.00%\n",
            "LR: 0.0042426478473327435 | Reg: 1.6560982231986143e-05\n"
          ]
        },
        {
          "output_type": "stream",
          "name": "stderr",
          "text": [
            "\n",
            " 80%|████████  | 4/5 [00:12<00:02,  3.00s/it]\u001b[A"
          ]
        },
        {
          "output_type": "stream",
          "name": "stdout",
          "text": [
            "Epoch: 04 | Epoch Time: 0m 2s\n",
            "\tTrain Loss: 0.003 | Train Acc: 100.00%\n",
            "\t Val. Loss: 0.003 |  Val. Acc: 100.00%\n",
            "LR: 0.0042426478473327435 | Reg: 1.6560982231986143e-05\n"
          ]
        },
        {
          "output_type": "stream",
          "name": "stderr",
          "text": [
            "\n",
            "100%|██████████| 5/5 [00:15<00:00,  3.02s/it]\n",
            " 90%|█████████ | 9/10 [02:13<00:14, 14.92s/it]"
          ]
        },
        {
          "output_type": "stream",
          "name": "stdout",
          "text": [
            "Epoch: 05 | Epoch Time: 0m 3s\n",
            "\tTrain Loss: 0.003 | Train Acc: 100.00%\n",
            "\t Val. Loss: 0.003 |  Val. Acc: 100.00%\n",
            "LR: 0.0042426478473327435 | Reg: 1.6560982231986143e-05\n",
            "-----------------------------------------------------------\n"
          ]
        },
        {
          "output_type": "stream",
          "name": "stderr",
          "text": [
            "\n",
            "  0%|          | 0/5 [00:00<?, ?it/s]\u001b[A\n",
            " 20%|██        | 1/5 [00:02<00:11,  2.95s/it]\u001b[A"
          ]
        },
        {
          "output_type": "stream",
          "name": "stdout",
          "text": [
            "Epoch: 01 | Epoch Time: 0m 2s\n",
            "\tTrain Loss: 0.175 | Train Acc: 93.59%\n",
            "\t Val. Loss: 0.028 |  Val. Acc: 100.00%\n",
            "LR: 0.0020091551055966416 | Reg: 0.00031256055391324787\n"
          ]
        },
        {
          "output_type": "stream",
          "name": "stderr",
          "text": [
            "\n",
            " 40%|████      | 2/5 [00:05<00:08,  2.95s/it]\u001b[A"
          ]
        },
        {
          "output_type": "stream",
          "name": "stdout",
          "text": [
            "Epoch: 02 | Epoch Time: 0m 2s\n",
            "\tTrain Loss: 0.015 | Train Acc: 100.00%\n",
            "\t Val. Loss: 0.016 |  Val. Acc: 100.00%\n",
            "LR: 0.0020091551055966416 | Reg: 0.00031256055391324787\n"
          ]
        },
        {
          "output_type": "stream",
          "name": "stderr",
          "text": [
            "\n",
            " 60%|██████    | 3/5 [00:08<00:05,  2.98s/it]\u001b[A"
          ]
        },
        {
          "output_type": "stream",
          "name": "stdout",
          "text": [
            "Epoch: 03 | Epoch Time: 0m 3s\n",
            "\tTrain Loss: 0.010 | Train Acc: 100.00%\n",
            "\t Val. Loss: 0.011 |  Val. Acc: 100.00%\n",
            "LR: 0.0020091551055966416 | Reg: 0.00031256055391324787\n"
          ]
        },
        {
          "output_type": "stream",
          "name": "stderr",
          "text": [
            "\n",
            " 80%|████████  | 4/5 [00:12<00:03,  3.04s/it]\u001b[A"
          ]
        },
        {
          "output_type": "stream",
          "name": "stdout",
          "text": [
            "Epoch: 04 | Epoch Time: 0m 3s\n",
            "\tTrain Loss: 0.007 | Train Acc: 100.00%\n",
            "\t Val. Loss: 0.008 |  Val. Acc: 100.00%\n",
            "LR: 0.0020091551055966416 | Reg: 0.00031256055391324787\n"
          ]
        },
        {
          "output_type": "stream",
          "name": "stderr",
          "text": [
            "\n",
            "100%|██████████| 5/5 [00:15<00:00,  3.03s/it]\n",
            "100%|██████████| 10/10 [02:28<00:00, 14.83s/it]"
          ]
        },
        {
          "output_type": "stream",
          "name": "stdout",
          "text": [
            "Epoch: 05 | Epoch Time: 0m 3s\n",
            "\tTrain Loss: 0.006 | Train Acc: 100.00%\n",
            "\t Val. Loss: 0.006 |  Val. Acc: 100.00%\n",
            "LR: 0.0020091551055966416 | Reg: 0.00031256055391324787\n",
            "-----------------------------------------------------------\n"
          ]
        },
        {
          "output_type": "stream",
          "name": "stderr",
          "text": [
            "\n"
          ]
        }
      ]
    },
    {
      "cell_type": "code",
      "source": [
        "#LR = 0.007461627791541241\n",
        "#reg = 0.0001580451045434134\n",
        "#LR = 2.1388089166220053e-05\n",
        "#reg = 4.508058651380181e-05\n",
        "#LR=6.331944386333944e-05\n",
        "#reg=4.287087587289784e-05\n",
        "LR= 3.0121400777449763e-05\n",
        "reg= 1.5889593971470228e-06\n",
        "\n",
        "TRAIN(train_data,valid_data,device,optimizer='SGD',no_epochs=30,LR=LR,reg=reg)"
      ],
      "metadata": {
        "colab": {
          "base_uri": "https://localhost:8080/"
        },
        "id": "-fNclytQ2JfS",
        "outputId": "34a84063-aa98-4640-c2aa-958ddb7b0e11"
      },
      "execution_count": null,
      "outputs": [
        {
          "output_type": "stream",
          "name": "stderr",
          "text": [
            "  3%|▎         | 1/30 [00:03<01:27,  3.03s/it]"
          ]
        },
        {
          "output_type": "stream",
          "name": "stdout",
          "text": [
            "Epoch: 01 | Epoch Time: 0m 3s\n",
            "\tTrain Loss: 0.639 | Train Acc: 63.54%\n",
            "\t Val. Loss: 0.584 |  Val. Acc: 69.64%\n"
          ]
        },
        {
          "output_type": "stream",
          "name": "stderr",
          "text": [
            "\r  7%|▋         | 2/30 [00:06<01:24,  3.03s/it]"
          ]
        },
        {
          "output_type": "stream",
          "name": "stdout",
          "text": [
            "Epoch: 02 | Epoch Time: 0m 3s\n",
            "\tTrain Loss: 0.548 | Train Acc: 72.86%\n",
            "\t Val. Loss: 0.578 |  Val. Acc: 71.43%\n"
          ]
        },
        {
          "output_type": "stream",
          "name": "stderr",
          "text": [
            "\r 10%|█         | 3/30 [00:08<01:20,  2.98s/it]"
          ]
        },
        {
          "output_type": "stream",
          "name": "stdout",
          "text": [
            "Epoch: 03 | Epoch Time: 0m 2s\n",
            "\tTrain Loss: 0.467 | Train Acc: 80.10%\n",
            "\t Val. Loss: 0.517 |  Val. Acc: 78.57%\n"
          ]
        },
        {
          "output_type": "stream",
          "name": "stderr",
          "text": [
            "\r 13%|█▎        | 4/30 [00:11<01:16,  2.96s/it]"
          ]
        },
        {
          "output_type": "stream",
          "name": "stdout",
          "text": [
            "Epoch: 04 | Epoch Time: 0m 2s\n",
            "\tTrain Loss: 0.408 | Train Acc: 85.64%\n",
            "\t Val. Loss: 0.422 |  Val. Acc: 86.16%\n"
          ]
        },
        {
          "output_type": "stream",
          "name": "stderr",
          "text": [
            "\r 17%|█▋        | 5/30 [00:14<01:13,  2.94s/it]"
          ]
        },
        {
          "output_type": "stream",
          "name": "stdout",
          "text": [
            "Epoch: 05 | Epoch Time: 0m 2s\n",
            "\tTrain Loss: 0.359 | Train Acc: 88.21%\n",
            "\t Val. Loss: 0.380 |  Val. Acc: 88.39%\n"
          ]
        },
        {
          "output_type": "stream",
          "name": "stderr",
          "text": [
            "\r 20%|██        | 6/30 [00:17<01:10,  2.94s/it]"
          ]
        },
        {
          "output_type": "stream",
          "name": "stdout",
          "text": [
            "Epoch: 06 | Epoch Time: 0m 2s\n",
            "\tTrain Loss: 0.320 | Train Acc: 91.01%\n",
            "\t Val. Loss: 0.340 |  Val. Acc: 90.62%\n"
          ]
        },
        {
          "output_type": "stream",
          "name": "stderr",
          "text": [
            "\r 23%|██▎       | 7/30 [00:20<01:08,  2.96s/it]"
          ]
        },
        {
          "output_type": "stream",
          "name": "stdout",
          "text": [
            "Epoch: 07 | Epoch Time: 0m 3s\n",
            "\tTrain Loss: 0.291 | Train Acc: 93.15%\n",
            "\t Val. Loss: 0.330 |  Val. Acc: 92.41%\n"
          ]
        },
        {
          "output_type": "stream",
          "name": "stderr",
          "text": [
            "\r 27%|██▋       | 8/30 [00:23<01:05,  2.97s/it]"
          ]
        },
        {
          "output_type": "stream",
          "name": "stdout",
          "text": [
            "Epoch: 08 | Epoch Time: 0m 2s\n",
            "\tTrain Loss: 0.261 | Train Acc: 95.23%\n",
            "\t Val. Loss: 0.293 |  Val. Acc: 94.20%\n"
          ]
        },
        {
          "output_type": "stream",
          "name": "stderr",
          "text": [
            "\r 30%|███       | 9/30 [00:26<01:01,  2.94s/it]"
          ]
        },
        {
          "output_type": "stream",
          "name": "stdout",
          "text": [
            "Epoch: 09 | Epoch Time: 0m 2s\n",
            "\tTrain Loss: 0.242 | Train Acc: 95.94%\n",
            "\t Val. Loss: 0.306 |  Val. Acc: 94.64%\n"
          ]
        },
        {
          "output_type": "stream",
          "name": "stderr",
          "text": [
            "\r 33%|███▎      | 10/30 [00:29<00:58,  2.92s/it]"
          ]
        },
        {
          "output_type": "stream",
          "name": "stdout",
          "text": [
            "Epoch: 10 | Epoch Time: 0m 2s\n",
            "\tTrain Loss: 0.224 | Train Acc: 96.27%\n",
            "\t Val. Loss: 0.249 |  Val. Acc: 96.43%\n"
          ]
        },
        {
          "output_type": "stream",
          "name": "stderr",
          "text": [
            "\r 37%|███▋      | 11/30 [00:32<00:55,  2.92s/it]"
          ]
        },
        {
          "output_type": "stream",
          "name": "stdout",
          "text": [
            "Epoch: 11 | Epoch Time: 0m 2s\n",
            "\tTrain Loss: 0.204 | Train Acc: 97.26%\n",
            "\t Val. Loss: 0.228 |  Val. Acc: 96.43%\n"
          ]
        },
        {
          "output_type": "stream",
          "name": "stderr",
          "text": [
            "\r 40%|████      | 12/30 [00:35<00:52,  2.92s/it]"
          ]
        },
        {
          "output_type": "stream",
          "name": "stdout",
          "text": [
            "Epoch: 12 | Epoch Time: 0m 2s\n",
            "\tTrain Loss: 0.191 | Train Acc: 97.81%\n",
            "\t Val. Loss: 0.211 |  Val. Acc: 97.32%\n"
          ]
        },
        {
          "output_type": "stream",
          "name": "stderr",
          "text": [
            "\r 43%|████▎     | 13/30 [00:38<00:49,  2.92s/it]"
          ]
        },
        {
          "output_type": "stream",
          "name": "stdout",
          "text": [
            "Epoch: 13 | Epoch Time: 0m 2s\n",
            "\tTrain Loss: 0.175 | Train Acc: 98.57%\n",
            "\t Val. Loss: 0.192 |  Val. Acc: 97.32%\n"
          ]
        },
        {
          "output_type": "stream",
          "name": "stderr",
          "text": [
            "\r 47%|████▋     | 14/30 [00:41<00:46,  2.93s/it]"
          ]
        },
        {
          "output_type": "stream",
          "name": "stdout",
          "text": [
            "Epoch: 14 | Epoch Time: 0m 2s\n",
            "\tTrain Loss: 0.168 | Train Acc: 98.57%\n",
            "\t Val. Loss: 0.203 |  Val. Acc: 97.32%\n"
          ]
        },
        {
          "output_type": "stream",
          "name": "stderr",
          "text": [
            "\r 50%|█████     | 15/30 [00:44<00:43,  2.92s/it]"
          ]
        },
        {
          "output_type": "stream",
          "name": "stdout",
          "text": [
            "Epoch: 15 | Epoch Time: 0m 2s\n",
            "\tTrain Loss: 0.155 | Train Acc: 99.12%\n",
            "\t Val. Loss: 0.183 |  Val. Acc: 97.32%\n"
          ]
        },
        {
          "output_type": "stream",
          "name": "stderr",
          "text": [
            "\r 53%|█████▎    | 16/30 [00:46<00:40,  2.91s/it]"
          ]
        },
        {
          "output_type": "stream",
          "name": "stdout",
          "text": [
            "Epoch: 16 | Epoch Time: 0m 2s\n",
            "\tTrain Loss: 0.143 | Train Acc: 99.01%\n",
            "\t Val. Loss: 0.165 |  Val. Acc: 97.32%\n"
          ]
        },
        {
          "output_type": "stream",
          "name": "stderr",
          "text": [
            "\r 57%|█████▋    | 17/30 [00:49<00:37,  2.90s/it]"
          ]
        },
        {
          "output_type": "stream",
          "name": "stdout",
          "text": [
            "Epoch: 17 | Epoch Time: 0m 2s\n",
            "\tTrain Loss: 0.135 | Train Acc: 99.56%\n",
            "\t Val. Loss: 0.163 |  Val. Acc: 97.77%\n"
          ]
        },
        {
          "output_type": "stream",
          "name": "stderr",
          "text": [
            "\r 60%|██████    | 18/30 [00:52<00:35,  2.92s/it]"
          ]
        },
        {
          "output_type": "stream",
          "name": "stdout",
          "text": [
            "Epoch: 18 | Epoch Time: 0m 2s\n",
            "\tTrain Loss: 0.130 | Train Acc: 99.67%\n",
            "\t Val. Loss: 0.160 |  Val. Acc: 97.77%\n"
          ]
        },
        {
          "output_type": "stream",
          "name": "stderr",
          "text": [
            "\r 63%|██████▎   | 19/30 [00:55<00:32,  2.93s/it]"
          ]
        },
        {
          "output_type": "stream",
          "name": "stdout",
          "text": [
            "Epoch: 19 | Epoch Time: 0m 2s\n",
            "\tTrain Loss: 0.124 | Train Acc: 99.51%\n",
            "\t Val. Loss: 0.141 |  Val. Acc: 98.21%\n"
          ]
        },
        {
          "output_type": "stream",
          "name": "stderr",
          "text": [
            "\r 67%|██████▋   | 20/30 [00:58<00:29,  2.95s/it]"
          ]
        },
        {
          "output_type": "stream",
          "name": "stdout",
          "text": [
            "Epoch: 20 | Epoch Time: 0m 2s\n",
            "\tTrain Loss: 0.119 | Train Acc: 99.62%\n",
            "\t Val. Loss: 0.144 |  Val. Acc: 98.66%\n"
          ]
        },
        {
          "output_type": "stream",
          "name": "stderr",
          "text": [
            "\r 70%|███████   | 21/30 [01:01<00:26,  2.96s/it]"
          ]
        },
        {
          "output_type": "stream",
          "name": "stdout",
          "text": [
            "Epoch: 21 | Epoch Time: 0m 2s\n",
            "\tTrain Loss: 0.112 | Train Acc: 99.78%\n",
            "\t Val. Loss: 0.132 |  Val. Acc: 98.66%\n"
          ]
        },
        {
          "output_type": "stream",
          "name": "stderr",
          "text": [
            "\r 73%|███████▎  | 22/30 [01:04<00:23,  2.97s/it]"
          ]
        },
        {
          "output_type": "stream",
          "name": "stdout",
          "text": [
            "Epoch: 22 | Epoch Time: 0m 2s\n",
            "\tTrain Loss: 0.107 | Train Acc: 99.84%\n",
            "\t Val. Loss: 0.120 |  Val. Acc: 99.11%\n"
          ]
        },
        {
          "output_type": "stream",
          "name": "stderr",
          "text": [
            "\r 77%|███████▋  | 23/30 [01:07<00:20,  2.97s/it]"
          ]
        },
        {
          "output_type": "stream",
          "name": "stdout",
          "text": [
            "Epoch: 23 | Epoch Time: 0m 2s\n",
            "\tTrain Loss: 0.103 | Train Acc: 99.78%\n",
            "\t Val. Loss: 0.123 |  Val. Acc: 99.55%\n"
          ]
        },
        {
          "output_type": "stream",
          "name": "stderr",
          "text": [
            "\r 80%|████████  | 24/30 [01:10<00:17,  2.95s/it]"
          ]
        },
        {
          "output_type": "stream",
          "name": "stdout",
          "text": [
            "Epoch: 24 | Epoch Time: 0m 2s\n",
            "\tTrain Loss: 0.098 | Train Acc: 99.89%\n",
            "\t Val. Loss: 0.114 |  Val. Acc: 99.55%\n"
          ]
        },
        {
          "output_type": "stream",
          "name": "stderr",
          "text": [
            "\r 83%|████████▎ | 25/30 [01:13<00:14,  2.94s/it]"
          ]
        },
        {
          "output_type": "stream",
          "name": "stdout",
          "text": [
            "Epoch: 25 | Epoch Time: 0m 2s\n",
            "\tTrain Loss: 0.094 | Train Acc: 99.95%\n",
            "\t Val. Loss: 0.113 |  Val. Acc: 100.00%\n"
          ]
        },
        {
          "output_type": "stream",
          "name": "stderr",
          "text": [
            "\r 87%|████████▋ | 26/30 [01:16<00:11,  2.95s/it]"
          ]
        },
        {
          "output_type": "stream",
          "name": "stdout",
          "text": [
            "Epoch: 26 | Epoch Time: 0m 2s\n",
            "\tTrain Loss: 0.090 | Train Acc: 99.89%\n",
            "\t Val. Loss: 0.113 |  Val. Acc: 100.00%\n"
          ]
        },
        {
          "output_type": "stream",
          "name": "stderr",
          "text": [
            "\r 90%|█████████ | 27/30 [01:19<00:08,  2.94s/it]"
          ]
        },
        {
          "output_type": "stream",
          "name": "stdout",
          "text": [
            "Epoch: 27 | Epoch Time: 0m 2s\n",
            "\tTrain Loss: 0.086 | Train Acc: 100.00%\n",
            "\t Val. Loss: 0.110 |  Val. Acc: 100.00%\n"
          ]
        },
        {
          "output_type": "stream",
          "name": "stderr",
          "text": [
            "\r 93%|█████████▎| 28/30 [01:22<00:05,  2.93s/it]"
          ]
        },
        {
          "output_type": "stream",
          "name": "stdout",
          "text": [
            "Epoch: 28 | Epoch Time: 0m 2s\n",
            "\tTrain Loss: 0.084 | Train Acc: 99.95%\n",
            "\t Val. Loss: 0.106 |  Val. Acc: 100.00%\n"
          ]
        },
        {
          "output_type": "stream",
          "name": "stderr",
          "text": [
            "\r 97%|█████████▋| 29/30 [01:25<00:02,  2.94s/it]"
          ]
        },
        {
          "output_type": "stream",
          "name": "stdout",
          "text": [
            "Epoch: 29 | Epoch Time: 0m 2s\n",
            "\tTrain Loss: 0.080 | Train Acc: 99.95%\n",
            "\t Val. Loss: 0.101 |  Val. Acc: 100.00%\n"
          ]
        },
        {
          "output_type": "stream",
          "name": "stderr",
          "text": [
            "100%|██████████| 30/30 [01:28<00:00,  2.94s/it]"
          ]
        },
        {
          "output_type": "stream",
          "name": "stdout",
          "text": [
            "Epoch: 30 | Epoch Time: 0m 2s\n",
            "\tTrain Loss: 0.078 | Train Acc: 99.95%\n",
            "\t Val. Loss: 0.092 |  Val. Acc: 100.00%\n"
          ]
        },
        {
          "output_type": "stream",
          "name": "stderr",
          "text": [
            "\n"
          ]
        }
      ]
    },
    {
      "cell_type": "code",
      "source": [
        "criterion = nn.CrossEntropyLoss()\n",
        "criterion = criterion.to(device)\n",
        "\n",
        "model.load_state_dict(torch.load('/content/cv-babysitting-model.pt'))\n",
        "model = model.to(device)"
      ],
      "metadata": {
        "id": "tyCTBjpo2KFf"
      },
      "execution_count": null,
      "outputs": []
    },
    {
      "cell_type": "code",
      "source": [
        "test_loss, test_acc = evaluate(model, test_data, criterion, device)\n",
        "print(f'Test Accuracy: {test_acc} | Test Loss: {test_loss}')"
      ],
      "metadata": {
        "colab": {
          "base_uri": "https://localhost:8080/"
        },
        "id": "7twtNO4d2MMF",
        "outputId": "03669a4b-ee86-4537-ed65-5fcaba2c32ce"
      },
      "execution_count": null,
      "outputs": [
        {
          "output_type": "stream",
          "name": "stdout",
          "text": [
            "Test Accuracy: 0.9910714285714286 | Test Loss: 0.15567311538117273\n"
          ]
        }
      ]
    }
  ]
}
